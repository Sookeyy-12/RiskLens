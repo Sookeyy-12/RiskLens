{
 "cells": [
  {
   "cell_type": "markdown",
   "id": "b40f16a0",
   "metadata": {},
   "source": [
    "# Testing Stuff related to Volatility"
   ]
  },
  {
   "cell_type": "code",
   "execution_count": 1,
   "id": "9d2860f1",
   "metadata": {},
   "outputs": [],
   "source": [
    "from src import data_fetcher\n",
    "import pandas as pd"
   ]
  },
  {
   "cell_type": "code",
   "execution_count": 2,
   "id": "32f18dda",
   "metadata": {},
   "outputs": [
    {
     "name": "stderr",
     "output_type": "stream",
     "text": [
      "[*********************100%***********************]  2 of 2 completed\n",
      "\n"
     ]
    },
    {
     "data": {
      "text/html": [
       "<div>\n",
       "<style scoped>\n",
       "    .dataframe tbody tr th:only-of-type {\n",
       "        vertical-align: middle;\n",
       "    }\n",
       "\n",
       "    .dataframe tbody tr th {\n",
       "        vertical-align: top;\n",
       "    }\n",
       "\n",
       "    .dataframe thead th {\n",
       "        text-align: right;\n",
       "    }\n",
       "</style>\n",
       "<table border=\"1\" class=\"dataframe\">\n",
       "  <thead>\n",
       "    <tr style=\"text-align: right;\">\n",
       "      <th></th>\n",
       "      <th>Price</th>\n",
       "      <th>Open</th>\n",
       "      <th>High</th>\n",
       "      <th>Low</th>\n",
       "      <th>Close</th>\n",
       "      <th>Adj Close</th>\n",
       "      <th>Volume</th>\n",
       "    </tr>\n",
       "    <tr>\n",
       "      <th>Date</th>\n",
       "      <th>Ticker</th>\n",
       "      <th></th>\n",
       "      <th></th>\n",
       "      <th></th>\n",
       "      <th></th>\n",
       "      <th></th>\n",
       "      <th></th>\n",
       "    </tr>\n",
       "  </thead>\n",
       "  <tbody>\n",
       "    <tr>\n",
       "      <th>2024-01-02</th>\n",
       "      <th>NVDA</th>\n",
       "      <td>49.243999</td>\n",
       "      <td>49.294998</td>\n",
       "      <td>47.595001</td>\n",
       "      <td>48.167999</td>\n",
       "      <td>48.146572</td>\n",
       "      <td>411254000</td>\n",
       "    </tr>\n",
       "    <tr>\n",
       "      <th>2024-01-03</th>\n",
       "      <th>NVDA</th>\n",
       "      <td>47.485001</td>\n",
       "      <td>48.183998</td>\n",
       "      <td>47.320000</td>\n",
       "      <td>47.569000</td>\n",
       "      <td>47.547840</td>\n",
       "      <td>320896000</td>\n",
       "    </tr>\n",
       "    <tr>\n",
       "      <th>2024-01-04</th>\n",
       "      <th>NVDA</th>\n",
       "      <td>47.766998</td>\n",
       "      <td>48.500000</td>\n",
       "      <td>47.507999</td>\n",
       "      <td>47.998001</td>\n",
       "      <td>47.976650</td>\n",
       "      <td>306535000</td>\n",
       "    </tr>\n",
       "    <tr>\n",
       "      <th>2024-01-05</th>\n",
       "      <th>NVDA</th>\n",
       "      <td>48.462002</td>\n",
       "      <td>49.547001</td>\n",
       "      <td>48.306000</td>\n",
       "      <td>49.097000</td>\n",
       "      <td>49.075153</td>\n",
       "      <td>415039000</td>\n",
       "    </tr>\n",
       "    <tr>\n",
       "      <th>2024-01-08</th>\n",
       "      <th>NVDA</th>\n",
       "      <td>49.512001</td>\n",
       "      <td>52.275002</td>\n",
       "      <td>49.479000</td>\n",
       "      <td>52.252998</td>\n",
       "      <td>52.229752</td>\n",
       "      <td>642510000</td>\n",
       "    </tr>\n",
       "  </tbody>\n",
       "</table>\n",
       "</div>"
      ],
      "text/plain": [
       "Price                   Open       High        Low      Close  Adj Close  \\\n",
       "Date       Ticker                                                          \n",
       "2024-01-02 NVDA    49.243999  49.294998  47.595001  48.167999  48.146572   \n",
       "2024-01-03 NVDA    47.485001  48.183998  47.320000  47.569000  47.547840   \n",
       "2024-01-04 NVDA    47.766998  48.500000  47.507999  47.998001  47.976650   \n",
       "2024-01-05 NVDA    48.462002  49.547001  48.306000  49.097000  49.075153   \n",
       "2024-01-08 NVDA    49.512001  52.275002  49.479000  52.252998  52.229752   \n",
       "\n",
       "Price                 Volume  \n",
       "Date       Ticker             \n",
       "2024-01-02 NVDA    411254000  \n",
       "2024-01-03 NVDA    320896000  \n",
       "2024-01-04 NVDA    306535000  \n",
       "2024-01-05 NVDA    415039000  \n",
       "2024-01-08 NVDA    642510000  "
      ]
     },
     "execution_count": 2,
     "metadata": {},
     "output_type": "execute_result"
    }
   ],
   "source": [
    "data : pd.MultiIndex = data_fetcher.fetch_ohlcv([\"NVDA\", \"AAPL\"], \"2024-01-01\", \"2024-12-31\")\n",
    "data.to_excel(\"NVDA_AAPL_ohlcv.xlsx\")\n",
    "data.head()"
   ]
  },
  {
   "cell_type": "code",
   "execution_count": 3,
   "id": "895ab3fe",
   "metadata": {},
   "outputs": [
    {
     "data": {
      "text/plain": [
       "Date        Ticker\n",
       "2024-01-02  NVDA      48.146572\n",
       "2024-01-03  NVDA      47.547840\n",
       "2024-01-04  NVDA      47.976650\n",
       "2024-01-05  NVDA      49.075153\n",
       "2024-01-08  NVDA      52.229752\n",
       "Name: Adj Close, dtype: float64"
      ]
     },
     "execution_count": 3,
     "metadata": {},
     "output_type": "execute_result"
    }
   ],
   "source": [
    "data['Adj Close'].head()"
   ]
  },
  {
   "cell_type": "code",
   "execution_count": 4,
   "id": "aa536b35",
   "metadata": {},
   "outputs": [
    {
     "data": {
      "text/plain": [
       "Date        Ticker\n",
       "2024-01-02  NVDA           NaN\n",
       "2024-01-03  NVDA     -0.012436\n",
       "2024-01-04  NVDA      0.009018\n",
       "2024-01-05  NVDA      0.022897\n",
       "2024-01-08  NVDA      0.064281\n",
       "                        ...   \n",
       "2024-12-23  AAPL      0.003065\n",
       "2024-12-24  AAPL      0.011478\n",
       "2024-12-26  AAPL      0.003176\n",
       "2024-12-27  AAPL     -0.013242\n",
       "2024-12-30  AAPL     -0.013263\n",
       "Name: Adj Close, Length: 502, dtype: float64"
      ]
     },
     "execution_count": 4,
     "metadata": {},
     "output_type": "execute_result"
    }
   ],
   "source": [
    "daily_return_pct = data['Adj Close'].pct_change()\n",
    "daily_return_pct"
   ]
  },
  {
   "cell_type": "code",
   "execution_count": 5,
   "id": "760754f1",
   "metadata": {},
   "outputs": [
    {
     "data": {
      "text/plain": [
       "Date        Ticker\n",
       "2024-01-02  NVDA           NaN\n",
       "2024-01-03  NVDA     -0.012514\n",
       "2024-01-04  NVDA      0.008978\n",
       "2024-01-05  NVDA      0.022638\n",
       "2024-01-08  NVDA      0.062299\n",
       "                        ...   \n",
       "2024-12-23  AAPL      0.003060\n",
       "2024-12-24  AAPL      0.011413\n",
       "2024-12-26  AAPL      0.003171\n",
       "2024-12-27  AAPL     -0.013331\n",
       "2024-12-30  AAPL     -0.013352\n",
       "Name: Adj Close, Length: 502, dtype: float64"
      ]
     },
     "execution_count": 5,
     "metadata": {},
     "output_type": "execute_result"
    }
   ],
   "source": [
    "import numpy as np\n",
    "daily_return_log = np.log(data['Adj Close'] / data['Adj Close'].shift(1))\n",
    "daily_return_log"
   ]
  },
  {
   "cell_type": "markdown",
   "id": "7f6090c1",
   "metadata": {},
   "source": [
    "### DataFlow Example"
   ]
  },
  {
   "cell_type": "code",
   "execution_count": 6,
   "id": "0cac1da3",
   "metadata": {},
   "outputs": [],
   "source": [
    "from src.volatility import volatility_summary"
   ]
  },
  {
   "cell_type": "code",
   "execution_count": 7,
   "id": "c3a70877",
   "metadata": {},
   "outputs": [
    {
     "name": "stderr",
     "output_type": "stream",
     "text": [
      "[*********************100%***********************]  3 of 3 completed\n",
      "\n",
      "[*********************100%***********************]  1 of 1 completed\n",
      "[*********************100%***********************]  1 of 1 completed\n"
     ]
    }
   ],
   "source": [
    "tickers = ['AAPL', 'MSFT', 'NVDA']\n",
    "ohlcv_data = data_fetcher.fetch_ohlcv(tickers, \"2024-01-01\", \"2024-12-31\")\n",
    "sector_map = data_fetcher.get_sector_mapping(tickers)\n",
    "benchmark_df = data_fetcher.fetch_index_data(\"^GSPC\", \"2024-01-01\", \"2024-12-31\")"
   ]
  },
  {
   "cell_type": "code",
   "execution_count": 8,
   "id": "ab532364",
   "metadata": {},
   "outputs": [
    {
     "name": "stdout",
     "output_type": "stream",
     "text": [
      "sector_map:\n",
      "  Ticker      Sector\n",
      "0   AAPL  Technology\n",
      "1   MSFT  Technology\n",
      "2   NVDA  Technology\n",
      "\n",
      "Type: <class 'pandas.core.frame.DataFrame'>\n",
      "Shape: (3, 2)\n",
      "Columns: ['Ticker', 'Sector']\n",
      "Index: RangeIndex(start=0, stop=3, step=1)\n",
      "Data types: Ticker    object\n",
      "Sector    object\n",
      "dtype: object\n"
     ]
    }
   ],
   "source": [
    "print(\"sector_map:\")\n",
    "print(sector_map)\n",
    "print(f\"\\nType: {type(sector_map)}\")\n",
    "print(f\"Shape: {sector_map.shape}\")\n",
    "print(f\"Columns: {sector_map.columns.tolist()}\")\n",
    "print(f\"Index: {sector_map.index}\")\n",
    "print(f\"Data types: {sector_map.dtypes}\")"
   ]
  },
  {
   "cell_type": "code",
   "execution_count": 9,
   "id": "bb9b23b7",
   "metadata": {},
   "outputs": [
    {
     "name": "stdout",
     "output_type": "stream",
     "text": [
      "ohlcv_data structure:\n",
      "Type: <class 'pandas.core.frame.DataFrame'>\n",
      "Index: MultiIndex([('2024-01-02', 'AAPL'),\n",
      "            ('2024-01-03', 'AAPL'),\n",
      "            ('2024-01-04', 'AAPL'),\n",
      "            ('2024-01-05', 'AAPL'),\n",
      "            ('2024-01-08', 'AAPL'),\n",
      "            ('2024-01-09', 'AAPL'),\n",
      "            ('2024-01-10', 'AAPL'),\n",
      "            ('2024-01-11', 'AAPL'),\n",
      "            ('2024-01-12', 'AAPL'),\n",
      "            ('2024-01-16', 'AAPL'),\n",
      "            ...\n",
      "            ('2024-12-16', 'NVDA'),\n",
      "            ('2024-12-17', 'NVDA'),\n",
      "            ('2024-12-18', 'NVDA'),\n",
      "            ('2024-12-19', 'NVDA'),\n",
      "            ('2024-12-20', 'NVDA'),\n",
      "            ('2024-12-23', 'NVDA'),\n",
      "            ('2024-12-24', 'NVDA'),\n",
      "            ('2024-12-26', 'NVDA'),\n",
      "            ('2024-12-27', 'NVDA'),\n",
      "            ('2024-12-30', 'NVDA')],\n",
      "           names=['Date', 'Ticker'], length=753)\n",
      "Columns: Index(['Open', 'High', 'Low', 'Close', 'Adj Close', 'Volume'], dtype='object', name='Price')\n",
      "\n",
      "First few rows:\n",
      "Price                    Open        High         Low       Close   Adj Close  \\\n",
      "Date       Ticker                                                               \n",
      "2024-01-02 AAPL    187.149994  188.440002  183.889999  185.639999  184.081482   \n",
      "2024-01-03 AAPL    184.220001  185.880005  183.429993  184.250000  182.703186   \n",
      "2024-01-04 AAPL    182.149994  183.089996  180.880005  181.910004  180.382812   \n",
      "2024-01-05 AAPL    181.990005  182.759995  180.169998  181.179993  179.658936   \n",
      "2024-01-08 AAPL    182.089996  185.600006  181.500000  185.559998  184.002167   \n",
      "\n",
      "Price                Volume  \n",
      "Date       Ticker            \n",
      "2024-01-02 AAPL    82488700  \n",
      "2024-01-03 AAPL    58414500  \n",
      "2024-01-04 AAPL    71983600  \n",
      "2024-01-05 AAPL    62379700  \n",
      "2024-01-08 AAPL    59144500  \n",
      "\n",
      "historical_volatility output:\n",
      "Type: <class 'pandas.core.series.Series'>\n",
      "Shape: (753,)\n",
      "Index: MultiIndex([('2024-01-02', 'AAPL'),\n",
      "            ('2024-01-03', 'AAPL'),\n",
      "            ('2024-01-04', 'AAPL'),\n",
      "            ('2024-01-05', 'AAPL'),\n",
      "            ('2024-01-08', 'AAPL'),\n",
      "            ('2024-01-09', 'AAPL'),\n",
      "            ('2024-01-10', 'AAPL'),\n",
      "            ('2024-01-11', 'AAPL'),\n",
      "            ('2024-01-12', 'AAPL'),\n",
      "            ('2024-01-16', 'AAPL'),\n",
      "            ...\n",
      "            ('2024-12-16', 'NVDA'),\n",
      "            ('2024-12-17', 'NVDA'),\n",
      "            ('2024-12-18', 'NVDA'),\n",
      "            ('2024-12-19', 'NVDA'),\n",
      "            ('2024-12-20', 'NVDA'),\n",
      "            ('2024-12-23', 'NVDA'),\n",
      "            ('2024-12-24', 'NVDA'),\n",
      "            ('2024-12-26', 'NVDA'),\n",
      "            ('2024-12-27', 'NVDA'),\n",
      "            ('2024-12-30', 'NVDA')],\n",
      "           names=['Date', 'Ticker'], length=753)\n",
      "Sample values:\n",
      "Date        Ticker\n",
      "2024-12-23  NVDA      0.367499\n",
      "2024-12-24  NVDA      0.333764\n",
      "2024-12-26  NVDA      0.333502\n",
      "2024-12-27  NVDA      0.339849\n",
      "2024-12-30  NVDA      0.331227\n",
      "Name: Adj Close, dtype: float64\n"
     ]
    }
   ],
   "source": [
    "# Let's check the ohlcv_data structure and test historical_volatility directly\n",
    "print(\"ohlcv_data structure:\")\n",
    "print(f\"Type: {type(ohlcv_data)}\")\n",
    "print(f\"Index: {ohlcv_data.index}\")\n",
    "print(f\"Columns: {ohlcv_data.columns}\")\n",
    "print(\"\\nFirst few rows:\")\n",
    "print(ohlcv_data.head())\n",
    "\n",
    "# Test historical volatility function directly\n",
    "from src.volatility import historical_volatility\n",
    "hist_vol = historical_volatility(ohlcv_data, window=20)\n",
    "print(f\"\\nhistorical_volatility output:\")\n",
    "print(f\"Type: {type(hist_vol)}\")\n",
    "print(f\"Shape: {hist_vol.shape}\")\n",
    "print(f\"Index: {hist_vol.index}\")\n",
    "print(\"Sample values:\")\n",
    "print(hist_vol.tail())"
   ]
  },
  {
   "cell_type": "code",
   "execution_count": 10,
   "id": "1bf040b0",
   "metadata": {},
   "outputs": [
    {
     "name": "stdout",
     "output_type": "stream",
     "text": [
      "hist_vol type: <class 'pandas.core.series.Series'>\n",
      "hist_vol index type: <class 'pandas.core.indexes.multi.MultiIndex'>\n",
      "\n",
      "ticker_vol after groupby:\n",
      "Ticker\n",
      "AAPL    0.162911\n",
      "MSFT    0.201190\n",
      "NVDA    0.331227\n",
      "Name: Adj Close, dtype: float64\n",
      "ticker_vol index: Index(['AAPL', 'MSFT', 'NVDA'], dtype='object', name='Ticker')\n",
      "\n",
      "vol_df after conversion:\n",
      "  Ticker  Volatility\n",
      "0   AAPL    0.162911\n",
      "1   MSFT    0.201190\n",
      "2   NVDA    0.331227\n",
      "\n",
      "sector_map structure:\n",
      "  Ticker      Sector\n",
      "0   AAPL  Technology\n",
      "1   MSFT  Technology\n",
      "2   NVDA  Technology\n",
      "\n",
      "Merge successful!\n",
      "  Ticker  Volatility      Sector\n",
      "0   AAPL    0.162911  Technology\n",
      "1   MSFT    0.201190  Technology\n",
      "2   NVDA    0.331227  Technology\n"
     ]
    }
   ],
   "source": [
    "# Debug the sector_volatility function step by step\n",
    "from src.volatility import sector_volatility\n",
    "\n",
    "# Test just the transformation part\n",
    "hist_vol = historical_volatility(ohlcv_data, window=20)\n",
    "print(\"hist_vol type:\", type(hist_vol))\n",
    "print(\"hist_vol index type:\", type(hist_vol.index))\n",
    "\n",
    "# Get the latest value for each ticker\n",
    "if isinstance(hist_vol.index, pd.MultiIndex):\n",
    "    ticker_vol = hist_vol.groupby(level=1).last().dropna()\n",
    "    print(\"\\nticker_vol after groupby:\")\n",
    "    print(ticker_vol)\n",
    "    print(\"ticker_vol index:\", ticker_vol.index)\n",
    "    \n",
    "    # Convert to DataFrame\n",
    "    vol_df = ticker_vol.to_frame('Volatility')\n",
    "    vol_df.index.name = 'Ticker'\n",
    "    vol_df = vol_df.reset_index()\n",
    "    print(\"\\nvol_df after conversion:\")\n",
    "    print(vol_df)\n",
    "    \n",
    "    print(\"\\nsector_map structure:\")\n",
    "    print(sector_map)\n",
    "    \n",
    "    # Try the merge\n",
    "    try:\n",
    "        merged_df = vol_df.merge(sector_map, on='Ticker', how='left')\n",
    "        print(\"\\nMerge successful!\")\n",
    "        print(merged_df)\n",
    "    except Exception as e:\n",
    "        print(f\"\\nMerge failed: {e}\")\n",
    "        print(f\"vol_df columns: {vol_df.columns}\")\n",
    "        print(f\"sector_map columns: {sector_map.columns}\")\n",
    "        print(f\"vol_df column levels: {vol_df.columns.nlevels}\")\n",
    "        print(f\"sector_map column levels: {sector_map.columns.nlevels}\")"
   ]
  },
  {
   "cell_type": "code",
   "execution_count": 11,
   "id": "9b71f422",
   "metadata": {},
   "outputs": [],
   "source": [
    "from src import volatility"
   ]
  },
  {
   "cell_type": "code",
   "execution_count": 12,
   "id": "9adb0615",
   "metadata": {},
   "outputs": [
    {
     "name": "stderr",
     "output_type": "stream",
     "text": [
      "C:\\Users\\KIIT\\Desktop\\Everything Code\\Quant\\RiskLens\\src\\volatility.py:152: FutureWarning: 'M' is deprecated and will be removed in a future version, please use 'ME' instead.\n",
      "  vol_pivot = vol_pivot.resample(freq).last()\n"
     ]
    }
   ],
   "source": [
    "heatmap1 = volatility.prepare_time_volatility_heatmap(ohlcv_data, window=30, freq='M')"
   ]
  },
  {
   "cell_type": "code",
   "execution_count": 13,
   "id": "49ad7f53",
   "metadata": {},
   "outputs": [
    {
     "data": {
      "text/plain": [
       "<module 'src.volatility' from 'C:\\\\Users\\\\KIIT\\\\Desktop\\\\Everything Code\\\\Quant\\\\RiskLens\\\\src\\\\volatility.py'>"
      ]
     },
     "execution_count": 13,
     "metadata": {},
     "output_type": "execute_result"
    }
   ],
   "source": [
    "# Import the updated volatility module\n",
    "from src import volatility\n",
    "import importlib\n",
    "importlib.reload(volatility)"
   ]
  },
  {
   "cell_type": "code",
   "execution_count": 14,
   "id": "676f8a36",
   "metadata": {},
   "outputs": [
    {
     "name": "stdout",
     "output_type": "stream",
     "text": [
      "=== Time-based Volatility Heatmap ===\n",
      "Shape: (12, 3)\n",
      "Index (Time): DatetimeIndex(['2024-01-31', '2024-02-29', '2024-03-31', '2024-04-30',\n",
      "               '2024-05-31', '2024-06-30', '2024-07-31', '2024-08-31',\n",
      "               '2024-09-30', '2024-10-31', '2024-11-30', '2024-12-31'],\n",
      "              dtype='datetime64[ns]', name='Date', freq='ME')\n",
      "Columns (Tickers): Index(['AAPL', 'MSFT', 'NVDA'], dtype='object', name='Ticker')\n",
      "\n",
      "Sample data:\n",
      "Ticker          AAPL      MSFT      NVDA\n",
      "Date                                    \n",
      "2024-01-31       NaN  1.334960  2.606513\n",
      "2024-02-29  0.174913  0.194605  0.575815\n",
      "2024-03-31  0.212968  0.195070  0.640992\n",
      "2024-04-30  0.254091  0.198502  0.511645\n",
      "2024-05-31  0.236263  0.220602  0.600486\n"
     ]
    },
    {
     "name": "stderr",
     "output_type": "stream",
     "text": [
      "C:\\Users\\KIIT\\Desktop\\Everything Code\\Quant\\RiskLens\\src\\volatility.py:152: FutureWarning: 'M' is deprecated and will be removed in a future version, please use 'ME' instead.\n",
      "  vol_pivot = vol_pivot.resample(freq).last()\n"
     ]
    }
   ],
   "source": [
    "# Test 1: Time-based volatility heatmap (X: Time, Y: Tickers)\n",
    "print(\"=== Time-based Volatility Heatmap ===\")\n",
    "time_heatmap = volatility.prepare_time_volatility_heatmap(ohlcv_data, window=30, freq='M')\n",
    "print(f\"Shape: {time_heatmap.shape}\")\n",
    "print(f\"Index (Time): {time_heatmap.index}\")\n",
    "print(f\"Columns (Tickers): {time_heatmap.columns}\")\n",
    "print(\"\\nSample data:\")\n",
    "print(time_heatmap.head())"
   ]
  },
  {
   "cell_type": "code",
   "execution_count": 15,
   "id": "ccddf060",
   "metadata": {},
   "outputs": [
    {
     "name": "stdout",
     "output_type": "stream",
     "text": [
      "=== Cross-sectional Volatility Heatmap ===\n",
      "Shape: (3, 4)\n",
      "Index (Tickers): Index(['AAPL', 'MSFT', 'NVDA'], dtype='object')\n",
      "Columns (Vol Measures): Index(['Historical Vol', 'Parkinson Vol', 'Garman-Klass Vol', 'Beta-Adj Vol'], dtype='object')\n",
      "\n",
      "Data:\n",
      "      Historical Vol  Parkinson Vol  Garman-Klass Vol  Beta-Adj Vol\n",
      "AAPL        0.151543       1.182974          0.122430      0.127288\n",
      "MSFT        0.200878       1.251927          0.146575      0.155642\n",
      "NVDA        0.364521       1.816383          0.473937      0.294483\n",
      "Shape: (3, 4)\n",
      "Index (Tickers): Index(['AAPL', 'MSFT', 'NVDA'], dtype='object')\n",
      "Columns (Vol Measures): Index(['Historical Vol', 'Parkinson Vol', 'Garman-Klass Vol', 'Beta-Adj Vol'], dtype='object')\n",
      "\n",
      "Data:\n",
      "      Historical Vol  Parkinson Vol  Garman-Klass Vol  Beta-Adj Vol\n",
      "AAPL        0.151543       1.182974          0.122430      0.127288\n",
      "MSFT        0.200878       1.251927          0.146575      0.155642\n",
      "NVDA        0.364521       1.816383          0.473937      0.294483\n"
     ]
    }
   ],
   "source": [
    "# Test 2: Cross-sectional volatility comparison (X: Vol Measures, Y: Tickers)\n",
    "print(\"=== Cross-sectional Volatility Heatmap ===\")\n",
    "cross_sectional_heatmap = volatility.prepare_cross_sectional_heatmap(ohlcv_data, benchmark_df, window=30)\n",
    "print(f\"Shape: {cross_sectional_heatmap.shape}\")\n",
    "print(f\"Index (Tickers): {cross_sectional_heatmap.index}\")\n",
    "print(f\"Columns (Vol Measures): {cross_sectional_heatmap.columns}\")\n",
    "print(\"\\nData:\")\n",
    "print(cross_sectional_heatmap)"
   ]
  },
  {
   "cell_type": "code",
   "execution_count": 16,
   "id": "88bb1f3a",
   "metadata": {},
   "outputs": [
    {
     "name": "stdout",
     "output_type": "stream",
     "text": [
      "=== Sector Volatility Heatmap ===\n",
      "Shape: (1, 3)\n",
      "Index (Sectors): Index(['Technology'], dtype='object')\n",
      "Columns (Vol Measures): Index(['Historical Vol', 'Parkinson Vol', 'Garman-Klass Vol'], dtype='object')\n",
      "\n",
      "Data:\n",
      "            Historical Vol  Parkinson Vol  Garman-Klass Vol\n",
      "Technology        0.238981       1.417095          0.247647\n"
     ]
    }
   ],
   "source": [
    "# Test 3: Sector volatility heatmap (X: Vol Measures, Y: Sectors)\n",
    "print(\"=== Sector Volatility Heatmap ===\")\n",
    "sector_heatmap = volatility.prepare_sector_volatility_heatmap(ohlcv_data, sector_map, window=30)\n",
    "print(f\"Shape: {sector_heatmap.shape}\")\n",
    "print(f\"Index (Sectors): {sector_heatmap.index}\")\n",
    "print(f\"Columns (Vol Measures): {sector_heatmap.columns}\")\n",
    "print(\"\\nData:\")\n",
    "print(sector_heatmap)"
   ]
  },
  {
   "cell_type": "code",
   "execution_count": 17,
   "id": "2f2862c7",
   "metadata": {},
   "outputs": [
    {
     "name": "stdout",
     "output_type": "stream",
     "text": [
      "=== Volatility Correlation Heatmap ===\n",
      "Shape: (3, 3)\n",
      "Index (Tickers): Index(['AAPL', 'MSFT', 'NVDA'], dtype='object')\n",
      "Columns (Tickers): Index(['AAPL', 'MSFT', 'NVDA'], dtype='object')\n",
      "\n",
      "Correlation Matrix:\n",
      "          AAPL      MSFT      NVDA\n",
      "AAPL  1.000000 -0.277102  0.284486\n",
      "MSFT -0.277102  1.000000  0.100301\n",
      "NVDA  0.284486  0.100301  1.000000\n"
     ]
    }
   ],
   "source": [
    "# Test 4: Volatility correlation heatmap (X: Tickers, Y: Tickers)\n",
    "print(\"=== Volatility Correlation Heatmap ===\")\n",
    "correlation_heatmap = volatility.prepare_correlation_heatmap(ohlcv_data, window=30)\n",
    "print(f\"Shape: {correlation_heatmap.shape}\")\n",
    "print(f\"Index (Tickers): {correlation_heatmap.index}\")\n",
    "print(f\"Columns (Tickers): {correlation_heatmap.columns}\")\n",
    "print(\"\\nCorrelation Matrix:\")\n",
    "print(correlation_heatmap)"
   ]
  },
  {
   "cell_type": "markdown",
   "id": "c146b63b",
   "metadata": {},
   "source": [
    "## Heatmap Visualization Examples\n",
    "\n",
    "Now let's create actual heatmap visualizations using plotly or seaborn."
   ]
  },
  {
   "cell_type": "code",
   "execution_count": 18,
   "id": "c3ddf19e",
   "metadata": {},
   "outputs": [
    {
     "data": {
      "application/vnd.plotly.v1+json": {
       "config": {
        "plotlyServerURL": "https://plot.ly"
       },
       "data": [
        {
         "colorscale": [
          [
           0,
           "rgb(49,54,149)"
          ],
          [
           0.1,
           "rgb(69,117,180)"
          ],
          [
           0.2,
           "rgb(116,173,209)"
          ],
          [
           0.3,
           "rgb(171,217,233)"
          ],
          [
           0.4,
           "rgb(224,243,248)"
          ],
          [
           0.5,
           "rgb(255,255,191)"
          ],
          [
           0.6,
           "rgb(254,224,144)"
          ],
          [
           0.7,
           "rgb(253,174,97)"
          ],
          [
           0.8,
           "rgb(244,109,67)"
          ],
          [
           0.9,
           "rgb(215,48,39)"
          ],
          [
           1,
           "rgb(165,0,38)"
          ]
         ],
         "hoverongaps": false,
         "type": "heatmap",
         "x": [
          "AAPL",
          "MSFT",
          "NVDA"
         ],
         "y": [
          "2024-01",
          "2024-02",
          "2024-03",
          "2024-04",
          "2024-05",
          "2024-06",
          "2024-07",
          "2024-08",
          "2024-09",
          "2024-10",
          "2024-11",
          "2024-12"
         ],
         "z": {
          "bdata": "AAAAAAAA+H8Voekp/1v1P/qfaoUj2gRAZFElKYljxj9fcQZT0OjIP2o9kk4TbeI/+n1Xm4ZCyz+7PN4wEfjIP07zjqwCg+Q/mZP9RAZD0D/esdsRgGjJP40dB3JkX+A/6JhCM9s9zj9A3RzjsjzMP+LWlgIvN+M/gAO2cWcd0j+tgFWRzJrEP7EBX5m2vuE/mqne8uGSzj9yVh4NWIPKP4aL1DTVLOY/PilGVBz3yz86ddC7ul/MP38A00x1Aug/EDFjXcikyT9gF8n1eNvFPxWFzKU87+E/EXEw1GhcyT+ja4UQXWHMP+mcVHl4V9g/kz/X2m8pxT+vBvRv3MnPP0gukO2wUtg/lAQS5cZlwz8ViHtzYLbJP7aP61NRVNc/",
          "dtype": "f8",
          "shape": "12, 3"
         }
        }
       ],
       "layout": {
        "height": 500,
        "template": {
         "data": {
          "bar": [
           {
            "error_x": {
             "color": "#2a3f5f"
            },
            "error_y": {
             "color": "#2a3f5f"
            },
            "marker": {
             "line": {
              "color": "#E5ECF6",
              "width": 0.5
             },
             "pattern": {
              "fillmode": "overlay",
              "size": 10,
              "solidity": 0.2
             }
            },
            "type": "bar"
           }
          ],
          "barpolar": [
           {
            "marker": {
             "line": {
              "color": "#E5ECF6",
              "width": 0.5
             },
             "pattern": {
              "fillmode": "overlay",
              "size": 10,
              "solidity": 0.2
             }
            },
            "type": "barpolar"
           }
          ],
          "carpet": [
           {
            "aaxis": {
             "endlinecolor": "#2a3f5f",
             "gridcolor": "white",
             "linecolor": "white",
             "minorgridcolor": "white",
             "startlinecolor": "#2a3f5f"
            },
            "baxis": {
             "endlinecolor": "#2a3f5f",
             "gridcolor": "white",
             "linecolor": "white",
             "minorgridcolor": "white",
             "startlinecolor": "#2a3f5f"
            },
            "type": "carpet"
           }
          ],
          "choropleth": [
           {
            "colorbar": {
             "outlinewidth": 0,
             "ticks": ""
            },
            "type": "choropleth"
           }
          ],
          "contour": [
           {
            "colorbar": {
             "outlinewidth": 0,
             "ticks": ""
            },
            "colorscale": [
             [
              0,
              "#0d0887"
             ],
             [
              0.1111111111111111,
              "#46039f"
             ],
             [
              0.2222222222222222,
              "#7201a8"
             ],
             [
              0.3333333333333333,
              "#9c179e"
             ],
             [
              0.4444444444444444,
              "#bd3786"
             ],
             [
              0.5555555555555556,
              "#d8576b"
             ],
             [
              0.6666666666666666,
              "#ed7953"
             ],
             [
              0.7777777777777778,
              "#fb9f3a"
             ],
             [
              0.8888888888888888,
              "#fdca26"
             ],
             [
              1,
              "#f0f921"
             ]
            ],
            "type": "contour"
           }
          ],
          "contourcarpet": [
           {
            "colorbar": {
             "outlinewidth": 0,
             "ticks": ""
            },
            "type": "contourcarpet"
           }
          ],
          "heatmap": [
           {
            "colorbar": {
             "outlinewidth": 0,
             "ticks": ""
            },
            "colorscale": [
             [
              0,
              "#0d0887"
             ],
             [
              0.1111111111111111,
              "#46039f"
             ],
             [
              0.2222222222222222,
              "#7201a8"
             ],
             [
              0.3333333333333333,
              "#9c179e"
             ],
             [
              0.4444444444444444,
              "#bd3786"
             ],
             [
              0.5555555555555556,
              "#d8576b"
             ],
             [
              0.6666666666666666,
              "#ed7953"
             ],
             [
              0.7777777777777778,
              "#fb9f3a"
             ],
             [
              0.8888888888888888,
              "#fdca26"
             ],
             [
              1,
              "#f0f921"
             ]
            ],
            "type": "heatmap"
           }
          ],
          "histogram": [
           {
            "marker": {
             "pattern": {
              "fillmode": "overlay",
              "size": 10,
              "solidity": 0.2
             }
            },
            "type": "histogram"
           }
          ],
          "histogram2d": [
           {
            "colorbar": {
             "outlinewidth": 0,
             "ticks": ""
            },
            "colorscale": [
             [
              0,
              "#0d0887"
             ],
             [
              0.1111111111111111,
              "#46039f"
             ],
             [
              0.2222222222222222,
              "#7201a8"
             ],
             [
              0.3333333333333333,
              "#9c179e"
             ],
             [
              0.4444444444444444,
              "#bd3786"
             ],
             [
              0.5555555555555556,
              "#d8576b"
             ],
             [
              0.6666666666666666,
              "#ed7953"
             ],
             [
              0.7777777777777778,
              "#fb9f3a"
             ],
             [
              0.8888888888888888,
              "#fdca26"
             ],
             [
              1,
              "#f0f921"
             ]
            ],
            "type": "histogram2d"
           }
          ],
          "histogram2dcontour": [
           {
            "colorbar": {
             "outlinewidth": 0,
             "ticks": ""
            },
            "colorscale": [
             [
              0,
              "#0d0887"
             ],
             [
              0.1111111111111111,
              "#46039f"
             ],
             [
              0.2222222222222222,
              "#7201a8"
             ],
             [
              0.3333333333333333,
              "#9c179e"
             ],
             [
              0.4444444444444444,
              "#bd3786"
             ],
             [
              0.5555555555555556,
              "#d8576b"
             ],
             [
              0.6666666666666666,
              "#ed7953"
             ],
             [
              0.7777777777777778,
              "#fb9f3a"
             ],
             [
              0.8888888888888888,
              "#fdca26"
             ],
             [
              1,
              "#f0f921"
             ]
            ],
            "type": "histogram2dcontour"
           }
          ],
          "mesh3d": [
           {
            "colorbar": {
             "outlinewidth": 0,
             "ticks": ""
            },
            "type": "mesh3d"
           }
          ],
          "parcoords": [
           {
            "line": {
             "colorbar": {
              "outlinewidth": 0,
              "ticks": ""
             }
            },
            "type": "parcoords"
           }
          ],
          "pie": [
           {
            "automargin": true,
            "type": "pie"
           }
          ],
          "scatter": [
           {
            "fillpattern": {
             "fillmode": "overlay",
             "size": 10,
             "solidity": 0.2
            },
            "type": "scatter"
           }
          ],
          "scatter3d": [
           {
            "line": {
             "colorbar": {
              "outlinewidth": 0,
              "ticks": ""
             }
            },
            "marker": {
             "colorbar": {
              "outlinewidth": 0,
              "ticks": ""
             }
            },
            "type": "scatter3d"
           }
          ],
          "scattercarpet": [
           {
            "marker": {
             "colorbar": {
              "outlinewidth": 0,
              "ticks": ""
             }
            },
            "type": "scattercarpet"
           }
          ],
          "scattergeo": [
           {
            "marker": {
             "colorbar": {
              "outlinewidth": 0,
              "ticks": ""
             }
            },
            "type": "scattergeo"
           }
          ],
          "scattergl": [
           {
            "marker": {
             "colorbar": {
              "outlinewidth": 0,
              "ticks": ""
             }
            },
            "type": "scattergl"
           }
          ],
          "scattermap": [
           {
            "marker": {
             "colorbar": {
              "outlinewidth": 0,
              "ticks": ""
             }
            },
            "type": "scattermap"
           }
          ],
          "scattermapbox": [
           {
            "marker": {
             "colorbar": {
              "outlinewidth": 0,
              "ticks": ""
             }
            },
            "type": "scattermapbox"
           }
          ],
          "scatterpolar": [
           {
            "marker": {
             "colorbar": {
              "outlinewidth": 0,
              "ticks": ""
             }
            },
            "type": "scatterpolar"
           }
          ],
          "scatterpolargl": [
           {
            "marker": {
             "colorbar": {
              "outlinewidth": 0,
              "ticks": ""
             }
            },
            "type": "scatterpolargl"
           }
          ],
          "scatterternary": [
           {
            "marker": {
             "colorbar": {
              "outlinewidth": 0,
              "ticks": ""
             }
            },
            "type": "scatterternary"
           }
          ],
          "surface": [
           {
            "colorbar": {
             "outlinewidth": 0,
             "ticks": ""
            },
            "colorscale": [
             [
              0,
              "#0d0887"
             ],
             [
              0.1111111111111111,
              "#46039f"
             ],
             [
              0.2222222222222222,
              "#7201a8"
             ],
             [
              0.3333333333333333,
              "#9c179e"
             ],
             [
              0.4444444444444444,
              "#bd3786"
             ],
             [
              0.5555555555555556,
              "#d8576b"
             ],
             [
              0.6666666666666666,
              "#ed7953"
             ],
             [
              0.7777777777777778,
              "#fb9f3a"
             ],
             [
              0.8888888888888888,
              "#fdca26"
             ],
             [
              1,
              "#f0f921"
             ]
            ],
            "type": "surface"
           }
          ],
          "table": [
           {
            "cells": {
             "fill": {
              "color": "#EBF0F8"
             },
             "line": {
              "color": "white"
             }
            },
            "header": {
             "fill": {
              "color": "#C8D4E3"
             },
             "line": {
              "color": "white"
             }
            },
            "type": "table"
           }
          ]
         },
         "layout": {
          "annotationdefaults": {
           "arrowcolor": "#2a3f5f",
           "arrowhead": 0,
           "arrowwidth": 1
          },
          "autotypenumbers": "strict",
          "coloraxis": {
           "colorbar": {
            "outlinewidth": 0,
            "ticks": ""
           }
          },
          "colorscale": {
           "diverging": [
            [
             0,
             "#8e0152"
            ],
            [
             0.1,
             "#c51b7d"
            ],
            [
             0.2,
             "#de77ae"
            ],
            [
             0.3,
             "#f1b6da"
            ],
            [
             0.4,
             "#fde0ef"
            ],
            [
             0.5,
             "#f7f7f7"
            ],
            [
             0.6,
             "#e6f5d0"
            ],
            [
             0.7,
             "#b8e186"
            ],
            [
             0.8,
             "#7fbc41"
            ],
            [
             0.9,
             "#4d9221"
            ],
            [
             1,
             "#276419"
            ]
           ],
           "sequential": [
            [
             0,
             "#0d0887"
            ],
            [
             0.1111111111111111,
             "#46039f"
            ],
            [
             0.2222222222222222,
             "#7201a8"
            ],
            [
             0.3333333333333333,
             "#9c179e"
            ],
            [
             0.4444444444444444,
             "#bd3786"
            ],
            [
             0.5555555555555556,
             "#d8576b"
            ],
            [
             0.6666666666666666,
             "#ed7953"
            ],
            [
             0.7777777777777778,
             "#fb9f3a"
            ],
            [
             0.8888888888888888,
             "#fdca26"
            ],
            [
             1,
             "#f0f921"
            ]
           ],
           "sequentialminus": [
            [
             0,
             "#0d0887"
            ],
            [
             0.1111111111111111,
             "#46039f"
            ],
            [
             0.2222222222222222,
             "#7201a8"
            ],
            [
             0.3333333333333333,
             "#9c179e"
            ],
            [
             0.4444444444444444,
             "#bd3786"
            ],
            [
             0.5555555555555556,
             "#d8576b"
            ],
            [
             0.6666666666666666,
             "#ed7953"
            ],
            [
             0.7777777777777778,
             "#fb9f3a"
            ],
            [
             0.8888888888888888,
             "#fdca26"
            ],
            [
             1,
             "#f0f921"
            ]
           ]
          },
          "colorway": [
           "#636efa",
           "#EF553B",
           "#00cc96",
           "#ab63fa",
           "#FFA15A",
           "#19d3f3",
           "#FF6692",
           "#B6E880",
           "#FF97FF",
           "#FECB52"
          ],
          "font": {
           "color": "#2a3f5f"
          },
          "geo": {
           "bgcolor": "white",
           "lakecolor": "white",
           "landcolor": "#E5ECF6",
           "showlakes": true,
           "showland": true,
           "subunitcolor": "white"
          },
          "hoverlabel": {
           "align": "left"
          },
          "hovermode": "closest",
          "mapbox": {
           "style": "light"
          },
          "paper_bgcolor": "white",
          "plot_bgcolor": "#E5ECF6",
          "polar": {
           "angularaxis": {
            "gridcolor": "white",
            "linecolor": "white",
            "ticks": ""
           },
           "bgcolor": "#E5ECF6",
           "radialaxis": {
            "gridcolor": "white",
            "linecolor": "white",
            "ticks": ""
           }
          },
          "scene": {
           "xaxis": {
            "backgroundcolor": "#E5ECF6",
            "gridcolor": "white",
            "gridwidth": 2,
            "linecolor": "white",
            "showbackground": true,
            "ticks": "",
            "zerolinecolor": "white"
           },
           "yaxis": {
            "backgroundcolor": "#E5ECF6",
            "gridcolor": "white",
            "gridwidth": 2,
            "linecolor": "white",
            "showbackground": true,
            "ticks": "",
            "zerolinecolor": "white"
           },
           "zaxis": {
            "backgroundcolor": "#E5ECF6",
            "gridcolor": "white",
            "gridwidth": 2,
            "linecolor": "white",
            "showbackground": true,
            "ticks": "",
            "zerolinecolor": "white"
           }
          },
          "shapedefaults": {
           "line": {
            "color": "#2a3f5f"
           }
          },
          "ternary": {
           "aaxis": {
            "gridcolor": "white",
            "linecolor": "white",
            "ticks": ""
           },
           "baxis": {
            "gridcolor": "white",
            "linecolor": "white",
            "ticks": ""
           },
           "bgcolor": "#E5ECF6",
           "caxis": {
            "gridcolor": "white",
            "linecolor": "white",
            "ticks": ""
           }
          },
          "title": {
           "x": 0.05
          },
          "xaxis": {
           "automargin": true,
           "gridcolor": "white",
           "linecolor": "white",
           "ticks": "",
           "title": {
            "standoff": 15
           },
           "zerolinecolor": "white",
           "zerolinewidth": 2
          },
          "yaxis": {
           "automargin": true,
           "gridcolor": "white",
           "linecolor": "white",
           "ticks": "",
           "title": {
            "standoff": 15
           },
           "zerolinecolor": "white",
           "zerolinewidth": 2
          }
         }
        },
        "title": {
         "text": "Time-based Volatility Heatmap"
        },
        "width": 800,
        "xaxis": {
         "title": {
          "text": "Tickers"
         }
        },
        "yaxis": {
         "title": {
          "text": "Time Periods (Monthly)"
         }
        }
       }
      }
     },
     "metadata": {},
     "output_type": "display_data"
    }
   ],
   "source": [
    "import plotly.graph_objects as go\n",
    "import plotly.express as px\n",
    "\n",
    "# Create time-based volatility heatmap\n",
    "fig = go.Figure(data=go.Heatmap(\n",
    "    z=time_heatmap.values,\n",
    "    x=time_heatmap.columns,  # Tickers\n",
    "    y=time_heatmap.index.strftime('%Y-%m'),  # Time periods\n",
    "    colorscale='RdYlBu_r',\n",
    "    hoverongaps=False\n",
    "))\n",
    "\n",
    "fig.update_layout(\n",
    "    title='Time-based Volatility Heatmap',\n",
    "    xaxis_title='Tickers',\n",
    "    yaxis_title='Time Periods (Monthly)',\n",
    "    width=800,\n",
    "    height=500\n",
    ")\n",
    "\n",
    "fig.show()"
   ]
  },
  {
   "cell_type": "code",
   "execution_count": 19,
   "id": "7d4c0431",
   "metadata": {},
   "outputs": [
    {
     "data": {
      "application/vnd.plotly.v1+json": {
       "config": {
        "plotlyServerURL": "https://plot.ly"
       },
       "data": [
        {
         "colorscale": [
          [
           0,
           "#440154"
          ],
          [
           0.1111111111111111,
           "#482878"
          ],
          [
           0.2222222222222222,
           "#3e4989"
          ],
          [
           0.3333333333333333,
           "#31688e"
          ],
          [
           0.4444444444444444,
           "#26828e"
          ],
          [
           0.5555555555555556,
           "#1f9e89"
          ],
          [
           0.6666666666666666,
           "#35b779"
          ],
          [
           0.7777777777777778,
           "#6ece58"
          ],
          [
           0.8888888888888888,
           "#b5de2b"
          ],
          [
           1,
           "#fde725"
          ]
         ],
         "text": {
          "bdata": "MQisHFpkwz8hsHJoke3yP0vIBz2bVb8/QfFjzF1LwD9lGeJYF7fJP2TMXUvIB/Q/FvvL7snDwj8J+aBns+rDP4cW2c73U9c/OUVHcvkP/T/4wmSqYFTePwwCK4cW2dI/",
          "dtype": "f8",
          "shape": "3, 4"
         },
         "textfont": {
          "size": 10
         },
         "texttemplate": "%{text}",
         "type": "heatmap",
         "x": [
          "Historical Vol",
          "Parkinson Vol",
          "Garman-Klass Vol",
          "Beta-Adj Vol"
         ],
         "y": [
          "AAPL",
          "MSFT",
          "NVDA"
         ],
         "z": {
          "bdata": "lAQS5cZlwz8+Qz89du3yPxJwBcCLV78/IfTW3fhKwD/qh3tzYLbJPyo+H0PkB/Q/nvFBqPfCwj93erH4EezDP5GP61NRVNc/grKx1ecP/T8fwdQb+1TePxnnE2bP2NI/",
          "dtype": "f8",
          "shape": "3, 4"
         }
        }
       ],
       "layout": {
        "height": 400,
        "template": {
         "data": {
          "bar": [
           {
            "error_x": {
             "color": "#2a3f5f"
            },
            "error_y": {
             "color": "#2a3f5f"
            },
            "marker": {
             "line": {
              "color": "#E5ECF6",
              "width": 0.5
             },
             "pattern": {
              "fillmode": "overlay",
              "size": 10,
              "solidity": 0.2
             }
            },
            "type": "bar"
           }
          ],
          "barpolar": [
           {
            "marker": {
             "line": {
              "color": "#E5ECF6",
              "width": 0.5
             },
             "pattern": {
              "fillmode": "overlay",
              "size": 10,
              "solidity": 0.2
             }
            },
            "type": "barpolar"
           }
          ],
          "carpet": [
           {
            "aaxis": {
             "endlinecolor": "#2a3f5f",
             "gridcolor": "white",
             "linecolor": "white",
             "minorgridcolor": "white",
             "startlinecolor": "#2a3f5f"
            },
            "baxis": {
             "endlinecolor": "#2a3f5f",
             "gridcolor": "white",
             "linecolor": "white",
             "minorgridcolor": "white",
             "startlinecolor": "#2a3f5f"
            },
            "type": "carpet"
           }
          ],
          "choropleth": [
           {
            "colorbar": {
             "outlinewidth": 0,
             "ticks": ""
            },
            "type": "choropleth"
           }
          ],
          "contour": [
           {
            "colorbar": {
             "outlinewidth": 0,
             "ticks": ""
            },
            "colorscale": [
             [
              0,
              "#0d0887"
             ],
             [
              0.1111111111111111,
              "#46039f"
             ],
             [
              0.2222222222222222,
              "#7201a8"
             ],
             [
              0.3333333333333333,
              "#9c179e"
             ],
             [
              0.4444444444444444,
              "#bd3786"
             ],
             [
              0.5555555555555556,
              "#d8576b"
             ],
             [
              0.6666666666666666,
              "#ed7953"
             ],
             [
              0.7777777777777778,
              "#fb9f3a"
             ],
             [
              0.8888888888888888,
              "#fdca26"
             ],
             [
              1,
              "#f0f921"
             ]
            ],
            "type": "contour"
           }
          ],
          "contourcarpet": [
           {
            "colorbar": {
             "outlinewidth": 0,
             "ticks": ""
            },
            "type": "contourcarpet"
           }
          ],
          "heatmap": [
           {
            "colorbar": {
             "outlinewidth": 0,
             "ticks": ""
            },
            "colorscale": [
             [
              0,
              "#0d0887"
             ],
             [
              0.1111111111111111,
              "#46039f"
             ],
             [
              0.2222222222222222,
              "#7201a8"
             ],
             [
              0.3333333333333333,
              "#9c179e"
             ],
             [
              0.4444444444444444,
              "#bd3786"
             ],
             [
              0.5555555555555556,
              "#d8576b"
             ],
             [
              0.6666666666666666,
              "#ed7953"
             ],
             [
              0.7777777777777778,
              "#fb9f3a"
             ],
             [
              0.8888888888888888,
              "#fdca26"
             ],
             [
              1,
              "#f0f921"
             ]
            ],
            "type": "heatmap"
           }
          ],
          "histogram": [
           {
            "marker": {
             "pattern": {
              "fillmode": "overlay",
              "size": 10,
              "solidity": 0.2
             }
            },
            "type": "histogram"
           }
          ],
          "histogram2d": [
           {
            "colorbar": {
             "outlinewidth": 0,
             "ticks": ""
            },
            "colorscale": [
             [
              0,
              "#0d0887"
             ],
             [
              0.1111111111111111,
              "#46039f"
             ],
             [
              0.2222222222222222,
              "#7201a8"
             ],
             [
              0.3333333333333333,
              "#9c179e"
             ],
             [
              0.4444444444444444,
              "#bd3786"
             ],
             [
              0.5555555555555556,
              "#d8576b"
             ],
             [
              0.6666666666666666,
              "#ed7953"
             ],
             [
              0.7777777777777778,
              "#fb9f3a"
             ],
             [
              0.8888888888888888,
              "#fdca26"
             ],
             [
              1,
              "#f0f921"
             ]
            ],
            "type": "histogram2d"
           }
          ],
          "histogram2dcontour": [
           {
            "colorbar": {
             "outlinewidth": 0,
             "ticks": ""
            },
            "colorscale": [
             [
              0,
              "#0d0887"
             ],
             [
              0.1111111111111111,
              "#46039f"
             ],
             [
              0.2222222222222222,
              "#7201a8"
             ],
             [
              0.3333333333333333,
              "#9c179e"
             ],
             [
              0.4444444444444444,
              "#bd3786"
             ],
             [
              0.5555555555555556,
              "#d8576b"
             ],
             [
              0.6666666666666666,
              "#ed7953"
             ],
             [
              0.7777777777777778,
              "#fb9f3a"
             ],
             [
              0.8888888888888888,
              "#fdca26"
             ],
             [
              1,
              "#f0f921"
             ]
            ],
            "type": "histogram2dcontour"
           }
          ],
          "mesh3d": [
           {
            "colorbar": {
             "outlinewidth": 0,
             "ticks": ""
            },
            "type": "mesh3d"
           }
          ],
          "parcoords": [
           {
            "line": {
             "colorbar": {
              "outlinewidth": 0,
              "ticks": ""
             }
            },
            "type": "parcoords"
           }
          ],
          "pie": [
           {
            "automargin": true,
            "type": "pie"
           }
          ],
          "scatter": [
           {
            "fillpattern": {
             "fillmode": "overlay",
             "size": 10,
             "solidity": 0.2
            },
            "type": "scatter"
           }
          ],
          "scatter3d": [
           {
            "line": {
             "colorbar": {
              "outlinewidth": 0,
              "ticks": ""
             }
            },
            "marker": {
             "colorbar": {
              "outlinewidth": 0,
              "ticks": ""
             }
            },
            "type": "scatter3d"
           }
          ],
          "scattercarpet": [
           {
            "marker": {
             "colorbar": {
              "outlinewidth": 0,
              "ticks": ""
             }
            },
            "type": "scattercarpet"
           }
          ],
          "scattergeo": [
           {
            "marker": {
             "colorbar": {
              "outlinewidth": 0,
              "ticks": ""
             }
            },
            "type": "scattergeo"
           }
          ],
          "scattergl": [
           {
            "marker": {
             "colorbar": {
              "outlinewidth": 0,
              "ticks": ""
             }
            },
            "type": "scattergl"
           }
          ],
          "scattermap": [
           {
            "marker": {
             "colorbar": {
              "outlinewidth": 0,
              "ticks": ""
             }
            },
            "type": "scattermap"
           }
          ],
          "scattermapbox": [
           {
            "marker": {
             "colorbar": {
              "outlinewidth": 0,
              "ticks": ""
             }
            },
            "type": "scattermapbox"
           }
          ],
          "scatterpolar": [
           {
            "marker": {
             "colorbar": {
              "outlinewidth": 0,
              "ticks": ""
             }
            },
            "type": "scatterpolar"
           }
          ],
          "scatterpolargl": [
           {
            "marker": {
             "colorbar": {
              "outlinewidth": 0,
              "ticks": ""
             }
            },
            "type": "scatterpolargl"
           }
          ],
          "scatterternary": [
           {
            "marker": {
             "colorbar": {
              "outlinewidth": 0,
              "ticks": ""
             }
            },
            "type": "scatterternary"
           }
          ],
          "surface": [
           {
            "colorbar": {
             "outlinewidth": 0,
             "ticks": ""
            },
            "colorscale": [
             [
              0,
              "#0d0887"
             ],
             [
              0.1111111111111111,
              "#46039f"
             ],
             [
              0.2222222222222222,
              "#7201a8"
             ],
             [
              0.3333333333333333,
              "#9c179e"
             ],
             [
              0.4444444444444444,
              "#bd3786"
             ],
             [
              0.5555555555555556,
              "#d8576b"
             ],
             [
              0.6666666666666666,
              "#ed7953"
             ],
             [
              0.7777777777777778,
              "#fb9f3a"
             ],
             [
              0.8888888888888888,
              "#fdca26"
             ],
             [
              1,
              "#f0f921"
             ]
            ],
            "type": "surface"
           }
          ],
          "table": [
           {
            "cells": {
             "fill": {
              "color": "#EBF0F8"
             },
             "line": {
              "color": "white"
             }
            },
            "header": {
             "fill": {
              "color": "#C8D4E3"
             },
             "line": {
              "color": "white"
             }
            },
            "type": "table"
           }
          ]
         },
         "layout": {
          "annotationdefaults": {
           "arrowcolor": "#2a3f5f",
           "arrowhead": 0,
           "arrowwidth": 1
          },
          "autotypenumbers": "strict",
          "coloraxis": {
           "colorbar": {
            "outlinewidth": 0,
            "ticks": ""
           }
          },
          "colorscale": {
           "diverging": [
            [
             0,
             "#8e0152"
            ],
            [
             0.1,
             "#c51b7d"
            ],
            [
             0.2,
             "#de77ae"
            ],
            [
             0.3,
             "#f1b6da"
            ],
            [
             0.4,
             "#fde0ef"
            ],
            [
             0.5,
             "#f7f7f7"
            ],
            [
             0.6,
             "#e6f5d0"
            ],
            [
             0.7,
             "#b8e186"
            ],
            [
             0.8,
             "#7fbc41"
            ],
            [
             0.9,
             "#4d9221"
            ],
            [
             1,
             "#276419"
            ]
           ],
           "sequential": [
            [
             0,
             "#0d0887"
            ],
            [
             0.1111111111111111,
             "#46039f"
            ],
            [
             0.2222222222222222,
             "#7201a8"
            ],
            [
             0.3333333333333333,
             "#9c179e"
            ],
            [
             0.4444444444444444,
             "#bd3786"
            ],
            [
             0.5555555555555556,
             "#d8576b"
            ],
            [
             0.6666666666666666,
             "#ed7953"
            ],
            [
             0.7777777777777778,
             "#fb9f3a"
            ],
            [
             0.8888888888888888,
             "#fdca26"
            ],
            [
             1,
             "#f0f921"
            ]
           ],
           "sequentialminus": [
            [
             0,
             "#0d0887"
            ],
            [
             0.1111111111111111,
             "#46039f"
            ],
            [
             0.2222222222222222,
             "#7201a8"
            ],
            [
             0.3333333333333333,
             "#9c179e"
            ],
            [
             0.4444444444444444,
             "#bd3786"
            ],
            [
             0.5555555555555556,
             "#d8576b"
            ],
            [
             0.6666666666666666,
             "#ed7953"
            ],
            [
             0.7777777777777778,
             "#fb9f3a"
            ],
            [
             0.8888888888888888,
             "#fdca26"
            ],
            [
             1,
             "#f0f921"
            ]
           ]
          },
          "colorway": [
           "#636efa",
           "#EF553B",
           "#00cc96",
           "#ab63fa",
           "#FFA15A",
           "#19d3f3",
           "#FF6692",
           "#B6E880",
           "#FF97FF",
           "#FECB52"
          ],
          "font": {
           "color": "#2a3f5f"
          },
          "geo": {
           "bgcolor": "white",
           "lakecolor": "white",
           "landcolor": "#E5ECF6",
           "showlakes": true,
           "showland": true,
           "subunitcolor": "white"
          },
          "hoverlabel": {
           "align": "left"
          },
          "hovermode": "closest",
          "mapbox": {
           "style": "light"
          },
          "paper_bgcolor": "white",
          "plot_bgcolor": "#E5ECF6",
          "polar": {
           "angularaxis": {
            "gridcolor": "white",
            "linecolor": "white",
            "ticks": ""
           },
           "bgcolor": "#E5ECF6",
           "radialaxis": {
            "gridcolor": "white",
            "linecolor": "white",
            "ticks": ""
           }
          },
          "scene": {
           "xaxis": {
            "backgroundcolor": "#E5ECF6",
            "gridcolor": "white",
            "gridwidth": 2,
            "linecolor": "white",
            "showbackground": true,
            "ticks": "",
            "zerolinecolor": "white"
           },
           "yaxis": {
            "backgroundcolor": "#E5ECF6",
            "gridcolor": "white",
            "gridwidth": 2,
            "linecolor": "white",
            "showbackground": true,
            "ticks": "",
            "zerolinecolor": "white"
           },
           "zaxis": {
            "backgroundcolor": "#E5ECF6",
            "gridcolor": "white",
            "gridwidth": 2,
            "linecolor": "white",
            "showbackground": true,
            "ticks": "",
            "zerolinecolor": "white"
           }
          },
          "shapedefaults": {
           "line": {
            "color": "#2a3f5f"
           }
          },
          "ternary": {
           "aaxis": {
            "gridcolor": "white",
            "linecolor": "white",
            "ticks": ""
           },
           "baxis": {
            "gridcolor": "white",
            "linecolor": "white",
            "ticks": ""
           },
           "bgcolor": "#E5ECF6",
           "caxis": {
            "gridcolor": "white",
            "linecolor": "white",
            "ticks": ""
           }
          },
          "title": {
           "x": 0.05
          },
          "xaxis": {
           "automargin": true,
           "gridcolor": "white",
           "linecolor": "white",
           "ticks": "",
           "title": {
            "standoff": 15
           },
           "zerolinecolor": "white",
           "zerolinewidth": 2
          },
          "yaxis": {
           "automargin": true,
           "gridcolor": "white",
           "linecolor": "white",
           "ticks": "",
           "title": {
            "standoff": 15
           },
           "zerolinecolor": "white",
           "zerolinewidth": 2
          }
         }
        },
        "title": {
         "text": "Cross-sectional Volatility Comparison"
        },
        "width": 800,
        "xaxis": {
         "title": {
          "text": "Volatility Measures"
         }
        },
        "yaxis": {
         "title": {
          "text": "Tickers"
         }
        }
       }
      }
     },
     "metadata": {},
     "output_type": "display_data"
    }
   ],
   "source": [
    "# Create cross-sectional volatility comparison heatmap\n",
    "fig = go.Figure(data=go.Heatmap(\n",
    "    z=cross_sectional_heatmap.values,\n",
    "    x=cross_sectional_heatmap.columns,  # Volatility measures\n",
    "    y=cross_sectional_heatmap.index,    # Tickers\n",
    "    colorscale='Viridis',\n",
    "    text=cross_sectional_heatmap.values.round(4),\n",
    "    texttemplate='%{text}',\n",
    "    textfont={\"size\": 10}\n",
    "))\n",
    "\n",
    "fig.update_layout(\n",
    "    title='Cross-sectional Volatility Comparison',\n",
    "    xaxis_title='Volatility Measures',\n",
    "    yaxis_title='Tickers',\n",
    "    width=800,\n",
    "    height=400\n",
    ")\n",
    "\n",
    "fig.show()"
   ]
  },
  {
   "cell_type": "code",
   "execution_count": 20,
   "id": "922b23de",
   "metadata": {},
   "outputs": [
    {
     "name": "stdout",
     "output_type": "stream",
     "text": [
      "=== Debugging Benchmark Data Alignment ===\n",
      "ohlcv_data shape: (753, 6)\n",
      "benchmark_df shape: (251, 7)\n",
      "ohlcv_data index: MultiIndex([('2024-01-02', 'AAPL'),\n",
      "            ('2024-01-03', 'AAPL'),\n",
      "            ('2024-01-04', 'AAPL'),\n",
      "            ('2024-01-05', 'AAPL'),\n",
      "            ('2024-01-08', 'AAPL'),\n",
      "            ('2024-01-09', 'AAPL'),\n",
      "            ('2024-01-10', 'AAPL'),\n",
      "            ('2024-01-11', 'AAPL'),\n",
      "            ('2024-01-12', 'AAPL'),\n",
      "            ('2024-01-16', 'AAPL'),\n",
      "            ...\n",
      "            ('2024-12-16', 'NVDA'),\n",
      "            ('2024-12-17', 'NVDA'),\n",
      "            ('2024-12-18', 'NVDA'),\n",
      "            ('2024-12-19', 'NVDA'),\n",
      "            ('2024-12-20', 'NVDA'),\n",
      "            ('2024-12-23', 'NVDA'),\n",
      "            ('2024-12-24', 'NVDA'),\n",
      "            ('2024-12-26', 'NVDA'),\n",
      "            ('2024-12-27', 'NVDA'),\n",
      "            ('2024-12-30', 'NVDA')],\n",
      "           names=['Date', 'Ticker'], length=753)\n",
      "benchmark_df index: DatetimeIndex(['2024-01-02', '2024-01-03', '2024-01-04', '2024-01-05',\n",
      "               '2024-01-08', '2024-01-09', '2024-01-10', '2024-01-11',\n",
      "               '2024-01-12', '2024-01-16',\n",
      "               ...\n",
      "               '2024-12-16', '2024-12-17', '2024-12-18', '2024-12-19',\n",
      "               '2024-12-20', '2024-12-23', '2024-12-24', '2024-12-26',\n",
      "               '2024-12-27', '2024-12-30'],\n",
      "              dtype='datetime64[ns]', name='Date', length=251, freq=None)\n",
      "\n",
      "benchmark_df columns: MultiIndex([('Adj Close', '^GSPC'),\n",
      "            (    'Close', '^GSPC'),\n",
      "            (     'High', '^GSPC'),\n",
      "            (      'Low', '^GSPC'),\n",
      "            (     'Open', '^GSPC'),\n",
      "            (   'Volume', '^GSPC'),\n",
      "            (  'Returns',      '')],\n",
      "           names=['Price', 'Ticker'])\n",
      "benchmark_df head:\n",
      "Price         Adj Close        Close         High          Low         Open  \\\n",
      "Ticker            ^GSPC        ^GSPC        ^GSPC        ^GSPC        ^GSPC   \n",
      "Date                                                                          \n",
      "2024-01-02  4742.830078  4742.830078  4754.330078  4722.669922  4745.200195   \n",
      "2024-01-03  4704.810059  4704.810059  4729.290039  4699.709961  4725.069824   \n",
      "2024-01-04  4688.680176  4688.680176  4726.779785  4687.529785  4697.419922   \n",
      "2024-01-05  4697.240234  4697.240234  4721.490234  4682.109863  4690.569824   \n",
      "2024-01-08  4763.540039  4763.540039  4764.540039  4699.819824  4703.700195   \n",
      "\n",
      "Price           Volume   Returns  \n",
      "Ticker           ^GSPC            \n",
      "Date                              \n",
      "2024-01-02  3743050000       NaN  \n",
      "2024-01-03  3950760000 -0.008016  \n",
      "2024-01-04  3715480000 -0.003428  \n",
      "2024-01-05  3844370000  0.001826  \n",
      "2024-01-08  3742320000  0.014115  \n",
      "\n",
      "Ticker data for AAPL:\n",
      "Shape: (251, 6)\n",
      "Columns: Index(['Open', 'High', 'Low', 'Close', 'Adj Close', 'Volume'], dtype='object', name='Price')\n",
      "\n",
      "Ticker returns shape: (250,)\n",
      "Benchmark returns shape: (250, 1)\n",
      "Ticker returns index range: 2024-01-03 00:00:00 to 2024-12-30 00:00:00\n",
      "Benchmark returns index range: 2024-01-03 00:00:00 to 2024-12-30 00:00:00\n",
      "\n",
      "After alignment:\n",
      "Aligned ticker shape: (250,)\n",
      "Aligned benchmark shape: (250, 1)\n"
     ]
    }
   ],
   "source": [
    "# Debug the benchmark data alignment issue\n",
    "print(\"=== Debugging Benchmark Data Alignment ===\")\n",
    "print(f\"ohlcv_data shape: {ohlcv_data.shape}\")\n",
    "print(f\"benchmark_df shape: {benchmark_df.shape}\")\n",
    "print(f\"ohlcv_data index: {ohlcv_data.index}\")\n",
    "print(f\"benchmark_df index: {benchmark_df.index}\")\n",
    "\n",
    "# Check if benchmark has the same structure\n",
    "print(f\"\\nbenchmark_df columns: {benchmark_df.columns}\")\n",
    "print(f\"benchmark_df head:\\n{benchmark_df.head()}\")\n",
    "\n",
    "# Test returns calculation for one ticker\n",
    "test_ticker = 'AAPL'\n",
    "ticker_data = ohlcv_data.xs(test_ticker, level=1)\n",
    "print(f\"\\nTicker data for {test_ticker}:\")\n",
    "print(f\"Shape: {ticker_data.shape}\")\n",
    "print(f\"Columns: {ticker_data.columns}\")\n",
    "\n",
    "# Test returns alignment\n",
    "from src.volatility import compute_daily_returns\n",
    "ticker_returns = compute_daily_returns(ticker_data).dropna()\n",
    "bench_returns = compute_daily_returns(benchmark_df).dropna()\n",
    "\n",
    "print(f\"\\nTicker returns shape: {ticker_returns.shape}\")\n",
    "print(f\"Benchmark returns shape: {bench_returns.shape}\")\n",
    "print(f\"Ticker returns index range: {ticker_returns.index.min()} to {ticker_returns.index.max()}\")\n",
    "print(f\"Benchmark returns index range: {bench_returns.index.min()} to {bench_returns.index.max()}\")\n",
    "\n",
    "# Test alignment\n",
    "aligned_ticker, aligned_bench = ticker_returns.align(bench_returns, join='inner')\n",
    "print(f\"\\nAfter alignment:\")\n",
    "print(f\"Aligned ticker shape: {aligned_ticker.shape}\")\n",
    "print(f\"Aligned benchmark shape: {aligned_bench.shape}\")"
   ]
  },
  {
   "cell_type": "code",
   "execution_count": 21,
   "id": "9584d8be",
   "metadata": {},
   "outputs": [
    {
     "name": "stdout",
     "output_type": "stream",
     "text": [
      "=== Cross-sectional Volatility Heatmap (Fixed) ===\n",
      "Shape: (3, 4)\n",
      "Index (Tickers): Index(['AAPL', 'MSFT', 'NVDA'], dtype='object')\n",
      "Columns (Vol Measures): Index(['Historical Vol', 'Parkinson Vol', 'Garman-Klass Vol', 'Beta-Adj Vol'], dtype='object')\n",
      "\n",
      "Data:\n",
      "      Historical Vol  Parkinson Vol  Garman-Klass Vol  Beta-Adj Vol\n",
      "AAPL        0.151543       1.182974          0.122430      0.127288\n",
      "MSFT        0.200878       1.251927          0.146575      0.155642\n",
      "NVDA        0.364521       1.816383          0.473937      0.294483\n"
     ]
    }
   ],
   "source": [
    "# Test 2: Cross-sectional volatility comparison (X: Vol Measures, Y: Tickers) - FIXED\n",
    "print(\"=== Cross-sectional Volatility Heatmap (Fixed) ===\")\n",
    "try:\n",
    "    cross_sectional_heatmap = volatility.prepare_cross_sectional_heatmap(ohlcv_data, benchmark_df, window=30)\n",
    "    print(f\"Shape: {cross_sectional_heatmap.shape}\")\n",
    "    print(f\"Index (Tickers): {cross_sectional_heatmap.index}\")\n",
    "    print(f\"Columns (Vol Measures): {cross_sectional_heatmap.columns}\")\n",
    "    print(\"\\nData:\")\n",
    "    print(cross_sectional_heatmap)\n",
    "except Exception as e:\n",
    "    print(f\"Error: {e}\")\n",
    "    print(\"Trying without benchmark...\")\n",
    "    cross_sectional_heatmap = volatility.prepare_cross_sectional_heatmap(ohlcv_data, None, window=30)\n",
    "    print(f\"Shape: {cross_sectional_heatmap.shape}\")\n",
    "    print(f\"Data:\\n{cross_sectional_heatmap}\")"
   ]
  },
  {
   "cell_type": "markdown",
   "id": "76866d12",
   "metadata": {},
   "source": [
    "## Complete Volatility Heatmap Visualization Suite\n",
    "\n",
    "This section demonstrates all 4 types of volatility heatmaps with proper axis configurations."
   ]
  },
  {
   "cell_type": "code",
   "execution_count": 22,
   "id": "eb25d193",
   "metadata": {},
   "outputs": [
    {
     "name": "stdout",
     "output_type": "stream",
     "text": [
      "Preparing all heatmap datasets...\n",
      "✓ Time heatmap: (12, 3)\n",
      "✓ Cross-sectional heatmap: (3, 4)\n",
      "✓ Sector heatmap: (1, 3)\n",
      "✓ Correlation heatmap: (3, 3)\n",
      "\n",
      "All heatmap data prepared successfully!\n"
     ]
    },
    {
     "name": "stderr",
     "output_type": "stream",
     "text": [
      "C:\\Users\\KIIT\\Desktop\\Everything Code\\Quant\\RiskLens\\src\\volatility.py:152: FutureWarning:\n",
      "\n",
      "'M' is deprecated and will be removed in a future version, please use 'ME' instead.\n",
      "\n"
     ]
    }
   ],
   "source": [
    "# Reload the volatility module and prepare all heatmap data\n",
    "import importlib\n",
    "importlib.reload(volatility)\n",
    "\n",
    "print(\"Preparing all heatmap datasets...\")\n",
    "\n",
    "# 1. Time-based heatmap data\n",
    "time_heatmap = volatility.prepare_time_volatility_heatmap(ohlcv_data, window=30, freq='M')\n",
    "print(f\"✓ Time heatmap: {time_heatmap.shape}\")\n",
    "\n",
    "# 2. Cross-sectional heatmap data\n",
    "cross_sectional_heatmap = volatility.prepare_cross_sectional_heatmap(ohlcv_data, benchmark_df, window=30)\n",
    "print(f\"✓ Cross-sectional heatmap: {cross_sectional_heatmap.shape}\")\n",
    "\n",
    "# 3. Sector heatmap data\n",
    "sector_heatmap = volatility.prepare_sector_volatility_heatmap(ohlcv_data, sector_map, window=30)\n",
    "print(f\"✓ Sector heatmap: {sector_heatmap.shape}\")\n",
    "\n",
    "# 4. Correlation heatmap data\n",
    "correlation_heatmap = volatility.prepare_correlation_heatmap(ohlcv_data, window=30)\n",
    "print(f\"✓ Correlation heatmap: {correlation_heatmap.shape}\")\n",
    "\n",
    "print(\"\\nAll heatmap data prepared successfully!\")"
   ]
  },
  {
   "cell_type": "code",
   "execution_count": 23,
   "id": "1d321fe1",
   "metadata": {},
   "outputs": [
    {
     "data": {
      "application/vnd.plotly.v1+json": {
       "config": {
        "plotlyServerURL": "https://plot.ly"
       },
       "data": [
        {
         "colorbar": {
          "title": {
           "text": "Volatility"
          }
         },
         "colorscale": [
          [
           0,
           "rgb(49,54,149)"
          ],
          [
           0.1,
           "rgb(69,117,180)"
          ],
          [
           0.2,
           "rgb(116,173,209)"
          ],
          [
           0.3,
           "rgb(171,217,233)"
          ],
          [
           0.4,
           "rgb(224,243,248)"
          ],
          [
           0.5,
           "rgb(255,255,191)"
          ],
          [
           0.6,
           "rgb(254,224,144)"
          ],
          [
           0.7,
           "rgb(253,174,97)"
          ],
          [
           0.8,
           "rgb(244,109,67)"
          ],
          [
           0.9,
           "rgb(215,48,39)"
          ],
          [
           1,
           "rgb(165,0,38)"
          ]
         ],
         "hoverongaps": false,
         "hovertemplate": "<b>%{y}</b><br>Period: %{x}<br>Volatility: %{z:.4f}<extra></extra>",
         "type": "heatmap",
         "x": [
          "2024-01",
          "2024-02",
          "2024-03",
          "2024-04",
          "2024-05",
          "2024-06",
          "2024-07",
          "2024-08",
          "2024-09",
          "2024-10",
          "2024-11",
          "2024-12"
         ],
         "y": [
          "AAPL",
          "MSFT",
          "NVDA"
         ],
         "z": {
          "bdata": "AAAAAAAA+H9kUSUpiWPGP/p9V5uGQss/mZP9RAZD0D/omEIz2z3OP4ADtnFnHdI/mqne8uGSzj8+KUZUHPfLPxAxY13IpMk/EXEw1GhcyT+TP9fabynFP5QEEuXGZcM/FaHpKf9b9T9fcQZT0OjIP7s83jAR+Mg/3rHbEYBoyT9A3RzjsjzMP62AVZHMmsQ/clYeDViDyj86ddC7ul/MP2AXyfV428U/o2uFEF1hzD+vBvRv3MnPPxWIe3Ngtsk/+p9qhSPaBEBqPZJOE23iP07zjqwCg+Q/jR0HcmRf4D/i1pYCLzfjP7EBX5m2vuE/hovUNNUs5j9/ANNMdQLoPxWFzKU87+E/6ZxUeXhX2D9ILpDtsFLYP7aP61NRVNc/",
          "dtype": "f8",
          "shape": "3, 12"
         }
        }
       ],
       "layout": {
        "font": {
         "size": 12
        },
        "height": 400,
        "template": {
         "data": {
          "bar": [
           {
            "error_x": {
             "color": "#2a3f5f"
            },
            "error_y": {
             "color": "#2a3f5f"
            },
            "marker": {
             "line": {
              "color": "#E5ECF6",
              "width": 0.5
             },
             "pattern": {
              "fillmode": "overlay",
              "size": 10,
              "solidity": 0.2
             }
            },
            "type": "bar"
           }
          ],
          "barpolar": [
           {
            "marker": {
             "line": {
              "color": "#E5ECF6",
              "width": 0.5
             },
             "pattern": {
              "fillmode": "overlay",
              "size": 10,
              "solidity": 0.2
             }
            },
            "type": "barpolar"
           }
          ],
          "carpet": [
           {
            "aaxis": {
             "endlinecolor": "#2a3f5f",
             "gridcolor": "white",
             "linecolor": "white",
             "minorgridcolor": "white",
             "startlinecolor": "#2a3f5f"
            },
            "baxis": {
             "endlinecolor": "#2a3f5f",
             "gridcolor": "white",
             "linecolor": "white",
             "minorgridcolor": "white",
             "startlinecolor": "#2a3f5f"
            },
            "type": "carpet"
           }
          ],
          "choropleth": [
           {
            "colorbar": {
             "outlinewidth": 0,
             "ticks": ""
            },
            "type": "choropleth"
           }
          ],
          "contour": [
           {
            "colorbar": {
             "outlinewidth": 0,
             "ticks": ""
            },
            "colorscale": [
             [
              0,
              "#0d0887"
             ],
             [
              0.1111111111111111,
              "#46039f"
             ],
             [
              0.2222222222222222,
              "#7201a8"
             ],
             [
              0.3333333333333333,
              "#9c179e"
             ],
             [
              0.4444444444444444,
              "#bd3786"
             ],
             [
              0.5555555555555556,
              "#d8576b"
             ],
             [
              0.6666666666666666,
              "#ed7953"
             ],
             [
              0.7777777777777778,
              "#fb9f3a"
             ],
             [
              0.8888888888888888,
              "#fdca26"
             ],
             [
              1,
              "#f0f921"
             ]
            ],
            "type": "contour"
           }
          ],
          "contourcarpet": [
           {
            "colorbar": {
             "outlinewidth": 0,
             "ticks": ""
            },
            "type": "contourcarpet"
           }
          ],
          "heatmap": [
           {
            "colorbar": {
             "outlinewidth": 0,
             "ticks": ""
            },
            "colorscale": [
             [
              0,
              "#0d0887"
             ],
             [
              0.1111111111111111,
              "#46039f"
             ],
             [
              0.2222222222222222,
              "#7201a8"
             ],
             [
              0.3333333333333333,
              "#9c179e"
             ],
             [
              0.4444444444444444,
              "#bd3786"
             ],
             [
              0.5555555555555556,
              "#d8576b"
             ],
             [
              0.6666666666666666,
              "#ed7953"
             ],
             [
              0.7777777777777778,
              "#fb9f3a"
             ],
             [
              0.8888888888888888,
              "#fdca26"
             ],
             [
              1,
              "#f0f921"
             ]
            ],
            "type": "heatmap"
           }
          ],
          "histogram": [
           {
            "marker": {
             "pattern": {
              "fillmode": "overlay",
              "size": 10,
              "solidity": 0.2
             }
            },
            "type": "histogram"
           }
          ],
          "histogram2d": [
           {
            "colorbar": {
             "outlinewidth": 0,
             "ticks": ""
            },
            "colorscale": [
             [
              0,
              "#0d0887"
             ],
             [
              0.1111111111111111,
              "#46039f"
             ],
             [
              0.2222222222222222,
              "#7201a8"
             ],
             [
              0.3333333333333333,
              "#9c179e"
             ],
             [
              0.4444444444444444,
              "#bd3786"
             ],
             [
              0.5555555555555556,
              "#d8576b"
             ],
             [
              0.6666666666666666,
              "#ed7953"
             ],
             [
              0.7777777777777778,
              "#fb9f3a"
             ],
             [
              0.8888888888888888,
              "#fdca26"
             ],
             [
              1,
              "#f0f921"
             ]
            ],
            "type": "histogram2d"
           }
          ],
          "histogram2dcontour": [
           {
            "colorbar": {
             "outlinewidth": 0,
             "ticks": ""
            },
            "colorscale": [
             [
              0,
              "#0d0887"
             ],
             [
              0.1111111111111111,
              "#46039f"
             ],
             [
              0.2222222222222222,
              "#7201a8"
             ],
             [
              0.3333333333333333,
              "#9c179e"
             ],
             [
              0.4444444444444444,
              "#bd3786"
             ],
             [
              0.5555555555555556,
              "#d8576b"
             ],
             [
              0.6666666666666666,
              "#ed7953"
             ],
             [
              0.7777777777777778,
              "#fb9f3a"
             ],
             [
              0.8888888888888888,
              "#fdca26"
             ],
             [
              1,
              "#f0f921"
             ]
            ],
            "type": "histogram2dcontour"
           }
          ],
          "mesh3d": [
           {
            "colorbar": {
             "outlinewidth": 0,
             "ticks": ""
            },
            "type": "mesh3d"
           }
          ],
          "parcoords": [
           {
            "line": {
             "colorbar": {
              "outlinewidth": 0,
              "ticks": ""
             }
            },
            "type": "parcoords"
           }
          ],
          "pie": [
           {
            "automargin": true,
            "type": "pie"
           }
          ],
          "scatter": [
           {
            "fillpattern": {
             "fillmode": "overlay",
             "size": 10,
             "solidity": 0.2
            },
            "type": "scatter"
           }
          ],
          "scatter3d": [
           {
            "line": {
             "colorbar": {
              "outlinewidth": 0,
              "ticks": ""
             }
            },
            "marker": {
             "colorbar": {
              "outlinewidth": 0,
              "ticks": ""
             }
            },
            "type": "scatter3d"
           }
          ],
          "scattercarpet": [
           {
            "marker": {
             "colorbar": {
              "outlinewidth": 0,
              "ticks": ""
             }
            },
            "type": "scattercarpet"
           }
          ],
          "scattergeo": [
           {
            "marker": {
             "colorbar": {
              "outlinewidth": 0,
              "ticks": ""
             }
            },
            "type": "scattergeo"
           }
          ],
          "scattergl": [
           {
            "marker": {
             "colorbar": {
              "outlinewidth": 0,
              "ticks": ""
             }
            },
            "type": "scattergl"
           }
          ],
          "scattermap": [
           {
            "marker": {
             "colorbar": {
              "outlinewidth": 0,
              "ticks": ""
             }
            },
            "type": "scattermap"
           }
          ],
          "scattermapbox": [
           {
            "marker": {
             "colorbar": {
              "outlinewidth": 0,
              "ticks": ""
             }
            },
            "type": "scattermapbox"
           }
          ],
          "scatterpolar": [
           {
            "marker": {
             "colorbar": {
              "outlinewidth": 0,
              "ticks": ""
             }
            },
            "type": "scatterpolar"
           }
          ],
          "scatterpolargl": [
           {
            "marker": {
             "colorbar": {
              "outlinewidth": 0,
              "ticks": ""
             }
            },
            "type": "scatterpolargl"
           }
          ],
          "scatterternary": [
           {
            "marker": {
             "colorbar": {
              "outlinewidth": 0,
              "ticks": ""
             }
            },
            "type": "scatterternary"
           }
          ],
          "surface": [
           {
            "colorbar": {
             "outlinewidth": 0,
             "ticks": ""
            },
            "colorscale": [
             [
              0,
              "#0d0887"
             ],
             [
              0.1111111111111111,
              "#46039f"
             ],
             [
              0.2222222222222222,
              "#7201a8"
             ],
             [
              0.3333333333333333,
              "#9c179e"
             ],
             [
              0.4444444444444444,
              "#bd3786"
             ],
             [
              0.5555555555555556,
              "#d8576b"
             ],
             [
              0.6666666666666666,
              "#ed7953"
             ],
             [
              0.7777777777777778,
              "#fb9f3a"
             ],
             [
              0.8888888888888888,
              "#fdca26"
             ],
             [
              1,
              "#f0f921"
             ]
            ],
            "type": "surface"
           }
          ],
          "table": [
           {
            "cells": {
             "fill": {
              "color": "#EBF0F8"
             },
             "line": {
              "color": "white"
             }
            },
            "header": {
             "fill": {
              "color": "#C8D4E3"
             },
             "line": {
              "color": "white"
             }
            },
            "type": "table"
           }
          ]
         },
         "layout": {
          "annotationdefaults": {
           "arrowcolor": "#2a3f5f",
           "arrowhead": 0,
           "arrowwidth": 1
          },
          "autotypenumbers": "strict",
          "coloraxis": {
           "colorbar": {
            "outlinewidth": 0,
            "ticks": ""
           }
          },
          "colorscale": {
           "diverging": [
            [
             0,
             "#8e0152"
            ],
            [
             0.1,
             "#c51b7d"
            ],
            [
             0.2,
             "#de77ae"
            ],
            [
             0.3,
             "#f1b6da"
            ],
            [
             0.4,
             "#fde0ef"
            ],
            [
             0.5,
             "#f7f7f7"
            ],
            [
             0.6,
             "#e6f5d0"
            ],
            [
             0.7,
             "#b8e186"
            ],
            [
             0.8,
             "#7fbc41"
            ],
            [
             0.9,
             "#4d9221"
            ],
            [
             1,
             "#276419"
            ]
           ],
           "sequential": [
            [
             0,
             "#0d0887"
            ],
            [
             0.1111111111111111,
             "#46039f"
            ],
            [
             0.2222222222222222,
             "#7201a8"
            ],
            [
             0.3333333333333333,
             "#9c179e"
            ],
            [
             0.4444444444444444,
             "#bd3786"
            ],
            [
             0.5555555555555556,
             "#d8576b"
            ],
            [
             0.6666666666666666,
             "#ed7953"
            ],
            [
             0.7777777777777778,
             "#fb9f3a"
            ],
            [
             0.8888888888888888,
             "#fdca26"
            ],
            [
             1,
             "#f0f921"
            ]
           ],
           "sequentialminus": [
            [
             0,
             "#0d0887"
            ],
            [
             0.1111111111111111,
             "#46039f"
            ],
            [
             0.2222222222222222,
             "#7201a8"
            ],
            [
             0.3333333333333333,
             "#9c179e"
            ],
            [
             0.4444444444444444,
             "#bd3786"
            ],
            [
             0.5555555555555556,
             "#d8576b"
            ],
            [
             0.6666666666666666,
             "#ed7953"
            ],
            [
             0.7777777777777778,
             "#fb9f3a"
            ],
            [
             0.8888888888888888,
             "#fdca26"
            ],
            [
             1,
             "#f0f921"
            ]
           ]
          },
          "colorway": [
           "#636efa",
           "#EF553B",
           "#00cc96",
           "#ab63fa",
           "#FFA15A",
           "#19d3f3",
           "#FF6692",
           "#B6E880",
           "#FF97FF",
           "#FECB52"
          ],
          "font": {
           "color": "#2a3f5f"
          },
          "geo": {
           "bgcolor": "white",
           "lakecolor": "white",
           "landcolor": "#E5ECF6",
           "showlakes": true,
           "showland": true,
           "subunitcolor": "white"
          },
          "hoverlabel": {
           "align": "left"
          },
          "hovermode": "closest",
          "mapbox": {
           "style": "light"
          },
          "paper_bgcolor": "white",
          "plot_bgcolor": "#E5ECF6",
          "polar": {
           "angularaxis": {
            "gridcolor": "white",
            "linecolor": "white",
            "ticks": ""
           },
           "bgcolor": "#E5ECF6",
           "radialaxis": {
            "gridcolor": "white",
            "linecolor": "white",
            "ticks": ""
           }
          },
          "scene": {
           "xaxis": {
            "backgroundcolor": "#E5ECF6",
            "gridcolor": "white",
            "gridwidth": 2,
            "linecolor": "white",
            "showbackground": true,
            "ticks": "",
            "zerolinecolor": "white"
           },
           "yaxis": {
            "backgroundcolor": "#E5ECF6",
            "gridcolor": "white",
            "gridwidth": 2,
            "linecolor": "white",
            "showbackground": true,
            "ticks": "",
            "zerolinecolor": "white"
           },
           "zaxis": {
            "backgroundcolor": "#E5ECF6",
            "gridcolor": "white",
            "gridwidth": 2,
            "linecolor": "white",
            "showbackground": true,
            "ticks": "",
            "zerolinecolor": "white"
           }
          },
          "shapedefaults": {
           "line": {
            "color": "#2a3f5f"
           }
          },
          "ternary": {
           "aaxis": {
            "gridcolor": "white",
            "linecolor": "white",
            "ticks": ""
           },
           "baxis": {
            "gridcolor": "white",
            "linecolor": "white",
            "ticks": ""
           },
           "bgcolor": "#E5ECF6",
           "caxis": {
            "gridcolor": "white",
            "linecolor": "white",
            "ticks": ""
           }
          },
          "title": {
           "x": 0.05
          },
          "xaxis": {
           "automargin": true,
           "gridcolor": "white",
           "linecolor": "white",
           "ticks": "",
           "title": {
            "standoff": 15
           },
           "zerolinecolor": "white",
           "zerolinewidth": 2
          },
          "yaxis": {
           "automargin": true,
           "gridcolor": "white",
           "linecolor": "white",
           "ticks": "",
           "title": {
            "standoff": 15
           },
           "zerolinecolor": "white",
           "zerolinewidth": 2
          }
         }
        },
        "title": {
         "text": "Time-based Volatility Heatmap<br><sub>X-axis: Time Periods (Monthly) | Y-axis: Tickers</sub>",
         "x": 0.5,
         "xanchor": "center"
        },
        "width": 1000,
        "xaxis": {
         "title": {
          "text": "Time Periods (Monthly)"
         }
        },
        "yaxis": {
         "title": {
          "text": "Tickers"
         }
        }
       }
      }
     },
     "metadata": {},
     "output_type": "display_data"
    }
   ],
   "source": [
    "import plotly.graph_objects as go\n",
    "import plotly.express as px\n",
    "from plotly.subplots import make_subplots\n",
    "import numpy as np\n",
    "\n",
    "# 1. TIME-BASED VOLATILITY HEATMAP\n",
    "# X-axis: Time periods (Monthly), Y-axis: Tickers\n",
    "fig1 = go.Figure(data=go.Heatmap(\n",
    "    z=time_heatmap.T.values,  # Transpose to get tickers on Y-axis\n",
    "    x=time_heatmap.index.strftime('%Y-%m'),  # Time periods on X-axis\n",
    "    y=time_heatmap.columns,  # Tickers on Y-axis\n",
    "    colorscale='RdYlBu_r',\n",
    "    colorbar=dict(title=\"Volatility\"),\n",
    "    hoverongaps=False,\n",
    "    hovertemplate='<b>%{y}</b><br>Period: %{x}<br>Volatility: %{z:.4f}<extra></extra>'\n",
    "))\n",
    "\n",
    "fig1.update_layout(\n",
    "    title={\n",
    "        'text': 'Time-based Volatility Heatmap<br><sub>X-axis: Time Periods (Monthly) | Y-axis: Tickers</sub>',\n",
    "        'x': 0.5,\n",
    "        'xanchor': 'center'\n",
    "    },\n",
    "    xaxis_title='Time Periods (Monthly)',\n",
    "    yaxis_title='Tickers',\n",
    "    width=1000,\n",
    "    height=400,\n",
    "    font=dict(size=12)\n",
    ")\n",
    "\n",
    "fig1.show()"
   ]
  },
  {
   "cell_type": "code",
   "execution_count": 24,
   "id": "dc7f4f12",
   "metadata": {},
   "outputs": [
    {
     "data": {
      "application/vnd.plotly.v1+json": {
       "config": {
        "plotlyServerURL": "https://plot.ly"
       },
       "data": [
        {
         "colorbar": {
          "title": {
           "text": "Volatility Value"
          }
         },
         "colorscale": [
          [
           0,
           "#440154"
          ],
          [
           0.1111111111111111,
           "#482878"
          ],
          [
           0.2222222222222222,
           "#3e4989"
          ],
          [
           0.3333333333333333,
           "#31688e"
          ],
          [
           0.4444444444444444,
           "#26828e"
          ],
          [
           0.5555555555555556,
           "#1f9e89"
          ],
          [
           0.6666666666666666,
           "#35b779"
          ],
          [
           0.7777777777777778,
           "#6ece58"
          ],
          [
           0.8888888888888888,
           "#b5de2b"
          ],
          [
           1,
           "#fde725"
          ]
         ],
         "hovertemplate": "<b>%{y}</b><br>Measure: %{x}<br>Value: %{z:.4f}<extra></extra>",
         "text": {
          "bdata": "MQisHFpkwz8hsHJoke3yP0vIBz2bVb8/QfFjzF1LwD9lGeJYF7fJP2TMXUvIB/Q/FvvL7snDwj8J+aBns+rDP4cW2c73U9c/OUVHcvkP/T/4wmSqYFTePwwCK4cW2dI/",
          "dtype": "f8",
          "shape": "3, 4"
         },
         "textfont": {
          "color": "white",
          "size": 10
         },
         "texttemplate": "%{text}",
         "type": "heatmap",
         "x": [
          "Historical Vol",
          "Parkinson Vol",
          "Garman-Klass Vol",
          "Beta-Adj Vol"
         ],
         "y": [
          "AAPL",
          "MSFT",
          "NVDA"
         ],
         "z": {
          "bdata": "lAQS5cZlwz8+Qz89du3yPxJwBcCLV78/IfTW3fhKwD/qh3tzYLbJPyo+H0PkB/Q/nvFBqPfCwj93erH4EezDP5GP61NRVNc/grKx1ecP/T8fwdQb+1TePxnnE2bP2NI/",
          "dtype": "f8",
          "shape": "3, 4"
         }
        }
       ],
       "layout": {
        "font": {
         "size": 12
        },
        "height": 500,
        "template": {
         "data": {
          "bar": [
           {
            "error_x": {
             "color": "#2a3f5f"
            },
            "error_y": {
             "color": "#2a3f5f"
            },
            "marker": {
             "line": {
              "color": "#E5ECF6",
              "width": 0.5
             },
             "pattern": {
              "fillmode": "overlay",
              "size": 10,
              "solidity": 0.2
             }
            },
            "type": "bar"
           }
          ],
          "barpolar": [
           {
            "marker": {
             "line": {
              "color": "#E5ECF6",
              "width": 0.5
             },
             "pattern": {
              "fillmode": "overlay",
              "size": 10,
              "solidity": 0.2
             }
            },
            "type": "barpolar"
           }
          ],
          "carpet": [
           {
            "aaxis": {
             "endlinecolor": "#2a3f5f",
             "gridcolor": "white",
             "linecolor": "white",
             "minorgridcolor": "white",
             "startlinecolor": "#2a3f5f"
            },
            "baxis": {
             "endlinecolor": "#2a3f5f",
             "gridcolor": "white",
             "linecolor": "white",
             "minorgridcolor": "white",
             "startlinecolor": "#2a3f5f"
            },
            "type": "carpet"
           }
          ],
          "choropleth": [
           {
            "colorbar": {
             "outlinewidth": 0,
             "ticks": ""
            },
            "type": "choropleth"
           }
          ],
          "contour": [
           {
            "colorbar": {
             "outlinewidth": 0,
             "ticks": ""
            },
            "colorscale": [
             [
              0,
              "#0d0887"
             ],
             [
              0.1111111111111111,
              "#46039f"
             ],
             [
              0.2222222222222222,
              "#7201a8"
             ],
             [
              0.3333333333333333,
              "#9c179e"
             ],
             [
              0.4444444444444444,
              "#bd3786"
             ],
             [
              0.5555555555555556,
              "#d8576b"
             ],
             [
              0.6666666666666666,
              "#ed7953"
             ],
             [
              0.7777777777777778,
              "#fb9f3a"
             ],
             [
              0.8888888888888888,
              "#fdca26"
             ],
             [
              1,
              "#f0f921"
             ]
            ],
            "type": "contour"
           }
          ],
          "contourcarpet": [
           {
            "colorbar": {
             "outlinewidth": 0,
             "ticks": ""
            },
            "type": "contourcarpet"
           }
          ],
          "heatmap": [
           {
            "colorbar": {
             "outlinewidth": 0,
             "ticks": ""
            },
            "colorscale": [
             [
              0,
              "#0d0887"
             ],
             [
              0.1111111111111111,
              "#46039f"
             ],
             [
              0.2222222222222222,
              "#7201a8"
             ],
             [
              0.3333333333333333,
              "#9c179e"
             ],
             [
              0.4444444444444444,
              "#bd3786"
             ],
             [
              0.5555555555555556,
              "#d8576b"
             ],
             [
              0.6666666666666666,
              "#ed7953"
             ],
             [
              0.7777777777777778,
              "#fb9f3a"
             ],
             [
              0.8888888888888888,
              "#fdca26"
             ],
             [
              1,
              "#f0f921"
             ]
            ],
            "type": "heatmap"
           }
          ],
          "histogram": [
           {
            "marker": {
             "pattern": {
              "fillmode": "overlay",
              "size": 10,
              "solidity": 0.2
             }
            },
            "type": "histogram"
           }
          ],
          "histogram2d": [
           {
            "colorbar": {
             "outlinewidth": 0,
             "ticks": ""
            },
            "colorscale": [
             [
              0,
              "#0d0887"
             ],
             [
              0.1111111111111111,
              "#46039f"
             ],
             [
              0.2222222222222222,
              "#7201a8"
             ],
             [
              0.3333333333333333,
              "#9c179e"
             ],
             [
              0.4444444444444444,
              "#bd3786"
             ],
             [
              0.5555555555555556,
              "#d8576b"
             ],
             [
              0.6666666666666666,
              "#ed7953"
             ],
             [
              0.7777777777777778,
              "#fb9f3a"
             ],
             [
              0.8888888888888888,
              "#fdca26"
             ],
             [
              1,
              "#f0f921"
             ]
            ],
            "type": "histogram2d"
           }
          ],
          "histogram2dcontour": [
           {
            "colorbar": {
             "outlinewidth": 0,
             "ticks": ""
            },
            "colorscale": [
             [
              0,
              "#0d0887"
             ],
             [
              0.1111111111111111,
              "#46039f"
             ],
             [
              0.2222222222222222,
              "#7201a8"
             ],
             [
              0.3333333333333333,
              "#9c179e"
             ],
             [
              0.4444444444444444,
              "#bd3786"
             ],
             [
              0.5555555555555556,
              "#d8576b"
             ],
             [
              0.6666666666666666,
              "#ed7953"
             ],
             [
              0.7777777777777778,
              "#fb9f3a"
             ],
             [
              0.8888888888888888,
              "#fdca26"
             ],
             [
              1,
              "#f0f921"
             ]
            ],
            "type": "histogram2dcontour"
           }
          ],
          "mesh3d": [
           {
            "colorbar": {
             "outlinewidth": 0,
             "ticks": ""
            },
            "type": "mesh3d"
           }
          ],
          "parcoords": [
           {
            "line": {
             "colorbar": {
              "outlinewidth": 0,
              "ticks": ""
             }
            },
            "type": "parcoords"
           }
          ],
          "pie": [
           {
            "automargin": true,
            "type": "pie"
           }
          ],
          "scatter": [
           {
            "fillpattern": {
             "fillmode": "overlay",
             "size": 10,
             "solidity": 0.2
            },
            "type": "scatter"
           }
          ],
          "scatter3d": [
           {
            "line": {
             "colorbar": {
              "outlinewidth": 0,
              "ticks": ""
             }
            },
            "marker": {
             "colorbar": {
              "outlinewidth": 0,
              "ticks": ""
             }
            },
            "type": "scatter3d"
           }
          ],
          "scattercarpet": [
           {
            "marker": {
             "colorbar": {
              "outlinewidth": 0,
              "ticks": ""
             }
            },
            "type": "scattercarpet"
           }
          ],
          "scattergeo": [
           {
            "marker": {
             "colorbar": {
              "outlinewidth": 0,
              "ticks": ""
             }
            },
            "type": "scattergeo"
           }
          ],
          "scattergl": [
           {
            "marker": {
             "colorbar": {
              "outlinewidth": 0,
              "ticks": ""
             }
            },
            "type": "scattergl"
           }
          ],
          "scattermap": [
           {
            "marker": {
             "colorbar": {
              "outlinewidth": 0,
              "ticks": ""
             }
            },
            "type": "scattermap"
           }
          ],
          "scattermapbox": [
           {
            "marker": {
             "colorbar": {
              "outlinewidth": 0,
              "ticks": ""
             }
            },
            "type": "scattermapbox"
           }
          ],
          "scatterpolar": [
           {
            "marker": {
             "colorbar": {
              "outlinewidth": 0,
              "ticks": ""
             }
            },
            "type": "scatterpolar"
           }
          ],
          "scatterpolargl": [
           {
            "marker": {
             "colorbar": {
              "outlinewidth": 0,
              "ticks": ""
             }
            },
            "type": "scatterpolargl"
           }
          ],
          "scatterternary": [
           {
            "marker": {
             "colorbar": {
              "outlinewidth": 0,
              "ticks": ""
             }
            },
            "type": "scatterternary"
           }
          ],
          "surface": [
           {
            "colorbar": {
             "outlinewidth": 0,
             "ticks": ""
            },
            "colorscale": [
             [
              0,
              "#0d0887"
             ],
             [
              0.1111111111111111,
              "#46039f"
             ],
             [
              0.2222222222222222,
              "#7201a8"
             ],
             [
              0.3333333333333333,
              "#9c179e"
             ],
             [
              0.4444444444444444,
              "#bd3786"
             ],
             [
              0.5555555555555556,
              "#d8576b"
             ],
             [
              0.6666666666666666,
              "#ed7953"
             ],
             [
              0.7777777777777778,
              "#fb9f3a"
             ],
             [
              0.8888888888888888,
              "#fdca26"
             ],
             [
              1,
              "#f0f921"
             ]
            ],
            "type": "surface"
           }
          ],
          "table": [
           {
            "cells": {
             "fill": {
              "color": "#EBF0F8"
             },
             "line": {
              "color": "white"
             }
            },
            "header": {
             "fill": {
              "color": "#C8D4E3"
             },
             "line": {
              "color": "white"
             }
            },
            "type": "table"
           }
          ]
         },
         "layout": {
          "annotationdefaults": {
           "arrowcolor": "#2a3f5f",
           "arrowhead": 0,
           "arrowwidth": 1
          },
          "autotypenumbers": "strict",
          "coloraxis": {
           "colorbar": {
            "outlinewidth": 0,
            "ticks": ""
           }
          },
          "colorscale": {
           "diverging": [
            [
             0,
             "#8e0152"
            ],
            [
             0.1,
             "#c51b7d"
            ],
            [
             0.2,
             "#de77ae"
            ],
            [
             0.3,
             "#f1b6da"
            ],
            [
             0.4,
             "#fde0ef"
            ],
            [
             0.5,
             "#f7f7f7"
            ],
            [
             0.6,
             "#e6f5d0"
            ],
            [
             0.7,
             "#b8e186"
            ],
            [
             0.8,
             "#7fbc41"
            ],
            [
             0.9,
             "#4d9221"
            ],
            [
             1,
             "#276419"
            ]
           ],
           "sequential": [
            [
             0,
             "#0d0887"
            ],
            [
             0.1111111111111111,
             "#46039f"
            ],
            [
             0.2222222222222222,
             "#7201a8"
            ],
            [
             0.3333333333333333,
             "#9c179e"
            ],
            [
             0.4444444444444444,
             "#bd3786"
            ],
            [
             0.5555555555555556,
             "#d8576b"
            ],
            [
             0.6666666666666666,
             "#ed7953"
            ],
            [
             0.7777777777777778,
             "#fb9f3a"
            ],
            [
             0.8888888888888888,
             "#fdca26"
            ],
            [
             1,
             "#f0f921"
            ]
           ],
           "sequentialminus": [
            [
             0,
             "#0d0887"
            ],
            [
             0.1111111111111111,
             "#46039f"
            ],
            [
             0.2222222222222222,
             "#7201a8"
            ],
            [
             0.3333333333333333,
             "#9c179e"
            ],
            [
             0.4444444444444444,
             "#bd3786"
            ],
            [
             0.5555555555555556,
             "#d8576b"
            ],
            [
             0.6666666666666666,
             "#ed7953"
            ],
            [
             0.7777777777777778,
             "#fb9f3a"
            ],
            [
             0.8888888888888888,
             "#fdca26"
            ],
            [
             1,
             "#f0f921"
            ]
           ]
          },
          "colorway": [
           "#636efa",
           "#EF553B",
           "#00cc96",
           "#ab63fa",
           "#FFA15A",
           "#19d3f3",
           "#FF6692",
           "#B6E880",
           "#FF97FF",
           "#FECB52"
          ],
          "font": {
           "color": "#2a3f5f"
          },
          "geo": {
           "bgcolor": "white",
           "lakecolor": "white",
           "landcolor": "#E5ECF6",
           "showlakes": true,
           "showland": true,
           "subunitcolor": "white"
          },
          "hoverlabel": {
           "align": "left"
          },
          "hovermode": "closest",
          "mapbox": {
           "style": "light"
          },
          "paper_bgcolor": "white",
          "plot_bgcolor": "#E5ECF6",
          "polar": {
           "angularaxis": {
            "gridcolor": "white",
            "linecolor": "white",
            "ticks": ""
           },
           "bgcolor": "#E5ECF6",
           "radialaxis": {
            "gridcolor": "white",
            "linecolor": "white",
            "ticks": ""
           }
          },
          "scene": {
           "xaxis": {
            "backgroundcolor": "#E5ECF6",
            "gridcolor": "white",
            "gridwidth": 2,
            "linecolor": "white",
            "showbackground": true,
            "ticks": "",
            "zerolinecolor": "white"
           },
           "yaxis": {
            "backgroundcolor": "#E5ECF6",
            "gridcolor": "white",
            "gridwidth": 2,
            "linecolor": "white",
            "showbackground": true,
            "ticks": "",
            "zerolinecolor": "white"
           },
           "zaxis": {
            "backgroundcolor": "#E5ECF6",
            "gridcolor": "white",
            "gridwidth": 2,
            "linecolor": "white",
            "showbackground": true,
            "ticks": "",
            "zerolinecolor": "white"
           }
          },
          "shapedefaults": {
           "line": {
            "color": "#2a3f5f"
           }
          },
          "ternary": {
           "aaxis": {
            "gridcolor": "white",
            "linecolor": "white",
            "ticks": ""
           },
           "baxis": {
            "gridcolor": "white",
            "linecolor": "white",
            "ticks": ""
           },
           "bgcolor": "#E5ECF6",
           "caxis": {
            "gridcolor": "white",
            "linecolor": "white",
            "ticks": ""
           }
          },
          "title": {
           "x": 0.05
          },
          "xaxis": {
           "automargin": true,
           "gridcolor": "white",
           "linecolor": "white",
           "ticks": "",
           "title": {
            "standoff": 15
           },
           "zerolinecolor": "white",
           "zerolinewidth": 2
          },
          "yaxis": {
           "automargin": true,
           "gridcolor": "white",
           "linecolor": "white",
           "ticks": "",
           "title": {
            "standoff": 15
           },
           "zerolinecolor": "white",
           "zerolinewidth": 2
          }
         }
        },
        "title": {
         "text": "Cross-sectional Volatility Comparison<br><sub>X-axis: Volatility Measures | Y-axis: Tickers</sub>",
         "x": 0.5,
         "xanchor": "center"
        },
        "width": 900,
        "xaxis": {
         "title": {
          "text": "Volatility Measures"
         }
        },
        "yaxis": {
         "title": {
          "text": "Tickers"
         }
        }
       }
      }
     },
     "metadata": {},
     "output_type": "display_data"
    }
   ],
   "source": [
    "# 2. CROSS-SECTIONAL VOLATILITY COMPARISON HEATMAP\n",
    "# X-axis: Volatility Measures, Y-axis: Tickers\n",
    "fig2 = go.Figure(data=go.Heatmap(\n",
    "    z=cross_sectional_heatmap.values,\n",
    "    x=cross_sectional_heatmap.columns,  # Volatility measures on X-axis\n",
    "    y=cross_sectional_heatmap.index,    # Tickers on Y-axis\n",
    "    colorscale='Viridis',\n",
    "    colorbar=dict(title=\"Volatility Value\"),\n",
    "    text=cross_sectional_heatmap.values.round(4),\n",
    "    texttemplate='%{text}',\n",
    "    textfont={\"size\": 10, \"color\": \"white\"},\n",
    "    hovertemplate='<b>%{y}</b><br>Measure: %{x}<br>Value: %{z:.4f}<extra></extra>'\n",
    "))\n",
    "\n",
    "fig2.update_layout(\n",
    "    title={\n",
    "        'text': 'Cross-sectional Volatility Comparison<br><sub>X-axis: Volatility Measures | Y-axis: Tickers</sub>',\n",
    "        'x': 0.5,\n",
    "        'xanchor': 'center'\n",
    "    },\n",
    "    xaxis_title='Volatility Measures',\n",
    "    yaxis_title='Tickers',\n",
    "    width=900,\n",
    "    height=500,\n",
    "    font=dict(size=12)\n",
    ")\n",
    "\n",
    "fig2.show()"
   ]
  },
  {
   "cell_type": "code",
   "execution_count": 25,
   "id": "8bfac187",
   "metadata": {},
   "outputs": [
    {
     "data": {
      "application/vnd.plotly.v1+json": {
       "config": {
        "plotlyServerURL": "https://plot.ly"
       },
       "data": [
        {
         "colorbar": {
          "title": {
           "text": "Average Volatility"
          }
         },
         "colorscale": [
          [
           0,
           "#0d0887"
          ],
          [
           0.1111111111111111,
           "#46039f"
          ],
          [
           0.2222222222222222,
           "#7201a8"
          ],
          [
           0.3333333333333333,
           "#9c179e"
          ],
          [
           0.4444444444444444,
           "#bd3786"
          ],
          [
           0.5555555555555556,
           "#d8576b"
          ],
          [
           0.6666666666666666,
           "#ed7953"
          ],
          [
           0.7777777777777778,
           "#fb9f3a"
          ],
          [
           0.8888888888888888,
           "#fdca26"
          ],
          [
           1,
           "#f0f921"
          ]
         ],
         "hovertemplate": "<b>%{y}</b><br>Measure: %{x}<br>Avg Volatility: %{z:.4f}<extra></extra>",
         "text": {
          "bdata": "ZDvfT42Xzj/qlbIMcaz2PzarPldbsc8/",
          "dtype": "f8",
          "shape": "1, 3"
         },
         "textfont": {
          "color": "white",
          "size": 12
         },
         "texttemplate": "%{text}",
         "type": "heatmap",
         "x": [
          "Historical Vol",
          "Parkinson Vol",
          "Garman-Klass Vol"
         ],
         "y": [
          "Technology"
         ],
         "z": {
          "bdata": "i44hAO6Wzj+jZgVya6z2P/hjT5Xmss8/",
          "dtype": "f8",
          "shape": "1, 3"
         }
        }
       ],
       "layout": {
        "font": {
         "size": 12
        },
        "height": 400,
        "template": {
         "data": {
          "bar": [
           {
            "error_x": {
             "color": "#2a3f5f"
            },
            "error_y": {
             "color": "#2a3f5f"
            },
            "marker": {
             "line": {
              "color": "#E5ECF6",
              "width": 0.5
             },
             "pattern": {
              "fillmode": "overlay",
              "size": 10,
              "solidity": 0.2
             }
            },
            "type": "bar"
           }
          ],
          "barpolar": [
           {
            "marker": {
             "line": {
              "color": "#E5ECF6",
              "width": 0.5
             },
             "pattern": {
              "fillmode": "overlay",
              "size": 10,
              "solidity": 0.2
             }
            },
            "type": "barpolar"
           }
          ],
          "carpet": [
           {
            "aaxis": {
             "endlinecolor": "#2a3f5f",
             "gridcolor": "white",
             "linecolor": "white",
             "minorgridcolor": "white",
             "startlinecolor": "#2a3f5f"
            },
            "baxis": {
             "endlinecolor": "#2a3f5f",
             "gridcolor": "white",
             "linecolor": "white",
             "minorgridcolor": "white",
             "startlinecolor": "#2a3f5f"
            },
            "type": "carpet"
           }
          ],
          "choropleth": [
           {
            "colorbar": {
             "outlinewidth": 0,
             "ticks": ""
            },
            "type": "choropleth"
           }
          ],
          "contour": [
           {
            "colorbar": {
             "outlinewidth": 0,
             "ticks": ""
            },
            "colorscale": [
             [
              0,
              "#0d0887"
             ],
             [
              0.1111111111111111,
              "#46039f"
             ],
             [
              0.2222222222222222,
              "#7201a8"
             ],
             [
              0.3333333333333333,
              "#9c179e"
             ],
             [
              0.4444444444444444,
              "#bd3786"
             ],
             [
              0.5555555555555556,
              "#d8576b"
             ],
             [
              0.6666666666666666,
              "#ed7953"
             ],
             [
              0.7777777777777778,
              "#fb9f3a"
             ],
             [
              0.8888888888888888,
              "#fdca26"
             ],
             [
              1,
              "#f0f921"
             ]
            ],
            "type": "contour"
           }
          ],
          "contourcarpet": [
           {
            "colorbar": {
             "outlinewidth": 0,
             "ticks": ""
            },
            "type": "contourcarpet"
           }
          ],
          "heatmap": [
           {
            "colorbar": {
             "outlinewidth": 0,
             "ticks": ""
            },
            "colorscale": [
             [
              0,
              "#0d0887"
             ],
             [
              0.1111111111111111,
              "#46039f"
             ],
             [
              0.2222222222222222,
              "#7201a8"
             ],
             [
              0.3333333333333333,
              "#9c179e"
             ],
             [
              0.4444444444444444,
              "#bd3786"
             ],
             [
              0.5555555555555556,
              "#d8576b"
             ],
             [
              0.6666666666666666,
              "#ed7953"
             ],
             [
              0.7777777777777778,
              "#fb9f3a"
             ],
             [
              0.8888888888888888,
              "#fdca26"
             ],
             [
              1,
              "#f0f921"
             ]
            ],
            "type": "heatmap"
           }
          ],
          "histogram": [
           {
            "marker": {
             "pattern": {
              "fillmode": "overlay",
              "size": 10,
              "solidity": 0.2
             }
            },
            "type": "histogram"
           }
          ],
          "histogram2d": [
           {
            "colorbar": {
             "outlinewidth": 0,
             "ticks": ""
            },
            "colorscale": [
             [
              0,
              "#0d0887"
             ],
             [
              0.1111111111111111,
              "#46039f"
             ],
             [
              0.2222222222222222,
              "#7201a8"
             ],
             [
              0.3333333333333333,
              "#9c179e"
             ],
             [
              0.4444444444444444,
              "#bd3786"
             ],
             [
              0.5555555555555556,
              "#d8576b"
             ],
             [
              0.6666666666666666,
              "#ed7953"
             ],
             [
              0.7777777777777778,
              "#fb9f3a"
             ],
             [
              0.8888888888888888,
              "#fdca26"
             ],
             [
              1,
              "#f0f921"
             ]
            ],
            "type": "histogram2d"
           }
          ],
          "histogram2dcontour": [
           {
            "colorbar": {
             "outlinewidth": 0,
             "ticks": ""
            },
            "colorscale": [
             [
              0,
              "#0d0887"
             ],
             [
              0.1111111111111111,
              "#46039f"
             ],
             [
              0.2222222222222222,
              "#7201a8"
             ],
             [
              0.3333333333333333,
              "#9c179e"
             ],
             [
              0.4444444444444444,
              "#bd3786"
             ],
             [
              0.5555555555555556,
              "#d8576b"
             ],
             [
              0.6666666666666666,
              "#ed7953"
             ],
             [
              0.7777777777777778,
              "#fb9f3a"
             ],
             [
              0.8888888888888888,
              "#fdca26"
             ],
             [
              1,
              "#f0f921"
             ]
            ],
            "type": "histogram2dcontour"
           }
          ],
          "mesh3d": [
           {
            "colorbar": {
             "outlinewidth": 0,
             "ticks": ""
            },
            "type": "mesh3d"
           }
          ],
          "parcoords": [
           {
            "line": {
             "colorbar": {
              "outlinewidth": 0,
              "ticks": ""
             }
            },
            "type": "parcoords"
           }
          ],
          "pie": [
           {
            "automargin": true,
            "type": "pie"
           }
          ],
          "scatter": [
           {
            "fillpattern": {
             "fillmode": "overlay",
             "size": 10,
             "solidity": 0.2
            },
            "type": "scatter"
           }
          ],
          "scatter3d": [
           {
            "line": {
             "colorbar": {
              "outlinewidth": 0,
              "ticks": ""
             }
            },
            "marker": {
             "colorbar": {
              "outlinewidth": 0,
              "ticks": ""
             }
            },
            "type": "scatter3d"
           }
          ],
          "scattercarpet": [
           {
            "marker": {
             "colorbar": {
              "outlinewidth": 0,
              "ticks": ""
             }
            },
            "type": "scattercarpet"
           }
          ],
          "scattergeo": [
           {
            "marker": {
             "colorbar": {
              "outlinewidth": 0,
              "ticks": ""
             }
            },
            "type": "scattergeo"
           }
          ],
          "scattergl": [
           {
            "marker": {
             "colorbar": {
              "outlinewidth": 0,
              "ticks": ""
             }
            },
            "type": "scattergl"
           }
          ],
          "scattermap": [
           {
            "marker": {
             "colorbar": {
              "outlinewidth": 0,
              "ticks": ""
             }
            },
            "type": "scattermap"
           }
          ],
          "scattermapbox": [
           {
            "marker": {
             "colorbar": {
              "outlinewidth": 0,
              "ticks": ""
             }
            },
            "type": "scattermapbox"
           }
          ],
          "scatterpolar": [
           {
            "marker": {
             "colorbar": {
              "outlinewidth": 0,
              "ticks": ""
             }
            },
            "type": "scatterpolar"
           }
          ],
          "scatterpolargl": [
           {
            "marker": {
             "colorbar": {
              "outlinewidth": 0,
              "ticks": ""
             }
            },
            "type": "scatterpolargl"
           }
          ],
          "scatterternary": [
           {
            "marker": {
             "colorbar": {
              "outlinewidth": 0,
              "ticks": ""
             }
            },
            "type": "scatterternary"
           }
          ],
          "surface": [
           {
            "colorbar": {
             "outlinewidth": 0,
             "ticks": ""
            },
            "colorscale": [
             [
              0,
              "#0d0887"
             ],
             [
              0.1111111111111111,
              "#46039f"
             ],
             [
              0.2222222222222222,
              "#7201a8"
             ],
             [
              0.3333333333333333,
              "#9c179e"
             ],
             [
              0.4444444444444444,
              "#bd3786"
             ],
             [
              0.5555555555555556,
              "#d8576b"
             ],
             [
              0.6666666666666666,
              "#ed7953"
             ],
             [
              0.7777777777777778,
              "#fb9f3a"
             ],
             [
              0.8888888888888888,
              "#fdca26"
             ],
             [
              1,
              "#f0f921"
             ]
            ],
            "type": "surface"
           }
          ],
          "table": [
           {
            "cells": {
             "fill": {
              "color": "#EBF0F8"
             },
             "line": {
              "color": "white"
             }
            },
            "header": {
             "fill": {
              "color": "#C8D4E3"
             },
             "line": {
              "color": "white"
             }
            },
            "type": "table"
           }
          ]
         },
         "layout": {
          "annotationdefaults": {
           "arrowcolor": "#2a3f5f",
           "arrowhead": 0,
           "arrowwidth": 1
          },
          "autotypenumbers": "strict",
          "coloraxis": {
           "colorbar": {
            "outlinewidth": 0,
            "ticks": ""
           }
          },
          "colorscale": {
           "diverging": [
            [
             0,
             "#8e0152"
            ],
            [
             0.1,
             "#c51b7d"
            ],
            [
             0.2,
             "#de77ae"
            ],
            [
             0.3,
             "#f1b6da"
            ],
            [
             0.4,
             "#fde0ef"
            ],
            [
             0.5,
             "#f7f7f7"
            ],
            [
             0.6,
             "#e6f5d0"
            ],
            [
             0.7,
             "#b8e186"
            ],
            [
             0.8,
             "#7fbc41"
            ],
            [
             0.9,
             "#4d9221"
            ],
            [
             1,
             "#276419"
            ]
           ],
           "sequential": [
            [
             0,
             "#0d0887"
            ],
            [
             0.1111111111111111,
             "#46039f"
            ],
            [
             0.2222222222222222,
             "#7201a8"
            ],
            [
             0.3333333333333333,
             "#9c179e"
            ],
            [
             0.4444444444444444,
             "#bd3786"
            ],
            [
             0.5555555555555556,
             "#d8576b"
            ],
            [
             0.6666666666666666,
             "#ed7953"
            ],
            [
             0.7777777777777778,
             "#fb9f3a"
            ],
            [
             0.8888888888888888,
             "#fdca26"
            ],
            [
             1,
             "#f0f921"
            ]
           ],
           "sequentialminus": [
            [
             0,
             "#0d0887"
            ],
            [
             0.1111111111111111,
             "#46039f"
            ],
            [
             0.2222222222222222,
             "#7201a8"
            ],
            [
             0.3333333333333333,
             "#9c179e"
            ],
            [
             0.4444444444444444,
             "#bd3786"
            ],
            [
             0.5555555555555556,
             "#d8576b"
            ],
            [
             0.6666666666666666,
             "#ed7953"
            ],
            [
             0.7777777777777778,
             "#fb9f3a"
            ],
            [
             0.8888888888888888,
             "#fdca26"
            ],
            [
             1,
             "#f0f921"
            ]
           ]
          },
          "colorway": [
           "#636efa",
           "#EF553B",
           "#00cc96",
           "#ab63fa",
           "#FFA15A",
           "#19d3f3",
           "#FF6692",
           "#B6E880",
           "#FF97FF",
           "#FECB52"
          ],
          "font": {
           "color": "#2a3f5f"
          },
          "geo": {
           "bgcolor": "white",
           "lakecolor": "white",
           "landcolor": "#E5ECF6",
           "showlakes": true,
           "showland": true,
           "subunitcolor": "white"
          },
          "hoverlabel": {
           "align": "left"
          },
          "hovermode": "closest",
          "mapbox": {
           "style": "light"
          },
          "paper_bgcolor": "white",
          "plot_bgcolor": "#E5ECF6",
          "polar": {
           "angularaxis": {
            "gridcolor": "white",
            "linecolor": "white",
            "ticks": ""
           },
           "bgcolor": "#E5ECF6",
           "radialaxis": {
            "gridcolor": "white",
            "linecolor": "white",
            "ticks": ""
           }
          },
          "scene": {
           "xaxis": {
            "backgroundcolor": "#E5ECF6",
            "gridcolor": "white",
            "gridwidth": 2,
            "linecolor": "white",
            "showbackground": true,
            "ticks": "",
            "zerolinecolor": "white"
           },
           "yaxis": {
            "backgroundcolor": "#E5ECF6",
            "gridcolor": "white",
            "gridwidth": 2,
            "linecolor": "white",
            "showbackground": true,
            "ticks": "",
            "zerolinecolor": "white"
           },
           "zaxis": {
            "backgroundcolor": "#E5ECF6",
            "gridcolor": "white",
            "gridwidth": 2,
            "linecolor": "white",
            "showbackground": true,
            "ticks": "",
            "zerolinecolor": "white"
           }
          },
          "shapedefaults": {
           "line": {
            "color": "#2a3f5f"
           }
          },
          "ternary": {
           "aaxis": {
            "gridcolor": "white",
            "linecolor": "white",
            "ticks": ""
           },
           "baxis": {
            "gridcolor": "white",
            "linecolor": "white",
            "ticks": ""
           },
           "bgcolor": "#E5ECF6",
           "caxis": {
            "gridcolor": "white",
            "linecolor": "white",
            "ticks": ""
           }
          },
          "title": {
           "x": 0.05
          },
          "xaxis": {
           "automargin": true,
           "gridcolor": "white",
           "linecolor": "white",
           "ticks": "",
           "title": {
            "standoff": 15
           },
           "zerolinecolor": "white",
           "zerolinewidth": 2
          },
          "yaxis": {
           "automargin": true,
           "gridcolor": "white",
           "linecolor": "white",
           "ticks": "",
           "title": {
            "standoff": 15
           },
           "zerolinecolor": "white",
           "zerolinewidth": 2
          }
         }
        },
        "title": {
         "text": "Sector Average Volatility Heatmap<br><sub>X-axis: Volatility Measures | Y-axis: Sectors</sub>",
         "x": 0.5,
         "xanchor": "center"
        },
        "width": 800,
        "xaxis": {
         "title": {
          "text": "Volatility Measures"
         }
        },
        "yaxis": {
         "title": {
          "text": "Sectors"
         }
        }
       }
      }
     },
     "metadata": {},
     "output_type": "display_data"
    }
   ],
   "source": [
    "# 3. SECTOR VOLATILITY HEATMAP\n",
    "# X-axis: Volatility Measures, Y-axis: Sectors\n",
    "fig3 = go.Figure(data=go.Heatmap(\n",
    "    z=sector_heatmap.values,\n",
    "    x=sector_heatmap.columns,  # Volatility measures on X-axis\n",
    "    y=sector_heatmap.index,    # Sectors on Y-axis\n",
    "    colorscale='Plasma',\n",
    "    colorbar=dict(title=\"Average Volatility\"),\n",
    "    text=sector_heatmap.values.round(4),\n",
    "    texttemplate='%{text}',\n",
    "    textfont={\"size\": 12, \"color\": \"white\"},\n",
    "    hovertemplate='<b>%{y}</b><br>Measure: %{x}<br>Avg Volatility: %{z:.4f}<extra></extra>'\n",
    "))\n",
    "\n",
    "fig3.update_layout(\n",
    "    title={\n",
    "        'text': 'Sector Average Volatility Heatmap<br><sub>X-axis: Volatility Measures | Y-axis: Sectors</sub>',\n",
    "        'x': 0.5,\n",
    "        'xanchor': 'center'\n",
    "    },\n",
    "    xaxis_title='Volatility Measures',\n",
    "    yaxis_title='Sectors',\n",
    "    width=800,\n",
    "    height=400,\n",
    "    font=dict(size=12)\n",
    ")\n",
    "\n",
    "fig3.show()"
   ]
  },
  {
   "cell_type": "code",
   "execution_count": 26,
   "id": "76dc02d9",
   "metadata": {},
   "outputs": [
    {
     "data": {
      "application/vnd.plotly.v1+json": {
       "config": {
        "plotlyServerURL": "https://plot.ly"
       },
       "data": [
        {
         "colorbar": {
          "title": {
           "text": "Correlation"
          }
         },
         "colorscale": [
          [
           0,
           "rgb(103,0,31)"
          ],
          [
           0.1,
           "rgb(178,24,43)"
          ],
          [
           0.2,
           "rgb(214,96,77)"
          ],
          [
           0.3,
           "rgb(244,165,130)"
          ],
          [
           0.4,
           "rgb(253,219,199)"
          ],
          [
           0.5,
           "rgb(247,247,247)"
          ],
          [
           0.6,
           "rgb(209,229,240)"
          ],
          [
           0.7,
           "rgb(146,197,222)"
          ],
          [
           0.8,
           "rgb(67,147,195)"
          ],
          [
           0.9,
           "rgb(33,102,172)"
          ],
          [
           1,
           "rgb(5,48,97)"
          ]
         ],
         "hovertemplate": "<b>%{y} vs %{x}</b><br>Correlation: %{z:.3f}<extra></extra>",
         "text": {
          "bdata": "AAAAAAAA8D/ufD81XrrRv5MYBFYOLdI/7nw/NV660b8AAAAAAADwP5qZmZmZmbk/kxgEVg4t0j+amZmZmZm5PwAAAAAAAPA/",
          "dtype": "f8",
          "shape": "3, 3"
         },
         "textfont": {
          "color": "black",
          "size": 11
         },
         "texttemplate": "%{text}",
         "type": "heatmap",
         "x": [
          "AAPL",
          "MSFT",
          "NVDA"
         ],
         "y": [
          "AAPL",
          "MSFT",
          "NVDA"
         ],
         "z": {
          "bdata": "AAAAAAAA8D8Nmjj5CLzRv2BSyxUGNdI/DZo4+Qi80b8AAAAAAADwP0xHEbBZrbk/YFLLFQY10j9MRxGwWa25PwAAAAAAAPA/",
          "dtype": "f8",
          "shape": "3, 3"
         },
         "zmid": 0
        }
       ],
       "layout": {
        "font": {
         "size": 12
        },
        "height": 600,
        "template": {
         "data": {
          "bar": [
           {
            "error_x": {
             "color": "#2a3f5f"
            },
            "error_y": {
             "color": "#2a3f5f"
            },
            "marker": {
             "line": {
              "color": "#E5ECF6",
              "width": 0.5
             },
             "pattern": {
              "fillmode": "overlay",
              "size": 10,
              "solidity": 0.2
             }
            },
            "type": "bar"
           }
          ],
          "barpolar": [
           {
            "marker": {
             "line": {
              "color": "#E5ECF6",
              "width": 0.5
             },
             "pattern": {
              "fillmode": "overlay",
              "size": 10,
              "solidity": 0.2
             }
            },
            "type": "barpolar"
           }
          ],
          "carpet": [
           {
            "aaxis": {
             "endlinecolor": "#2a3f5f",
             "gridcolor": "white",
             "linecolor": "white",
             "minorgridcolor": "white",
             "startlinecolor": "#2a3f5f"
            },
            "baxis": {
             "endlinecolor": "#2a3f5f",
             "gridcolor": "white",
             "linecolor": "white",
             "minorgridcolor": "white",
             "startlinecolor": "#2a3f5f"
            },
            "type": "carpet"
           }
          ],
          "choropleth": [
           {
            "colorbar": {
             "outlinewidth": 0,
             "ticks": ""
            },
            "type": "choropleth"
           }
          ],
          "contour": [
           {
            "colorbar": {
             "outlinewidth": 0,
             "ticks": ""
            },
            "colorscale": [
             [
              0,
              "#0d0887"
             ],
             [
              0.1111111111111111,
              "#46039f"
             ],
             [
              0.2222222222222222,
              "#7201a8"
             ],
             [
              0.3333333333333333,
              "#9c179e"
             ],
             [
              0.4444444444444444,
              "#bd3786"
             ],
             [
              0.5555555555555556,
              "#d8576b"
             ],
             [
              0.6666666666666666,
              "#ed7953"
             ],
             [
              0.7777777777777778,
              "#fb9f3a"
             ],
             [
              0.8888888888888888,
              "#fdca26"
             ],
             [
              1,
              "#f0f921"
             ]
            ],
            "type": "contour"
           }
          ],
          "contourcarpet": [
           {
            "colorbar": {
             "outlinewidth": 0,
             "ticks": ""
            },
            "type": "contourcarpet"
           }
          ],
          "heatmap": [
           {
            "colorbar": {
             "outlinewidth": 0,
             "ticks": ""
            },
            "colorscale": [
             [
              0,
              "#0d0887"
             ],
             [
              0.1111111111111111,
              "#46039f"
             ],
             [
              0.2222222222222222,
              "#7201a8"
             ],
             [
              0.3333333333333333,
              "#9c179e"
             ],
             [
              0.4444444444444444,
              "#bd3786"
             ],
             [
              0.5555555555555556,
              "#d8576b"
             ],
             [
              0.6666666666666666,
              "#ed7953"
             ],
             [
              0.7777777777777778,
              "#fb9f3a"
             ],
             [
              0.8888888888888888,
              "#fdca26"
             ],
             [
              1,
              "#f0f921"
             ]
            ],
            "type": "heatmap"
           }
          ],
          "histogram": [
           {
            "marker": {
             "pattern": {
              "fillmode": "overlay",
              "size": 10,
              "solidity": 0.2
             }
            },
            "type": "histogram"
           }
          ],
          "histogram2d": [
           {
            "colorbar": {
             "outlinewidth": 0,
             "ticks": ""
            },
            "colorscale": [
             [
              0,
              "#0d0887"
             ],
             [
              0.1111111111111111,
              "#46039f"
             ],
             [
              0.2222222222222222,
              "#7201a8"
             ],
             [
              0.3333333333333333,
              "#9c179e"
             ],
             [
              0.4444444444444444,
              "#bd3786"
             ],
             [
              0.5555555555555556,
              "#d8576b"
             ],
             [
              0.6666666666666666,
              "#ed7953"
             ],
             [
              0.7777777777777778,
              "#fb9f3a"
             ],
             [
              0.8888888888888888,
              "#fdca26"
             ],
             [
              1,
              "#f0f921"
             ]
            ],
            "type": "histogram2d"
           }
          ],
          "histogram2dcontour": [
           {
            "colorbar": {
             "outlinewidth": 0,
             "ticks": ""
            },
            "colorscale": [
             [
              0,
              "#0d0887"
             ],
             [
              0.1111111111111111,
              "#46039f"
             ],
             [
              0.2222222222222222,
              "#7201a8"
             ],
             [
              0.3333333333333333,
              "#9c179e"
             ],
             [
              0.4444444444444444,
              "#bd3786"
             ],
             [
              0.5555555555555556,
              "#d8576b"
             ],
             [
              0.6666666666666666,
              "#ed7953"
             ],
             [
              0.7777777777777778,
              "#fb9f3a"
             ],
             [
              0.8888888888888888,
              "#fdca26"
             ],
             [
              1,
              "#f0f921"
             ]
            ],
            "type": "histogram2dcontour"
           }
          ],
          "mesh3d": [
           {
            "colorbar": {
             "outlinewidth": 0,
             "ticks": ""
            },
            "type": "mesh3d"
           }
          ],
          "parcoords": [
           {
            "line": {
             "colorbar": {
              "outlinewidth": 0,
              "ticks": ""
             }
            },
            "type": "parcoords"
           }
          ],
          "pie": [
           {
            "automargin": true,
            "type": "pie"
           }
          ],
          "scatter": [
           {
            "fillpattern": {
             "fillmode": "overlay",
             "size": 10,
             "solidity": 0.2
            },
            "type": "scatter"
           }
          ],
          "scatter3d": [
           {
            "line": {
             "colorbar": {
              "outlinewidth": 0,
              "ticks": ""
             }
            },
            "marker": {
             "colorbar": {
              "outlinewidth": 0,
              "ticks": ""
             }
            },
            "type": "scatter3d"
           }
          ],
          "scattercarpet": [
           {
            "marker": {
             "colorbar": {
              "outlinewidth": 0,
              "ticks": ""
             }
            },
            "type": "scattercarpet"
           }
          ],
          "scattergeo": [
           {
            "marker": {
             "colorbar": {
              "outlinewidth": 0,
              "ticks": ""
             }
            },
            "type": "scattergeo"
           }
          ],
          "scattergl": [
           {
            "marker": {
             "colorbar": {
              "outlinewidth": 0,
              "ticks": ""
             }
            },
            "type": "scattergl"
           }
          ],
          "scattermap": [
           {
            "marker": {
             "colorbar": {
              "outlinewidth": 0,
              "ticks": ""
             }
            },
            "type": "scattermap"
           }
          ],
          "scattermapbox": [
           {
            "marker": {
             "colorbar": {
              "outlinewidth": 0,
              "ticks": ""
             }
            },
            "type": "scattermapbox"
           }
          ],
          "scatterpolar": [
           {
            "marker": {
             "colorbar": {
              "outlinewidth": 0,
              "ticks": ""
             }
            },
            "type": "scatterpolar"
           }
          ],
          "scatterpolargl": [
           {
            "marker": {
             "colorbar": {
              "outlinewidth": 0,
              "ticks": ""
             }
            },
            "type": "scatterpolargl"
           }
          ],
          "scatterternary": [
           {
            "marker": {
             "colorbar": {
              "outlinewidth": 0,
              "ticks": ""
             }
            },
            "type": "scatterternary"
           }
          ],
          "surface": [
           {
            "colorbar": {
             "outlinewidth": 0,
             "ticks": ""
            },
            "colorscale": [
             [
              0,
              "#0d0887"
             ],
             [
              0.1111111111111111,
              "#46039f"
             ],
             [
              0.2222222222222222,
              "#7201a8"
             ],
             [
              0.3333333333333333,
              "#9c179e"
             ],
             [
              0.4444444444444444,
              "#bd3786"
             ],
             [
              0.5555555555555556,
              "#d8576b"
             ],
             [
              0.6666666666666666,
              "#ed7953"
             ],
             [
              0.7777777777777778,
              "#fb9f3a"
             ],
             [
              0.8888888888888888,
              "#fdca26"
             ],
             [
              1,
              "#f0f921"
             ]
            ],
            "type": "surface"
           }
          ],
          "table": [
           {
            "cells": {
             "fill": {
              "color": "#EBF0F8"
             },
             "line": {
              "color": "white"
             }
            },
            "header": {
             "fill": {
              "color": "#C8D4E3"
             },
             "line": {
              "color": "white"
             }
            },
            "type": "table"
           }
          ]
         },
         "layout": {
          "annotationdefaults": {
           "arrowcolor": "#2a3f5f",
           "arrowhead": 0,
           "arrowwidth": 1
          },
          "autotypenumbers": "strict",
          "coloraxis": {
           "colorbar": {
            "outlinewidth": 0,
            "ticks": ""
           }
          },
          "colorscale": {
           "diverging": [
            [
             0,
             "#8e0152"
            ],
            [
             0.1,
             "#c51b7d"
            ],
            [
             0.2,
             "#de77ae"
            ],
            [
             0.3,
             "#f1b6da"
            ],
            [
             0.4,
             "#fde0ef"
            ],
            [
             0.5,
             "#f7f7f7"
            ],
            [
             0.6,
             "#e6f5d0"
            ],
            [
             0.7,
             "#b8e186"
            ],
            [
             0.8,
             "#7fbc41"
            ],
            [
             0.9,
             "#4d9221"
            ],
            [
             1,
             "#276419"
            ]
           ],
           "sequential": [
            [
             0,
             "#0d0887"
            ],
            [
             0.1111111111111111,
             "#46039f"
            ],
            [
             0.2222222222222222,
             "#7201a8"
            ],
            [
             0.3333333333333333,
             "#9c179e"
            ],
            [
             0.4444444444444444,
             "#bd3786"
            ],
            [
             0.5555555555555556,
             "#d8576b"
            ],
            [
             0.6666666666666666,
             "#ed7953"
            ],
            [
             0.7777777777777778,
             "#fb9f3a"
            ],
            [
             0.8888888888888888,
             "#fdca26"
            ],
            [
             1,
             "#f0f921"
            ]
           ],
           "sequentialminus": [
            [
             0,
             "#0d0887"
            ],
            [
             0.1111111111111111,
             "#46039f"
            ],
            [
             0.2222222222222222,
             "#7201a8"
            ],
            [
             0.3333333333333333,
             "#9c179e"
            ],
            [
             0.4444444444444444,
             "#bd3786"
            ],
            [
             0.5555555555555556,
             "#d8576b"
            ],
            [
             0.6666666666666666,
             "#ed7953"
            ],
            [
             0.7777777777777778,
             "#fb9f3a"
            ],
            [
             0.8888888888888888,
             "#fdca26"
            ],
            [
             1,
             "#f0f921"
            ]
           ]
          },
          "colorway": [
           "#636efa",
           "#EF553B",
           "#00cc96",
           "#ab63fa",
           "#FFA15A",
           "#19d3f3",
           "#FF6692",
           "#B6E880",
           "#FF97FF",
           "#FECB52"
          ],
          "font": {
           "color": "#2a3f5f"
          },
          "geo": {
           "bgcolor": "white",
           "lakecolor": "white",
           "landcolor": "#E5ECF6",
           "showlakes": true,
           "showland": true,
           "subunitcolor": "white"
          },
          "hoverlabel": {
           "align": "left"
          },
          "hovermode": "closest",
          "mapbox": {
           "style": "light"
          },
          "paper_bgcolor": "white",
          "plot_bgcolor": "#E5ECF6",
          "polar": {
           "angularaxis": {
            "gridcolor": "white",
            "linecolor": "white",
            "ticks": ""
           },
           "bgcolor": "#E5ECF6",
           "radialaxis": {
            "gridcolor": "white",
            "linecolor": "white",
            "ticks": ""
           }
          },
          "scene": {
           "xaxis": {
            "backgroundcolor": "#E5ECF6",
            "gridcolor": "white",
            "gridwidth": 2,
            "linecolor": "white",
            "showbackground": true,
            "ticks": "",
            "zerolinecolor": "white"
           },
           "yaxis": {
            "backgroundcolor": "#E5ECF6",
            "gridcolor": "white",
            "gridwidth": 2,
            "linecolor": "white",
            "showbackground": true,
            "ticks": "",
            "zerolinecolor": "white"
           },
           "zaxis": {
            "backgroundcolor": "#E5ECF6",
            "gridcolor": "white",
            "gridwidth": 2,
            "linecolor": "white",
            "showbackground": true,
            "ticks": "",
            "zerolinecolor": "white"
           }
          },
          "shapedefaults": {
           "line": {
            "color": "#2a3f5f"
           }
          },
          "ternary": {
           "aaxis": {
            "gridcolor": "white",
            "linecolor": "white",
            "ticks": ""
           },
           "baxis": {
            "gridcolor": "white",
            "linecolor": "white",
            "ticks": ""
           },
           "bgcolor": "#E5ECF6",
           "caxis": {
            "gridcolor": "white",
            "linecolor": "white",
            "ticks": ""
           }
          },
          "title": {
           "x": 0.05
          },
          "xaxis": {
           "automargin": true,
           "gridcolor": "white",
           "linecolor": "white",
           "ticks": "",
           "title": {
            "standoff": 15
           },
           "zerolinecolor": "white",
           "zerolinewidth": 2
          },
          "yaxis": {
           "automargin": true,
           "gridcolor": "white",
           "linecolor": "white",
           "ticks": "",
           "title": {
            "standoff": 15
           },
           "zerolinecolor": "white",
           "zerolinewidth": 2
          }
         }
        },
        "title": {
         "text": "Volatility Correlation Matrix<br><sub>X-axis: Tickers | Y-axis: Tickers</sub>",
         "x": 0.5,
         "xanchor": "center"
        },
        "width": 600,
        "xaxis": {
         "title": {
          "text": "Tickers"
         }
        },
        "yaxis": {
         "title": {
          "text": "Tickers"
         }
        }
       }
      }
     },
     "metadata": {},
     "output_type": "display_data"
    }
   ],
   "source": [
    "# 4. VOLATILITY CORRELATION HEATMAP\n",
    "# X-axis: Tickers, Y-axis: Tickers\n",
    "fig4 = go.Figure(data=go.Heatmap(\n",
    "    z=correlation_heatmap.values,\n",
    "    x=correlation_heatmap.columns,  # Tickers on X-axis\n",
    "    y=correlation_heatmap.index,    # Tickers on Y-axis\n",
    "    colorscale='RdBu',\n",
    "    zmid=0,  # Center the colorscale at 0\n",
    "    colorbar=dict(title=\"Correlation\"),\n",
    "    text=correlation_heatmap.values.round(3),\n",
    "    texttemplate='%{text}',\n",
    "    textfont={\"size\": 11, \"color\": \"black\"},\n",
    "    hovertemplate='<b>%{y} vs %{x}</b><br>Correlation: %{z:.3f}<extra></extra>'\n",
    "))\n",
    "\n",
    "fig4.update_layout(\n",
    "    title={\n",
    "        'text': 'Volatility Correlation Matrix<br><sub>X-axis: Tickers | Y-axis: Tickers</sub>',\n",
    "        'x': 0.5,\n",
    "        'xanchor': 'center'\n",
    "    },\n",
    "    xaxis_title='Tickers',\n",
    "    yaxis_title='Tickers',\n",
    "    width=600,\n",
    "    height=600,\n",
    "    font=dict(size=12)\n",
    ")\n",
    "\n",
    "fig4.show()"
   ]
  },
  {
   "cell_type": "markdown",
   "id": "0cfcec49",
   "metadata": {},
   "source": [
    "## Combined Dashboard View\n",
    "\n",
    "Create a comprehensive dashboard showing all heatmaps in a single view."
   ]
  },
  {
   "cell_type": "code",
   "execution_count": 27,
   "id": "18d8f140",
   "metadata": {},
   "outputs": [
    {
     "data": {
      "application/vnd.plotly.v1+json": {
       "config": {
        "plotlyServerURL": "https://plot.ly"
       },
       "data": [
        {
         "colorscale": [
          [
           0,
           "rgb(49,54,149)"
          ],
          [
           0.1,
           "rgb(69,117,180)"
          ],
          [
           0.2,
           "rgb(116,173,209)"
          ],
          [
           0.3,
           "rgb(171,217,233)"
          ],
          [
           0.4,
           "rgb(224,243,248)"
          ],
          [
           0.5,
           "rgb(255,255,191)"
          ],
          [
           0.6,
           "rgb(254,224,144)"
          ],
          [
           0.7,
           "rgb(253,174,97)"
          ],
          [
           0.8,
           "rgb(244,109,67)"
          ],
          [
           0.9,
           "rgb(215,48,39)"
          ],
          [
           1,
           "rgb(165,0,38)"
          ]
         ],
         "hovertemplate": "Period: %{x}<br>Ticker: %{y}<br>Vol: %{z:.4f}<extra></extra>",
         "showscale": false,
         "type": "heatmap",
         "x": [
          "2024-01",
          "2024-02",
          "2024-03",
          "2024-04",
          "2024-05",
          "2024-06",
          "2024-07",
          "2024-08",
          "2024-09",
          "2024-10",
          "2024-11",
          "2024-12"
         ],
         "xaxis": "x",
         "y": [
          "AAPL",
          "MSFT",
          "NVDA"
         ],
         "yaxis": "y",
         "z": {
          "bdata": "AAAAAAAA+H9kUSUpiWPGP/p9V5uGQss/mZP9RAZD0D/omEIz2z3OP4ADtnFnHdI/mqne8uGSzj8+KUZUHPfLPxAxY13IpMk/EXEw1GhcyT+TP9fabynFP5QEEuXGZcM/FaHpKf9b9T9fcQZT0OjIP7s83jAR+Mg/3rHbEYBoyT9A3RzjsjzMP62AVZHMmsQ/clYeDViDyj86ddC7ul/MP2AXyfV428U/o2uFEF1hzD+vBvRv3MnPPxWIe3Ngtsk/+p9qhSPaBEBqPZJOE23iP07zjqwCg+Q/jR0HcmRf4D/i1pYCLzfjP7EBX5m2vuE/hovUNNUs5j9/ANNMdQLoPxWFzKU87+E/6ZxUeXhX2D9ILpDtsFLYP7aP61NRVNc/",
          "dtype": "f8",
          "shape": "3, 12"
         }
        },
        {
         "colorscale": [
          [
           0,
           "#440154"
          ],
          [
           0.1111111111111111,
           "#482878"
          ],
          [
           0.2222222222222222,
           "#3e4989"
          ],
          [
           0.3333333333333333,
           "#31688e"
          ],
          [
           0.4444444444444444,
           "#26828e"
          ],
          [
           0.5555555555555556,
           "#1f9e89"
          ],
          [
           0.6666666666666666,
           "#35b779"
          ],
          [
           0.7777777777777778,
           "#6ece58"
          ],
          [
           0.8888888888888888,
           "#b5de2b"
          ],
          [
           1,
           "#fde725"
          ]
         ],
         "hovertemplate": "Measure: %{x}<br>Ticker: %{y}<br>Value: %{z:.4f}<extra></extra>",
         "showscale": false,
         "type": "heatmap",
         "x": [
          "Historical Vol",
          "Parkinson Vol",
          "Garman-Klass Vol",
          "Beta-Adj Vol"
         ],
         "xaxis": "x2",
         "y": [
          "AAPL",
          "MSFT",
          "NVDA"
         ],
         "yaxis": "y2",
         "z": {
          "bdata": "lAQS5cZlwz8+Qz89du3yPxJwBcCLV78/IfTW3fhKwD/qh3tzYLbJPyo+H0PkB/Q/nvFBqPfCwj93erH4EezDP5GP61NRVNc/grKx1ecP/T8fwdQb+1TePxnnE2bP2NI/",
          "dtype": "f8",
          "shape": "3, 4"
         }
        },
        {
         "colorscale": [
          [
           0,
           "#0d0887"
          ],
          [
           0.1111111111111111,
           "#46039f"
          ],
          [
           0.2222222222222222,
           "#7201a8"
          ],
          [
           0.3333333333333333,
           "#9c179e"
          ],
          [
           0.4444444444444444,
           "#bd3786"
          ],
          [
           0.5555555555555556,
           "#d8576b"
          ],
          [
           0.6666666666666666,
           "#ed7953"
          ],
          [
           0.7777777777777778,
           "#fb9f3a"
          ],
          [
           0.8888888888888888,
           "#fdca26"
          ],
          [
           1,
           "#f0f921"
          ]
         ],
         "hovertemplate": "Measure: %{x}<br>Sector: %{y}<br>Avg Vol: %{z:.4f}<extra></extra>",
         "showscale": false,
         "type": "heatmap",
         "x": [
          "Historical Vol",
          "Parkinson Vol",
          "Garman-Klass Vol"
         ],
         "xaxis": "x3",
         "y": [
          "Technology"
         ],
         "yaxis": "y3",
         "z": {
          "bdata": "i44hAO6Wzj+jZgVya6z2P/hjT5Xmss8/",
          "dtype": "f8",
          "shape": "1, 3"
         }
        },
        {
         "colorscale": [
          [
           0,
           "rgb(103,0,31)"
          ],
          [
           0.1,
           "rgb(178,24,43)"
          ],
          [
           0.2,
           "rgb(214,96,77)"
          ],
          [
           0.3,
           "rgb(244,165,130)"
          ],
          [
           0.4,
           "rgb(253,219,199)"
          ],
          [
           0.5,
           "rgb(247,247,247)"
          ],
          [
           0.6,
           "rgb(209,229,240)"
          ],
          [
           0.7,
           "rgb(146,197,222)"
          ],
          [
           0.8,
           "rgb(67,147,195)"
          ],
          [
           0.9,
           "rgb(33,102,172)"
          ],
          [
           1,
           "rgb(5,48,97)"
          ]
         ],
         "hovertemplate": "%{y} vs %{x}<br>Correlation: %{z:.3f}<extra></extra>",
         "showscale": false,
         "type": "heatmap",
         "x": [
          "AAPL",
          "MSFT",
          "NVDA"
         ],
         "xaxis": "x4",
         "y": [
          "AAPL",
          "MSFT",
          "NVDA"
         ],
         "yaxis": "y4",
         "z": {
          "bdata": "AAAAAAAA8D8Nmjj5CLzRv2BSyxUGNdI/DZo4+Qi80b8AAAAAAADwP0xHEbBZrbk/YFLLFQY10j9MRxGwWa25PwAAAAAAAPA/",
          "dtype": "f8",
          "shape": "3, 3"
         },
         "zmid": 0
        }
       ],
       "layout": {
        "annotations": [
         {
          "font": {
           "size": 16
          },
          "showarrow": false,
          "text": "Time-based Volatility (X: Time, Y: Tickers)",
          "x": 0.225,
          "xanchor": "center",
          "xref": "paper",
          "y": 1,
          "yanchor": "bottom",
          "yref": "paper"
         },
         {
          "font": {
           "size": 16
          },
          "showarrow": false,
          "text": "Cross-sectional Comparison (X: Measures, Y: Tickers)",
          "x": 0.775,
          "xanchor": "center",
          "xref": "paper",
          "y": 1,
          "yanchor": "bottom",
          "yref": "paper"
         },
         {
          "font": {
           "size": 16
          },
          "showarrow": false,
          "text": "Sector Analysis (X: Measures, Y: Sectors)",
          "x": 0.225,
          "xanchor": "center",
          "xref": "paper",
          "y": 0.375,
          "yanchor": "bottom",
          "yref": "paper"
         },
         {
          "font": {
           "size": 16
          },
          "showarrow": false,
          "text": "Volatility Correlations (X: Tickers, Y: Tickers)",
          "x": 0.775,
          "xanchor": "center",
          "xref": "paper",
          "y": 0.375,
          "yanchor": "bottom",
          "yref": "paper"
         }
        ],
        "font": {
         "size": 10
        },
        "height": 800,
        "template": {
         "data": {
          "bar": [
           {
            "error_x": {
             "color": "#2a3f5f"
            },
            "error_y": {
             "color": "#2a3f5f"
            },
            "marker": {
             "line": {
              "color": "#E5ECF6",
              "width": 0.5
             },
             "pattern": {
              "fillmode": "overlay",
              "size": 10,
              "solidity": 0.2
             }
            },
            "type": "bar"
           }
          ],
          "barpolar": [
           {
            "marker": {
             "line": {
              "color": "#E5ECF6",
              "width": 0.5
             },
             "pattern": {
              "fillmode": "overlay",
              "size": 10,
              "solidity": 0.2
             }
            },
            "type": "barpolar"
           }
          ],
          "carpet": [
           {
            "aaxis": {
             "endlinecolor": "#2a3f5f",
             "gridcolor": "white",
             "linecolor": "white",
             "minorgridcolor": "white",
             "startlinecolor": "#2a3f5f"
            },
            "baxis": {
             "endlinecolor": "#2a3f5f",
             "gridcolor": "white",
             "linecolor": "white",
             "minorgridcolor": "white",
             "startlinecolor": "#2a3f5f"
            },
            "type": "carpet"
           }
          ],
          "choropleth": [
           {
            "colorbar": {
             "outlinewidth": 0,
             "ticks": ""
            },
            "type": "choropleth"
           }
          ],
          "contour": [
           {
            "colorbar": {
             "outlinewidth": 0,
             "ticks": ""
            },
            "colorscale": [
             [
              0,
              "#0d0887"
             ],
             [
              0.1111111111111111,
              "#46039f"
             ],
             [
              0.2222222222222222,
              "#7201a8"
             ],
             [
              0.3333333333333333,
              "#9c179e"
             ],
             [
              0.4444444444444444,
              "#bd3786"
             ],
             [
              0.5555555555555556,
              "#d8576b"
             ],
             [
              0.6666666666666666,
              "#ed7953"
             ],
             [
              0.7777777777777778,
              "#fb9f3a"
             ],
             [
              0.8888888888888888,
              "#fdca26"
             ],
             [
              1,
              "#f0f921"
             ]
            ],
            "type": "contour"
           }
          ],
          "contourcarpet": [
           {
            "colorbar": {
             "outlinewidth": 0,
             "ticks": ""
            },
            "type": "contourcarpet"
           }
          ],
          "heatmap": [
           {
            "colorbar": {
             "outlinewidth": 0,
             "ticks": ""
            },
            "colorscale": [
             [
              0,
              "#0d0887"
             ],
             [
              0.1111111111111111,
              "#46039f"
             ],
             [
              0.2222222222222222,
              "#7201a8"
             ],
             [
              0.3333333333333333,
              "#9c179e"
             ],
             [
              0.4444444444444444,
              "#bd3786"
             ],
             [
              0.5555555555555556,
              "#d8576b"
             ],
             [
              0.6666666666666666,
              "#ed7953"
             ],
             [
              0.7777777777777778,
              "#fb9f3a"
             ],
             [
              0.8888888888888888,
              "#fdca26"
             ],
             [
              1,
              "#f0f921"
             ]
            ],
            "type": "heatmap"
           }
          ],
          "histogram": [
           {
            "marker": {
             "pattern": {
              "fillmode": "overlay",
              "size": 10,
              "solidity": 0.2
             }
            },
            "type": "histogram"
           }
          ],
          "histogram2d": [
           {
            "colorbar": {
             "outlinewidth": 0,
             "ticks": ""
            },
            "colorscale": [
             [
              0,
              "#0d0887"
             ],
             [
              0.1111111111111111,
              "#46039f"
             ],
             [
              0.2222222222222222,
              "#7201a8"
             ],
             [
              0.3333333333333333,
              "#9c179e"
             ],
             [
              0.4444444444444444,
              "#bd3786"
             ],
             [
              0.5555555555555556,
              "#d8576b"
             ],
             [
              0.6666666666666666,
              "#ed7953"
             ],
             [
              0.7777777777777778,
              "#fb9f3a"
             ],
             [
              0.8888888888888888,
              "#fdca26"
             ],
             [
              1,
              "#f0f921"
             ]
            ],
            "type": "histogram2d"
           }
          ],
          "histogram2dcontour": [
           {
            "colorbar": {
             "outlinewidth": 0,
             "ticks": ""
            },
            "colorscale": [
             [
              0,
              "#0d0887"
             ],
             [
              0.1111111111111111,
              "#46039f"
             ],
             [
              0.2222222222222222,
              "#7201a8"
             ],
             [
              0.3333333333333333,
              "#9c179e"
             ],
             [
              0.4444444444444444,
              "#bd3786"
             ],
             [
              0.5555555555555556,
              "#d8576b"
             ],
             [
              0.6666666666666666,
              "#ed7953"
             ],
             [
              0.7777777777777778,
              "#fb9f3a"
             ],
             [
              0.8888888888888888,
              "#fdca26"
             ],
             [
              1,
              "#f0f921"
             ]
            ],
            "type": "histogram2dcontour"
           }
          ],
          "mesh3d": [
           {
            "colorbar": {
             "outlinewidth": 0,
             "ticks": ""
            },
            "type": "mesh3d"
           }
          ],
          "parcoords": [
           {
            "line": {
             "colorbar": {
              "outlinewidth": 0,
              "ticks": ""
             }
            },
            "type": "parcoords"
           }
          ],
          "pie": [
           {
            "automargin": true,
            "type": "pie"
           }
          ],
          "scatter": [
           {
            "fillpattern": {
             "fillmode": "overlay",
             "size": 10,
             "solidity": 0.2
            },
            "type": "scatter"
           }
          ],
          "scatter3d": [
           {
            "line": {
             "colorbar": {
              "outlinewidth": 0,
              "ticks": ""
             }
            },
            "marker": {
             "colorbar": {
              "outlinewidth": 0,
              "ticks": ""
             }
            },
            "type": "scatter3d"
           }
          ],
          "scattercarpet": [
           {
            "marker": {
             "colorbar": {
              "outlinewidth": 0,
              "ticks": ""
             }
            },
            "type": "scattercarpet"
           }
          ],
          "scattergeo": [
           {
            "marker": {
             "colorbar": {
              "outlinewidth": 0,
              "ticks": ""
             }
            },
            "type": "scattergeo"
           }
          ],
          "scattergl": [
           {
            "marker": {
             "colorbar": {
              "outlinewidth": 0,
              "ticks": ""
             }
            },
            "type": "scattergl"
           }
          ],
          "scattermap": [
           {
            "marker": {
             "colorbar": {
              "outlinewidth": 0,
              "ticks": ""
             }
            },
            "type": "scattermap"
           }
          ],
          "scattermapbox": [
           {
            "marker": {
             "colorbar": {
              "outlinewidth": 0,
              "ticks": ""
             }
            },
            "type": "scattermapbox"
           }
          ],
          "scatterpolar": [
           {
            "marker": {
             "colorbar": {
              "outlinewidth": 0,
              "ticks": ""
             }
            },
            "type": "scatterpolar"
           }
          ],
          "scatterpolargl": [
           {
            "marker": {
             "colorbar": {
              "outlinewidth": 0,
              "ticks": ""
             }
            },
            "type": "scatterpolargl"
           }
          ],
          "scatterternary": [
           {
            "marker": {
             "colorbar": {
              "outlinewidth": 0,
              "ticks": ""
             }
            },
            "type": "scatterternary"
           }
          ],
          "surface": [
           {
            "colorbar": {
             "outlinewidth": 0,
             "ticks": ""
            },
            "colorscale": [
             [
              0,
              "#0d0887"
             ],
             [
              0.1111111111111111,
              "#46039f"
             ],
             [
              0.2222222222222222,
              "#7201a8"
             ],
             [
              0.3333333333333333,
              "#9c179e"
             ],
             [
              0.4444444444444444,
              "#bd3786"
             ],
             [
              0.5555555555555556,
              "#d8576b"
             ],
             [
              0.6666666666666666,
              "#ed7953"
             ],
             [
              0.7777777777777778,
              "#fb9f3a"
             ],
             [
              0.8888888888888888,
              "#fdca26"
             ],
             [
              1,
              "#f0f921"
             ]
            ],
            "type": "surface"
           }
          ],
          "table": [
           {
            "cells": {
             "fill": {
              "color": "#EBF0F8"
             },
             "line": {
              "color": "white"
             }
            },
            "header": {
             "fill": {
              "color": "#C8D4E3"
             },
             "line": {
              "color": "white"
             }
            },
            "type": "table"
           }
          ]
         },
         "layout": {
          "annotationdefaults": {
           "arrowcolor": "#2a3f5f",
           "arrowhead": 0,
           "arrowwidth": 1
          },
          "autotypenumbers": "strict",
          "coloraxis": {
           "colorbar": {
            "outlinewidth": 0,
            "ticks": ""
           }
          },
          "colorscale": {
           "diverging": [
            [
             0,
             "#8e0152"
            ],
            [
             0.1,
             "#c51b7d"
            ],
            [
             0.2,
             "#de77ae"
            ],
            [
             0.3,
             "#f1b6da"
            ],
            [
             0.4,
             "#fde0ef"
            ],
            [
             0.5,
             "#f7f7f7"
            ],
            [
             0.6,
             "#e6f5d0"
            ],
            [
             0.7,
             "#b8e186"
            ],
            [
             0.8,
             "#7fbc41"
            ],
            [
             0.9,
             "#4d9221"
            ],
            [
             1,
             "#276419"
            ]
           ],
           "sequential": [
            [
             0,
             "#0d0887"
            ],
            [
             0.1111111111111111,
             "#46039f"
            ],
            [
             0.2222222222222222,
             "#7201a8"
            ],
            [
             0.3333333333333333,
             "#9c179e"
            ],
            [
             0.4444444444444444,
             "#bd3786"
            ],
            [
             0.5555555555555556,
             "#d8576b"
            ],
            [
             0.6666666666666666,
             "#ed7953"
            ],
            [
             0.7777777777777778,
             "#fb9f3a"
            ],
            [
             0.8888888888888888,
             "#fdca26"
            ],
            [
             1,
             "#f0f921"
            ]
           ],
           "sequentialminus": [
            [
             0,
             "#0d0887"
            ],
            [
             0.1111111111111111,
             "#46039f"
            ],
            [
             0.2222222222222222,
             "#7201a8"
            ],
            [
             0.3333333333333333,
             "#9c179e"
            ],
            [
             0.4444444444444444,
             "#bd3786"
            ],
            [
             0.5555555555555556,
             "#d8576b"
            ],
            [
             0.6666666666666666,
             "#ed7953"
            ],
            [
             0.7777777777777778,
             "#fb9f3a"
            ],
            [
             0.8888888888888888,
             "#fdca26"
            ],
            [
             1,
             "#f0f921"
            ]
           ]
          },
          "colorway": [
           "#636efa",
           "#EF553B",
           "#00cc96",
           "#ab63fa",
           "#FFA15A",
           "#19d3f3",
           "#FF6692",
           "#B6E880",
           "#FF97FF",
           "#FECB52"
          ],
          "font": {
           "color": "#2a3f5f"
          },
          "geo": {
           "bgcolor": "white",
           "lakecolor": "white",
           "landcolor": "#E5ECF6",
           "showlakes": true,
           "showland": true,
           "subunitcolor": "white"
          },
          "hoverlabel": {
           "align": "left"
          },
          "hovermode": "closest",
          "mapbox": {
           "style": "light"
          },
          "paper_bgcolor": "white",
          "plot_bgcolor": "#E5ECF6",
          "polar": {
           "angularaxis": {
            "gridcolor": "white",
            "linecolor": "white",
            "ticks": ""
           },
           "bgcolor": "#E5ECF6",
           "radialaxis": {
            "gridcolor": "white",
            "linecolor": "white",
            "ticks": ""
           }
          },
          "scene": {
           "xaxis": {
            "backgroundcolor": "#E5ECF6",
            "gridcolor": "white",
            "gridwidth": 2,
            "linecolor": "white",
            "showbackground": true,
            "ticks": "",
            "zerolinecolor": "white"
           },
           "yaxis": {
            "backgroundcolor": "#E5ECF6",
            "gridcolor": "white",
            "gridwidth": 2,
            "linecolor": "white",
            "showbackground": true,
            "ticks": "",
            "zerolinecolor": "white"
           },
           "zaxis": {
            "backgroundcolor": "#E5ECF6",
            "gridcolor": "white",
            "gridwidth": 2,
            "linecolor": "white",
            "showbackground": true,
            "ticks": "",
            "zerolinecolor": "white"
           }
          },
          "shapedefaults": {
           "line": {
            "color": "#2a3f5f"
           }
          },
          "ternary": {
           "aaxis": {
            "gridcolor": "white",
            "linecolor": "white",
            "ticks": ""
           },
           "baxis": {
            "gridcolor": "white",
            "linecolor": "white",
            "ticks": ""
           },
           "bgcolor": "#E5ECF6",
           "caxis": {
            "gridcolor": "white",
            "linecolor": "white",
            "ticks": ""
           }
          },
          "title": {
           "x": 0.05
          },
          "xaxis": {
           "automargin": true,
           "gridcolor": "white",
           "linecolor": "white",
           "ticks": "",
           "title": {
            "standoff": 15
           },
           "zerolinecolor": "white",
           "zerolinewidth": 2
          },
          "yaxis": {
           "automargin": true,
           "gridcolor": "white",
           "linecolor": "white",
           "ticks": "",
           "title": {
            "standoff": 15
           },
           "zerolinecolor": "white",
           "zerolinewidth": 2
          }
         }
        },
        "title": {
         "text": "Volatility Analysis Dashboard - All Heatmap Types",
         "x": 0.5
        },
        "width": 1400,
        "xaxis": {
         "anchor": "y",
         "domain": [
          0,
          0.45
         ]
        },
        "xaxis2": {
         "anchor": "y2",
         "domain": [
          0.55,
          1
         ]
        },
        "xaxis3": {
         "anchor": "y3",
         "domain": [
          0,
          0.45
         ]
        },
        "xaxis4": {
         "anchor": "y4",
         "domain": [
          0.55,
          1
         ]
        },
        "yaxis": {
         "anchor": "x",
         "domain": [
          0.625,
          1
         ]
        },
        "yaxis2": {
         "anchor": "x2",
         "domain": [
          0.625,
          1
         ]
        },
        "yaxis3": {
         "anchor": "x3",
         "domain": [
          0,
          0.375
         ]
        },
        "yaxis4": {
         "anchor": "x4",
         "domain": [
          0,
          0.375
         ]
        }
       }
      }
     },
     "metadata": {},
     "output_type": "display_data"
    }
   ],
   "source": [
    "# COMBINED DASHBOARD - All 4 heatmaps in subplots\n",
    "fig_combined = make_subplots(\n",
    "    rows=2, cols=2,\n",
    "    subplot_titles=[\n",
    "        'Time-based Volatility (X: Time, Y: Tickers)',\n",
    "        'Cross-sectional Comparison (X: Measures, Y: Tickers)',\n",
    "        'Sector Analysis (X: Measures, Y: Sectors)', \n",
    "        'Volatility Correlations (X: Tickers, Y: Tickers)'\n",
    "    ],\n",
    "    specs=[[{\"type\": \"heatmap\"}, {\"type\": \"heatmap\"}],\n",
    "           [{\"type\": \"heatmap\"}, {\"type\": \"heatmap\"}]]\n",
    ")\n",
    "\n",
    "# Add heatmap 1: Time-based\n",
    "fig_combined.add_trace(\n",
    "    go.Heatmap(\n",
    "        z=time_heatmap.T.values,\n",
    "        x=time_heatmap.index.strftime('%Y-%m'),\n",
    "        y=time_heatmap.columns,\n",
    "        colorscale='RdYlBu_r',\n",
    "        showscale=False,\n",
    "        hovertemplate='Period: %{x}<br>Ticker: %{y}<br>Vol: %{z:.4f}<extra></extra>'\n",
    "    ),\n",
    "    row=1, col=1\n",
    ")\n",
    "\n",
    "# Add heatmap 2: Cross-sectional\n",
    "fig_combined.add_trace(\n",
    "    go.Heatmap(\n",
    "        z=cross_sectional_heatmap.values,\n",
    "        x=cross_sectional_heatmap.columns,\n",
    "        y=cross_sectional_heatmap.index,\n",
    "        colorscale='Viridis',\n",
    "        showscale=False,\n",
    "        hovertemplate='Measure: %{x}<br>Ticker: %{y}<br>Value: %{z:.4f}<extra></extra>'\n",
    "    ),\n",
    "    row=1, col=2\n",
    ")\n",
    "\n",
    "# Add heatmap 3: Sector\n",
    "fig_combined.add_trace(\n",
    "    go.Heatmap(\n",
    "        z=sector_heatmap.values,\n",
    "        x=sector_heatmap.columns,\n",
    "        y=sector_heatmap.index,\n",
    "        colorscale='Plasma',\n",
    "        showscale=False,\n",
    "        hovertemplate='Measure: %{x}<br>Sector: %{y}<br>Avg Vol: %{z:.4f}<extra></extra>'\n",
    "    ),\n",
    "    row=2, col=1\n",
    ")\n",
    "\n",
    "# Add heatmap 4: Correlation\n",
    "fig_combined.add_trace(\n",
    "    go.Heatmap(\n",
    "        z=correlation_heatmap.values,\n",
    "        x=correlation_heatmap.columns,\n",
    "        y=correlation_heatmap.index,\n",
    "        colorscale='RdBu',\n",
    "        zmid=0,\n",
    "        showscale=False,\n",
    "        hovertemplate='%{y} vs %{x}<br>Correlation: %{z:.3f}<extra></extra>'\n",
    "    ),\n",
    "    row=2, col=2\n",
    ")\n",
    "\n",
    "fig_combined.update_layout(\n",
    "    title_text=\"Volatility Analysis Dashboard - All Heatmap Types\",\n",
    "    title_x=0.5,\n",
    "    width=1400,\n",
    "    height=800,\n",
    "    font=dict(size=10)\n",
    ")\n",
    "\n",
    "fig_combined.show()"
   ]
  },
  {
   "cell_type": "markdown",
   "id": "663aa806",
   "metadata": {},
   "source": [
    "## Summary of Heatmap Axis Configurations\n",
    "\n",
    "### 1. Time-based Volatility Heatmap\n",
    "- **X-axis**: Time Periods (Daily/Weekly/Monthly/Quarterly)\n",
    "- **Y-axis**: Tickers/Assets\n",
    "- **Values**: Historical volatility over time\n",
    "- **Use Case**: Track volatility evolution across time\n",
    "\n",
    "### 2. Cross-sectional Volatility Comparison\n",
    "- **X-axis**: Different Volatility Measures (Historical, Parkinson, Garman-Klass, Beta-Adjusted)\n",
    "- **Y-axis**: Tickers/Assets  \n",
    "- **Values**: Latest volatility values for each measure\n",
    "- **Use Case**: Compare different volatility calculation methods\n",
    "\n",
    "### 3. Sector Volatility Analysis\n",
    "- **X-axis**: Volatility Measures\n",
    "- **Y-axis**: Sectors\n",
    "- **Values**: Average volatility by sector\n",
    "- **Use Case**: Sector-level risk assessment\n",
    "\n",
    "### 4. Volatility Correlation Matrix\n",
    "- **X-axis**: Tickers/Assets\n",
    "- **Y-axis**: Tickers/Assets\n",
    "- **Values**: Correlation coefficients between volatilities\n",
    "- **Use Case**: Portfolio diversification analysis"
   ]
  },
  {
   "cell_type": "code",
   "execution_count": 28,
   "id": "2ad5c1d6",
   "metadata": {},
   "outputs": [
    {
     "name": "stdout",
     "output_type": "stream",
     "text": [
      "Exporting heatmap data...\n",
      "✓ All heatmap data exported to 'volatility_heatmaps_analysis.xlsx'\n",
      "\n",
      "=== HEATMAP SUMMARY STATISTICS ===\n",
      "Time-based heatmap shape: (12, 3)\n",
      "Cross-sectional heatmap shape: (3, 4)\n",
      "Sector heatmap shape: (1, 3)\n",
      "Correlation heatmap shape: (3, 3)\n",
      "\n",
      "Volatility ranges:\n",
      "Historical Vol: 0.1515 - 0.3645\n",
      "Parkinson Vol: 1.1830 - 1.8164\n",
      "Garman-Klass Vol: 0.1224 - 0.4739\n"
     ]
    }
   ],
   "source": [
    "# Export heatmap data for further analysis\n",
    "print(\"Exporting heatmap data...\")\n",
    "\n",
    "# Save all heatmap data to Excel with multiple sheets\n",
    "with pd.ExcelWriter('volatility_heatmaps_analysis.xlsx') as writer:\n",
    "    time_heatmap.to_excel(writer, sheet_name='Time_Based')\n",
    "    cross_sectional_heatmap.to_excel(writer, sheet_name='Cross_Sectional')\n",
    "    sector_heatmap.to_excel(writer, sheet_name='Sector_Analysis')\n",
    "    correlation_heatmap.to_excel(writer, sheet_name='Correlations')\n",
    "\n",
    "print(\"✓ All heatmap data exported to 'volatility_heatmaps_analysis.xlsx'\")\n",
    "\n",
    "# Display summary statistics\n",
    "print(\"\\n=== HEATMAP SUMMARY STATISTICS ===\")\n",
    "print(f\"Time-based heatmap shape: {time_heatmap.shape}\")\n",
    "print(f\"Cross-sectional heatmap shape: {cross_sectional_heatmap.shape}\")\n",
    "print(f\"Sector heatmap shape: {sector_heatmap.shape}\")\n",
    "print(f\"Correlation heatmap shape: {correlation_heatmap.shape}\")\n",
    "\n",
    "print(f\"\\nVolatility ranges:\")\n",
    "print(f\"Historical Vol: {cross_sectional_heatmap['Historical Vol'].min():.4f} - {cross_sectional_heatmap['Historical Vol'].max():.4f}\")\n",
    "print(f\"Parkinson Vol: {cross_sectional_heatmap['Parkinson Vol'].min():.4f} - {cross_sectional_heatmap['Parkinson Vol'].max():.4f}\")\n",
    "print(f\"Garman-Klass Vol: {cross_sectional_heatmap['Garman-Klass Vol'].min():.4f} - {cross_sectional_heatmap['Garman-Klass Vol'].max():.4f}\")"
   ]
  },
  {
   "cell_type": "code",
   "execution_count": 29,
   "id": "4c72f72e",
   "metadata": {},
   "outputs": [
    {
     "name": "stdout",
     "output_type": "stream",
     "text": [
      "=== Benchmark Data Structure Analysis ===\n",
      "benchmark_df type: <class 'pandas.core.frame.DataFrame'>\n",
      "benchmark_df shape: (251, 7)\n",
      "benchmark_df index: DatetimeIndex(['2024-01-02', '2024-01-03', '2024-01-04', '2024-01-05',\n",
      "               '2024-01-08', '2024-01-09', '2024-01-10', '2024-01-11',\n",
      "               '2024-01-12', '2024-01-16',\n",
      "               ...\n",
      "               '2024-12-16', '2024-12-17', '2024-12-18', '2024-12-19',\n",
      "               '2024-12-20', '2024-12-23', '2024-12-24', '2024-12-26',\n",
      "               '2024-12-27', '2024-12-30'],\n",
      "              dtype='datetime64[ns]', name='Date', length=251, freq=None)\n",
      "benchmark_df columns: MultiIndex([('Adj Close', '^GSPC'),\n",
      "            (    'Close', '^GSPC'),\n",
      "            (     'High', '^GSPC'),\n",
      "            (      'Low', '^GSPC'),\n",
      "            (     'Open', '^GSPC'),\n",
      "            (   'Volume', '^GSPC'),\n",
      "            (  'Returns',      '')],\n",
      "           names=['Price', 'Ticker'])\n",
      "benchmark_df index has levels: False\n",
      "\n",
      "First few rows:\n",
      "Price         Adj Close        Close         High          Low         Open  \\\n",
      "Ticker            ^GSPC        ^GSPC        ^GSPC        ^GSPC        ^GSPC   \n",
      "Date                                                                          \n",
      "2024-01-02  4742.830078  4742.830078  4754.330078  4722.669922  4745.200195   \n",
      "2024-01-03  4704.810059  4704.810059  4729.290039  4699.709961  4725.069824   \n",
      "2024-01-04  4688.680176  4688.680176  4726.779785  4687.529785  4697.419922   \n",
      "2024-01-05  4697.240234  4697.240234  4721.490234  4682.109863  4690.569824   \n",
      "2024-01-08  4763.540039  4763.540039  4764.540039  4699.819824  4703.700195   \n",
      "\n",
      "Price           Volume   Returns  \n",
      "Ticker           ^GSPC            \n",
      "Date                              \n",
      "2024-01-02  3743050000       NaN  \n",
      "2024-01-03  3950760000 -0.008016  \n",
      "2024-01-04  3715480000 -0.003428  \n",
      "2024-01-05  3844370000  0.001826  \n",
      "2024-01-08  3742320000  0.014115  \n",
      "\n",
      "=== Testing Fixed Cross-sectional Heatmap ===\n",
      "✓ Fixed cross-sectional heatmap: (3, 4)\n",
      "\n",
      "Fixed data:\n",
      "      Historical Vol  Parkinson Vol  Garman-Klass Vol  Beta-Adj Vol\n",
      "AAPL        0.151543       1.182974          0.122430      0.127288\n",
      "MSFT        0.200878       1.251927          0.146575      0.155642\n",
      "NVDA        0.364521       1.816383          0.473937      0.294483\n",
      "✓ Fixed cross-sectional heatmap: (3, 4)\n",
      "\n",
      "Fixed data:\n",
      "      Historical Vol  Parkinson Vol  Garman-Klass Vol  Beta-Adj Vol\n",
      "AAPL        0.151543       1.182974          0.122430      0.127288\n",
      "MSFT        0.200878       1.251927          0.146575      0.155642\n",
      "NVDA        0.364521       1.816383          0.473937      0.294483\n"
     ]
    }
   ],
   "source": [
    "# Debug benchmark data structure to fix beta calculation\n",
    "print(\"=== Benchmark Data Structure Analysis ===\")\n",
    "print(f\"benchmark_df type: {type(benchmark_df)}\")\n",
    "print(f\"benchmark_df shape: {benchmark_df.shape}\")\n",
    "print(f\"benchmark_df index: {benchmark_df.index}\")\n",
    "print(f\"benchmark_df columns: {benchmark_df.columns}\")\n",
    "print(f\"benchmark_df index has levels: {hasattr(benchmark_df.index, 'levels')}\")\n",
    "print(\"\\nFirst few rows:\")\n",
    "print(benchmark_df.head())\n",
    "\n",
    "# Test the fix by reloading and running\n",
    "importlib.reload(volatility)\n",
    "\n",
    "print(\"\\n=== Testing Fixed Cross-sectional Heatmap ===\")\n",
    "cross_sectional_heatmap_fixed = volatility.prepare_cross_sectional_heatmap(ohlcv_data, benchmark_df, window=30)\n",
    "print(f\"✓ Fixed cross-sectional heatmap: {cross_sectional_heatmap_fixed.shape}\")\n",
    "print(\"\\nFixed data:\")\n",
    "print(cross_sectional_heatmap_fixed)"
   ]
  },
  {
   "cell_type": "code",
   "execution_count": 30,
   "id": "ef267bd2",
   "metadata": {},
   "outputs": [
    {
     "name": "stdout",
     "output_type": "stream",
     "text": [
      "=== Updated Heatmap Data (No Warnings) ===\n",
      "Time heatmap: (12, 3)\n",
      "Cross-sectional heatmap: (3, 4)\n",
      "Sector heatmap: (1, 3)\n",
      "Correlation heatmap: (3, 3)\n",
      "\n",
      "All heatmap data prepared successfully without warnings!\n"
     ]
    }
   ],
   "source": [
    "# Update the visualization with the fixed data\n",
    "cross_sectional_heatmap = cross_sectional_heatmap_fixed\n",
    "\n",
    "print(\"=== Updated Heatmap Data (No Warnings) ===\")\n",
    "print(f\"Time heatmap: {time_heatmap.shape}\")\n",
    "print(f\"Cross-sectional heatmap: {cross_sectional_heatmap.shape}\")\n",
    "print(f\"Sector heatmap: {sector_heatmap.shape}\")\n",
    "print(f\"Correlation heatmap: {correlation_heatmap.shape}\")\n",
    "print(\"\\nAll heatmap data prepared successfully without warnings!\")"
   ]
  }
 ],
 "metadata": {
  "kernelspec": {
   "display_name": "risklens-py3.11",
   "language": "python",
   "name": "python3"
  },
  "language_info": {
   "codemirror_mode": {
    "name": "ipython",
    "version": 3
   },
   "file_extension": ".py",
   "mimetype": "text/x-python",
   "name": "python",
   "nbconvert_exporter": "python",
   "pygments_lexer": "ipython3",
   "version": "3.11.3"
  }
 },
 "nbformat": 4,
 "nbformat_minor": 5
}
