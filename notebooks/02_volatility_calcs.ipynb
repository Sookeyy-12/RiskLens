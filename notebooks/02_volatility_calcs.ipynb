{
 "cells": [
  {
   "cell_type": "markdown",
   "id": "b40f16a0",
   "metadata": {},
   "source": [
    "# Testing Stuff related to Volatility"
   ]
  },
  {
   "cell_type": "code",
   "execution_count": 1,
   "id": "9d2860f1",
   "metadata": {},
   "outputs": [],
   "source": [
    "from src import data_fetcher\n",
    "import pandas as pd"
   ]
  },
  {
   "cell_type": "code",
   "execution_count": 2,
   "id": "32f18dda",
   "metadata": {},
   "outputs": [
    {
     "name": "stderr",
     "output_type": "stream",
     "text": [
      "[*********************100%***********************]  2 of 2 completed\n"
     ]
    },
    {
     "data": {
      "text/html": [
       "<div>\n",
       "<style scoped>\n",
       "    .dataframe tbody tr th:only-of-type {\n",
       "        vertical-align: middle;\n",
       "    }\n",
       "\n",
       "    .dataframe tbody tr th {\n",
       "        vertical-align: top;\n",
       "    }\n",
       "\n",
       "    .dataframe thead th {\n",
       "        text-align: right;\n",
       "    }\n",
       "</style>\n",
       "<table border=\"1\" class=\"dataframe\">\n",
       "  <thead>\n",
       "    <tr style=\"text-align: right;\">\n",
       "      <th></th>\n",
       "      <th>Price</th>\n",
       "      <th>Open</th>\n",
       "      <th>High</th>\n",
       "      <th>Low</th>\n",
       "      <th>Close</th>\n",
       "      <th>Adj Close</th>\n",
       "      <th>Volume</th>\n",
       "    </tr>\n",
       "    <tr>\n",
       "      <th>Date</th>\n",
       "      <th>Ticker</th>\n",
       "      <th></th>\n",
       "      <th></th>\n",
       "      <th></th>\n",
       "      <th></th>\n",
       "      <th></th>\n",
       "      <th></th>\n",
       "    </tr>\n",
       "  </thead>\n",
       "  <tbody>\n",
       "    <tr>\n",
       "      <th>2024-01-02</th>\n",
       "      <th>NVDA</th>\n",
       "      <td>49.243999</td>\n",
       "      <td>49.294998</td>\n",
       "      <td>47.595001</td>\n",
       "      <td>48.167999</td>\n",
       "      <td>48.146572</td>\n",
       "      <td>411254000</td>\n",
       "    </tr>\n",
       "    <tr>\n",
       "      <th>2024-01-03</th>\n",
       "      <th>NVDA</th>\n",
       "      <td>47.485001</td>\n",
       "      <td>48.183998</td>\n",
       "      <td>47.320000</td>\n",
       "      <td>47.569000</td>\n",
       "      <td>47.547840</td>\n",
       "      <td>320896000</td>\n",
       "    </tr>\n",
       "    <tr>\n",
       "      <th>2024-01-04</th>\n",
       "      <th>NVDA</th>\n",
       "      <td>47.766998</td>\n",
       "      <td>48.500000</td>\n",
       "      <td>47.507999</td>\n",
       "      <td>47.998001</td>\n",
       "      <td>47.976650</td>\n",
       "      <td>306535000</td>\n",
       "    </tr>\n",
       "    <tr>\n",
       "      <th>2024-01-05</th>\n",
       "      <th>NVDA</th>\n",
       "      <td>48.462002</td>\n",
       "      <td>49.547001</td>\n",
       "      <td>48.306000</td>\n",
       "      <td>49.097000</td>\n",
       "      <td>49.075153</td>\n",
       "      <td>415039000</td>\n",
       "    </tr>\n",
       "    <tr>\n",
       "      <th>2024-01-08</th>\n",
       "      <th>NVDA</th>\n",
       "      <td>49.512001</td>\n",
       "      <td>52.275002</td>\n",
       "      <td>49.479000</td>\n",
       "      <td>52.252998</td>\n",
       "      <td>52.229752</td>\n",
       "      <td>642510000</td>\n",
       "    </tr>\n",
       "  </tbody>\n",
       "</table>\n",
       "</div>"
      ],
      "text/plain": [
       "Price                   Open       High        Low      Close  Adj Close  \\\n",
       "Date       Ticker                                                          \n",
       "2024-01-02 NVDA    49.243999  49.294998  47.595001  48.167999  48.146572   \n",
       "2024-01-03 NVDA    47.485001  48.183998  47.320000  47.569000  47.547840   \n",
       "2024-01-04 NVDA    47.766998  48.500000  47.507999  47.998001  47.976650   \n",
       "2024-01-05 NVDA    48.462002  49.547001  48.306000  49.097000  49.075153   \n",
       "2024-01-08 NVDA    49.512001  52.275002  49.479000  52.252998  52.229752   \n",
       "\n",
       "Price                 Volume  \n",
       "Date       Ticker             \n",
       "2024-01-02 NVDA    411254000  \n",
       "2024-01-03 NVDA    320896000  \n",
       "2024-01-04 NVDA    306535000  \n",
       "2024-01-05 NVDA    415039000  \n",
       "2024-01-08 NVDA    642510000  "
      ]
     },
     "execution_count": 2,
     "metadata": {},
     "output_type": "execute_result"
    }
   ],
   "source": [
    "data : pd.MultiIndex = data_fetcher.fetch_ohlcv([\"NVDA\", \"AAPL\"], \"2024-01-01\", \"2024-12-31\")\n",
    "data.to_excel(\"NVDA_AAPL_ohlcv.xlsx\")\n",
    "data.head()"
   ]
  },
  {
   "cell_type": "code",
   "execution_count": 3,
   "id": "895ab3fe",
   "metadata": {},
   "outputs": [
    {
     "data": {
      "text/plain": [
       "Date        Ticker\n",
       "2024-01-02  NVDA      48.146572\n",
       "2024-01-03  NVDA      47.547840\n",
       "2024-01-04  NVDA      47.976650\n",
       "2024-01-05  NVDA      49.075153\n",
       "2024-01-08  NVDA      52.229752\n",
       "Name: Adj Close, dtype: float64"
      ]
     },
     "execution_count": 3,
     "metadata": {},
     "output_type": "execute_result"
    }
   ],
   "source": [
    "data['Adj Close'].head()"
   ]
  },
  {
   "cell_type": "code",
   "execution_count": 4,
   "id": "aa536b35",
   "metadata": {},
   "outputs": [
    {
     "data": {
      "text/plain": [
       "Date        Ticker\n",
       "2024-01-02  NVDA           NaN\n",
       "2024-01-03  NVDA     -0.012436\n",
       "2024-01-04  NVDA      0.009018\n",
       "2024-01-05  NVDA      0.022897\n",
       "2024-01-08  NVDA      0.064281\n",
       "                        ...   \n",
       "2024-12-23  AAPL      0.003065\n",
       "2024-12-24  AAPL      0.011478\n",
       "2024-12-26  AAPL      0.003176\n",
       "2024-12-27  AAPL     -0.013242\n",
       "2024-12-30  AAPL     -0.013263\n",
       "Name: Adj Close, Length: 502, dtype: float64"
      ]
     },
     "execution_count": 4,
     "metadata": {},
     "output_type": "execute_result"
    }
   ],
   "source": [
    "daily_return_pct = data['Adj Close'].pct_change()\n",
    "daily_return_pct"
   ]
  },
  {
   "cell_type": "code",
   "execution_count": 5,
   "id": "760754f1",
   "metadata": {},
   "outputs": [
    {
     "data": {
      "text/plain": [
       "Date        Ticker\n",
       "2024-01-02  NVDA           NaN\n",
       "2024-01-03  NVDA     -0.012514\n",
       "2024-01-04  NVDA      0.008978\n",
       "2024-01-05  NVDA      0.022638\n",
       "2024-01-08  NVDA      0.062299\n",
       "                        ...   \n",
       "2024-12-23  AAPL      0.003060\n",
       "2024-12-24  AAPL      0.011413\n",
       "2024-12-26  AAPL      0.003171\n",
       "2024-12-27  AAPL     -0.013331\n",
       "2024-12-30  AAPL     -0.013352\n",
       "Name: Adj Close, Length: 502, dtype: float64"
      ]
     },
     "execution_count": 5,
     "metadata": {},
     "output_type": "execute_result"
    }
   ],
   "source": [
    "import numpy as np\n",
    "daily_return_log = np.log(data['Adj Close'] / data['Adj Close'].shift(1))\n",
    "daily_return_log"
   ]
  },
  {
   "cell_type": "markdown",
   "id": "7f6090c1",
   "metadata": {},
   "source": [
    "### DataFlow Example"
   ]
  },
  {
   "cell_type": "code",
   "execution_count": 6,
   "id": "0cac1da3",
   "metadata": {},
   "outputs": [],
   "source": [
    "from src.volatility import volatility_summary"
   ]
  },
  {
   "cell_type": "code",
   "execution_count": 7,
   "id": "c3a70877",
   "metadata": {},
   "outputs": [
    {
     "name": "stderr",
     "output_type": "stream",
     "text": [
      "[                       0%                       ]"
     ]
    },
    {
     "name": "stderr",
     "output_type": "stream",
     "text": [
      "[*********************100%***********************]  3 of 3 completed\n",
      "[*********************100%***********************]  1 of 1 completed\n"
     ]
    }
   ],
   "source": [
    "tickers = ['AAPL', 'MSFT', 'NVDA']\n",
    "ohlcv_data = data_fetcher.fetch_ohlcv(tickers, \"2024-01-01\", \"2024-12-31\")\n",
    "sector_map = data_fetcher.get_sector_mapping(tickers)\n",
    "benchmark_df = data_fetcher.fetch_index_data(\"^GSPC\", \"2024-01-01\", \"2024-12-31\")"
   ]
  },
  {
   "cell_type": "code",
   "execution_count": 8,
   "id": "ab532364",
   "metadata": {},
   "outputs": [
    {
     "name": "stdout",
     "output_type": "stream",
     "text": [
      "sector_map:\n",
      "  Ticker      Sector\n",
      "0   AAPL  Technology\n",
      "1   MSFT  Technology\n",
      "2   NVDA  Technology\n",
      "\n",
      "Type: <class 'pandas.core.frame.DataFrame'>\n",
      "Shape: (3, 2)\n",
      "Columns: ['Ticker', 'Sector']\n",
      "Index: RangeIndex(start=0, stop=3, step=1)\n",
      "Data types: Ticker    object\n",
      "Sector    object\n",
      "dtype: object\n"
     ]
    }
   ],
   "source": [
    "print(\"sector_map:\")\n",
    "print(sector_map)\n",
    "print(f\"\\nType: {type(sector_map)}\")\n",
    "print(f\"Shape: {sector_map.shape}\")\n",
    "print(f\"Columns: {sector_map.columns.tolist()}\")\n",
    "print(f\"Index: {sector_map.index}\")\n",
    "print(f\"Data types: {sector_map.dtypes}\")"
   ]
  },
  {
   "cell_type": "code",
   "execution_count": 9,
   "id": "bb9b23b7",
   "metadata": {},
   "outputs": [
    {
     "name": "stdout",
     "output_type": "stream",
     "text": [
      "ohlcv_data structure:\n",
      "Type: <class 'pandas.core.frame.DataFrame'>\n",
      "Index: MultiIndex([('2024-01-02', 'AAPL'),\n",
      "            ('2024-01-03', 'AAPL'),\n",
      "            ('2024-01-04', 'AAPL'),\n",
      "            ('2024-01-05', 'AAPL'),\n",
      "            ('2024-01-08', 'AAPL'),\n",
      "            ('2024-01-09', 'AAPL'),\n",
      "            ('2024-01-10', 'AAPL'),\n",
      "            ('2024-01-11', 'AAPL'),\n",
      "            ('2024-01-12', 'AAPL'),\n",
      "            ('2024-01-16', 'AAPL'),\n",
      "            ...\n",
      "            ('2024-12-16', 'NVDA'),\n",
      "            ('2024-12-17', 'NVDA'),\n",
      "            ('2024-12-18', 'NVDA'),\n",
      "            ('2024-12-19', 'NVDA'),\n",
      "            ('2024-12-20', 'NVDA'),\n",
      "            ('2024-12-23', 'NVDA'),\n",
      "            ('2024-12-24', 'NVDA'),\n",
      "            ('2024-12-26', 'NVDA'),\n",
      "            ('2024-12-27', 'NVDA'),\n",
      "            ('2024-12-30', 'NVDA')],\n",
      "           names=['Date', 'Ticker'], length=753)\n",
      "Columns: Index(['Open', 'High', 'Low', 'Close', 'Adj Close', 'Volume'], dtype='object', name='Price')\n",
      "\n",
      "First few rows:\n",
      "Price                    Open        High         Low       Close   Adj Close  \\\n",
      "Date       Ticker                                                               \n",
      "2024-01-02 AAPL    187.149994  188.440002  183.889999  185.639999  184.081497   \n",
      "2024-01-03 AAPL    184.220001  185.880005  183.429993  184.250000  182.703171   \n",
      "2024-01-04 AAPL    182.149994  183.089996  180.880005  181.910004  180.382812   \n",
      "2024-01-05 AAPL    181.990005  182.759995  180.169998  181.179993  179.658936   \n",
      "2024-01-08 AAPL    182.089996  185.600006  181.500000  185.559998  184.002182   \n",
      "\n",
      "Price                Volume  \n",
      "Date       Ticker            \n",
      "2024-01-02 AAPL    82488700  \n",
      "2024-01-03 AAPL    58414500  \n",
      "2024-01-04 AAPL    71983600  \n",
      "2024-01-05 AAPL    62379700  \n",
      "2024-01-08 AAPL    59144500  \n",
      "\n",
      "historical_volatility output:\n",
      "Type: <class 'pandas.core.series.Series'>\n",
      "Shape: (753,)\n",
      "Index: MultiIndex([('2024-01-02', 'AAPL'),\n",
      "            ('2024-01-03', 'AAPL'),\n",
      "            ('2024-01-04', 'AAPL'),\n",
      "            ('2024-01-05', 'AAPL'),\n",
      "            ('2024-01-08', 'AAPL'),\n",
      "            ('2024-01-09', 'AAPL'),\n",
      "            ('2024-01-10', 'AAPL'),\n",
      "            ('2024-01-11', 'AAPL'),\n",
      "            ('2024-01-12', 'AAPL'),\n",
      "            ('2024-01-16', 'AAPL'),\n",
      "            ...\n",
      "            ('2024-12-16', 'NVDA'),\n",
      "            ('2024-12-17', 'NVDA'),\n",
      "            ('2024-12-18', 'NVDA'),\n",
      "            ('2024-12-19', 'NVDA'),\n",
      "            ('2024-12-20', 'NVDA'),\n",
      "            ('2024-12-23', 'NVDA'),\n",
      "            ('2024-12-24', 'NVDA'),\n",
      "            ('2024-12-26', 'NVDA'),\n",
      "            ('2024-12-27', 'NVDA'),\n",
      "            ('2024-12-30', 'NVDA')],\n",
      "           names=['Date', 'Ticker'], length=753)\n",
      "Sample values:\n",
      "Date        Ticker\n",
      "2024-12-23  NVDA      0.367499\n",
      "2024-12-24  NVDA      0.333764\n",
      "2024-12-26  NVDA      0.333502\n",
      "2024-12-27  NVDA      0.339849\n",
      "2024-12-30  NVDA      0.331227\n",
      "Name: Adj Close, dtype: float64\n"
     ]
    }
   ],
   "source": [
    "# Let's check the ohlcv_data structure and test historical_volatility directly\n",
    "print(\"ohlcv_data structure:\")\n",
    "print(f\"Type: {type(ohlcv_data)}\")\n",
    "print(f\"Index: {ohlcv_data.index}\")\n",
    "print(f\"Columns: {ohlcv_data.columns}\")\n",
    "print(\"\\nFirst few rows:\")\n",
    "print(ohlcv_data.head())\n",
    "\n",
    "# Test historical volatility function directly\n",
    "from src.volatility import historical_volatility\n",
    "hist_vol = historical_volatility(ohlcv_data, window=20)\n",
    "print(f\"\\nhistorical_volatility output:\")\n",
    "print(f\"Type: {type(hist_vol)}\")\n",
    "print(f\"Shape: {hist_vol.shape}\")\n",
    "print(f\"Index: {hist_vol.index}\")\n",
    "print(\"Sample values:\")\n",
    "print(hist_vol.tail())"
   ]
  },
  {
   "cell_type": "code",
   "execution_count": 10,
   "id": "1bf040b0",
   "metadata": {},
   "outputs": [
    {
     "name": "stdout",
     "output_type": "stream",
     "text": [
      "hist_vol type: <class 'pandas.core.series.Series'>\n",
      "hist_vol index type: <class 'pandas.core.indexes.multi.MultiIndex'>\n",
      "\n",
      "ticker_vol after groupby:\n",
      "Ticker\n",
      "AAPL    0.162911\n",
      "MSFT    0.201190\n",
      "NVDA    0.331227\n",
      "Name: Adj Close, dtype: float64\n",
      "ticker_vol index: Index(['AAPL', 'MSFT', 'NVDA'], dtype='object', name='Ticker')\n",
      "\n",
      "vol_df after conversion:\n",
      "  Ticker  Volatility\n",
      "0   AAPL    0.162911\n",
      "1   MSFT    0.201190\n",
      "2   NVDA    0.331227\n",
      "\n",
      "sector_map structure:\n",
      "  Ticker      Sector\n",
      "0   AAPL  Technology\n",
      "1   MSFT  Technology\n",
      "2   NVDA  Technology\n",
      "\n",
      "Merge successful!\n",
      "  Ticker  Volatility      Sector\n",
      "0   AAPL    0.162911  Technology\n",
      "1   MSFT    0.201190  Technology\n",
      "2   NVDA    0.331227  Technology\n"
     ]
    }
   ],
   "source": [
    "# Debug the sector_volatility function step by step\n",
    "from src.volatility import sector_volatility\n",
    "\n",
    "# Test just the transformation part\n",
    "hist_vol = historical_volatility(ohlcv_data, window=20)\n",
    "print(\"hist_vol type:\", type(hist_vol))\n",
    "print(\"hist_vol index type:\", type(hist_vol.index))\n",
    "\n",
    "# Get the latest value for each ticker\n",
    "if isinstance(hist_vol.index, pd.MultiIndex):\n",
    "    ticker_vol = hist_vol.groupby(level=1).last().dropna()\n",
    "    print(\"\\nticker_vol after groupby:\")\n",
    "    print(ticker_vol)\n",
    "    print(\"ticker_vol index:\", ticker_vol.index)\n",
    "    \n",
    "    # Convert to DataFrame\n",
    "    vol_df = ticker_vol.to_frame('Volatility')\n",
    "    vol_df.index.name = 'Ticker'\n",
    "    vol_df = vol_df.reset_index()\n",
    "    print(\"\\nvol_df after conversion:\")\n",
    "    print(vol_df)\n",
    "    \n",
    "    print(\"\\nsector_map structure:\")\n",
    "    print(sector_map)\n",
    "    \n",
    "    # Try the merge\n",
    "    try:\n",
    "        merged_df = vol_df.merge(sector_map, on='Ticker', how='left')\n",
    "        print(\"\\nMerge successful!\")\n",
    "        print(merged_df)\n",
    "    except Exception as e:\n",
    "        print(f\"\\nMerge failed: {e}\")\n",
    "        print(f\"vol_df columns: {vol_df.columns}\")\n",
    "        print(f\"sector_map columns: {sector_map.columns}\")\n",
    "        print(f\"vol_df column levels: {vol_df.columns.nlevels}\")\n",
    "        print(f\"sector_map column levels: {sector_map.columns.nlevels}\")"
   ]
  },
  {
   "cell_type": "code",
   "execution_count": 11,
   "id": "7444d575",
   "metadata": {},
   "outputs": [
    {
     "name": "stdout",
     "output_type": "stream",
     "text": [
      "sector_volatility result:\n",
      "Sector\n",
      "Technology    0.231776\n",
      "Name: Volatility, dtype: float64\n"
     ]
    }
   ],
   "source": [
    "# Reload the volatility module\n",
    "import importlib\n",
    "from src import volatility\n",
    "importlib.reload(volatility)\n",
    "\n",
    "# Now try the sector_volatility function\n",
    "sector_vol_result = volatility.sector_volatility(hist_vol, sector_map)\n",
    "print(\"sector_volatility result:\")\n",
    "print(sector_vol_result)"
   ]
  },
  {
   "cell_type": "code",
   "execution_count": 12,
   "id": "ab86bf91",
   "metadata": {},
   "outputs": [
    {
     "name": "stdout",
     "output_type": "stream",
     "text": [
      "volatility_summary completed successfully!\n",
      "\n",
      "Heatmap data:\n",
      "                             Daily Returns  Historical Volatility  \\\n",
      "(2024-01-02 00:00:00, AAPL)            NaN                    NaN   \n",
      "(2024-01-02 00:00:00, MSFT)       0.459196               1.628197   \n",
      "(2024-01-02 00:00:00, NVDA)      -0.886233               3.149140   \n",
      "(2024-01-03 00:00:00, AAPL)      -0.007488                    NaN   \n",
      "(2024-01-03 00:00:00, MSFT)      -0.000728               1.630309   \n",
      "...                                    ...                    ...   \n",
      "(2024-12-27 00:00:00, NVDA)      -0.020868               0.339849   \n",
      "(2024-12-30 00:00:00, AAPL)      -0.013263               0.162911   \n",
      "(2024-12-30 00:00:00, MSFT)      -0.013240               0.201190   \n",
      "(2024-12-30 00:00:00, NVDA)       0.003503               0.331227   \n",
      "Technology                             NaN                    NaN   \n",
      "\n",
      "                             Parkinson Volatility  Sector Average Volatility  \\\n",
      "(2024-01-02 00:00:00, AAPL)                   NaN                        NaN   \n",
      "(2024-01-02 00:00:00, MSFT)              1.217717                        NaN   \n",
      "(2024-01-02 00:00:00, NVDA)              1.261484                        NaN   \n",
      "(2024-01-03 00:00:00, AAPL)                   NaN                        NaN   \n",
      "(2024-01-03 00:00:00, MSFT)              1.211692                        NaN   \n",
      "...                                           ...                        ...   \n",
      "(2024-12-27 00:00:00, NVDA)              1.735864                        NaN   \n",
      "(2024-12-30 00:00:00, AAPL)              1.200052                        NaN   \n",
      "(2024-12-30 00:00:00, MSFT)              1.247489                        NaN   \n",
      "(2024-12-30 00:00:00, NVDA)              1.763930                        NaN   \n",
      "Technology                                    NaN                   0.231776   \n",
      "\n",
      "                             Beta-Adjusted Volatility  \n",
      "(2024-01-02 00:00:00, AAPL)                       NaN  \n",
      "(2024-01-02 00:00:00, MSFT)                  1.628197  \n",
      "(2024-01-02 00:00:00, NVDA)                  3.149140  \n",
      "(2024-01-03 00:00:00, AAPL)                       NaN  \n",
      "(2024-01-03 00:00:00, MSFT)                  1.630309  \n",
      "...                                               ...  \n",
      "(2024-12-27 00:00:00, NVDA)                  0.339849  \n",
      "(2024-12-30 00:00:00, AAPL)                  0.162911  \n",
      "(2024-12-30 00:00:00, MSFT)                  0.201190  \n",
      "(2024-12-30 00:00:00, NVDA)                  0.331227  \n",
      "Technology                                        NaN  \n",
      "\n",
      "[754 rows x 5 columns]\n"
     ]
    },
    {
     "name": "stderr",
     "output_type": "stream",
     "text": [
      "C:\\Users\\KIIT\\Desktop\\Everything Code\\Quant\\RiskLens\\src\\volatility.py:127: RuntimeWarning: The values in the array are unorderable. Pass `sort=False` to suppress this warning.\n",
      "  summary_df = pd.DataFrame({\n"
     ]
    }
   ],
   "source": [
    "# Reload the volatility module again to get the latest changes\n",
    "importlib.reload(volatility)\n",
    "\n",
    "# Now try the full volatility_summary function\n",
    "heatmap_data = volatility.volatility_summary(ohlcv_data, benchmark_df, sector_map, window=20)\n",
    "print(\"volatility_summary completed successfully!\")\n",
    "print(\"\\nHeatmap data:\")\n",
    "print(heatmap_data)"
   ]
  },
  {
   "cell_type": "code",
   "execution_count": 13,
   "id": "812f6b65",
   "metadata": {},
   "outputs": [
    {
     "data": {
      "image/png": "[encoded data removed]",
      "text/plain": [
       "<Figure size 1200x800 with 2 Axes>"
      ]
     },
     "metadata": {},
     "output_type": "display_data"
    }
   ],
   "source": [
    "# visuzlize heatmap\n",
    "import seaborn as sns\n",
    "import matplotlib.pyplot as plt\n",
    "\n",
    "plt.figure(figsize=(12, 8))\n",
    "sns.heatmap(heatmap_data.corr(), annot=True, fmt=\".2f\", cmap=\"coolwarm\")\n",
    "plt.title(\"Volatility Heatmap\")\n",
    "plt.show()"
   ]
  }
 ],
 "metadata": {
  "kernelspec": {
   "display_name": "risklens-py3.11",
   "language": "python",
   "name": "python3"
  },
  "language_info": {
   "codemirror_mode": {
    "name": "ipython",
    "version": 3
   },
   "file_extension": ".py",
   "mimetype": "text/x-python",
   "name": "python",
   "nbconvert_exporter": "python",
   "pygments_lexer": "ipython3",
   "version": "3.11.3"
  }
 },
 "nbformat": 4,
 "nbformat_minor": 5
}
