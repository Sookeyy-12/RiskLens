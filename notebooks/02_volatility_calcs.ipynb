{
 "cells": [
  {
   "cell_type": "markdown",
   "id": "b40f16a0",
   "metadata": {},
   "source": [
    "# Testing Stuff related to Volatility"
   ]
  },
  {
   "cell_type": "code",
   "execution_count": 10,
   "id": "9d2860f1",
   "metadata": {},
   "outputs": [],
   "source": [
    "from src import data_fetcher\n",
    "import pandas as pd"
   ]
  },
  {
   "cell_type": "code",
   "execution_count": 11,
   "id": "32f18dda",
   "metadata": {},
   "outputs": [
    {
     "name": "stderr",
     "output_type": "stream",
     "text": [
      "[*********************100%***********************]  2 of 2 completed\n"
     ]
    },
    {
     "data": {
      "text/html": [
       "<div>\n",
       "<style scoped>\n",
       "    .dataframe tbody tr th:only-of-type {\n",
       "        vertical-align: middle;\n",
       "    }\n",
       "\n",
       "    .dataframe tbody tr th {\n",
       "        vertical-align: top;\n",
       "    }\n",
       "\n",
       "    .dataframe thead th {\n",
       "        text-align: right;\n",
       "    }\n",
       "</style>\n",
       "<table border=\"1\" class=\"dataframe\">\n",
       "  <thead>\n",
       "    <tr style=\"text-align: right;\">\n",
       "      <th></th>\n",
       "      <th>Price</th>\n",
       "      <th>Open</th>\n",
       "      <th>High</th>\n",
       "      <th>Low</th>\n",
       "      <th>Close</th>\n",
       "      <th>Adj Close</th>\n",
       "      <th>Volume</th>\n",
       "    </tr>\n",
       "    <tr>\n",
       "      <th>Date</th>\n",
       "      <th>Ticker</th>\n",
       "      <th></th>\n",
       "      <th></th>\n",
       "      <th></th>\n",
       "      <th></th>\n",
       "      <th></th>\n",
       "      <th></th>\n",
       "    </tr>\n",
       "  </thead>\n",
       "  <tbody>\n",
       "    <tr>\n",
       "      <th>2024-01-02</th>\n",
       "      <th>NVDA</th>\n",
       "      <td>49.243999</td>\n",
       "      <td>49.294998</td>\n",
       "      <td>47.595001</td>\n",
       "      <td>48.167999</td>\n",
       "      <td>48.146572</td>\n",
       "      <td>411254000</td>\n",
       "    </tr>\n",
       "    <tr>\n",
       "      <th>2024-01-03</th>\n",
       "      <th>NVDA</th>\n",
       "      <td>47.485001</td>\n",
       "      <td>48.183998</td>\n",
       "      <td>47.320000</td>\n",
       "      <td>47.569000</td>\n",
       "      <td>47.547836</td>\n",
       "      <td>320896000</td>\n",
       "    </tr>\n",
       "    <tr>\n",
       "      <th>2024-01-04</th>\n",
       "      <th>NVDA</th>\n",
       "      <td>47.766998</td>\n",
       "      <td>48.500000</td>\n",
       "      <td>47.507999</td>\n",
       "      <td>47.998001</td>\n",
       "      <td>47.976650</td>\n",
       "      <td>306535000</td>\n",
       "    </tr>\n",
       "    <tr>\n",
       "      <th>2024-01-05</th>\n",
       "      <th>NVDA</th>\n",
       "      <td>48.462002</td>\n",
       "      <td>49.547001</td>\n",
       "      <td>48.306000</td>\n",
       "      <td>49.097000</td>\n",
       "      <td>49.075161</td>\n",
       "      <td>415039000</td>\n",
       "    </tr>\n",
       "    <tr>\n",
       "      <th>2024-01-08</th>\n",
       "      <th>NVDA</th>\n",
       "      <td>49.512001</td>\n",
       "      <td>52.275002</td>\n",
       "      <td>49.479000</td>\n",
       "      <td>52.252998</td>\n",
       "      <td>52.229755</td>\n",
       "      <td>642510000</td>\n",
       "    </tr>\n",
       "  </tbody>\n",
       "</table>\n",
       "</div>"
      ],
      "text/plain": [
       "Price                   Open       High        Low      Close  Adj Close  \\\n",
       "Date       Ticker                                                          \n",
       "2024-01-02 NVDA    49.243999  49.294998  47.595001  48.167999  48.146572   \n",
       "2024-01-03 NVDA    47.485001  48.183998  47.320000  47.569000  47.547836   \n",
       "2024-01-04 NVDA    47.766998  48.500000  47.507999  47.998001  47.976650   \n",
       "2024-01-05 NVDA    48.462002  49.547001  48.306000  49.097000  49.075161   \n",
       "2024-01-08 NVDA    49.512001  52.275002  49.479000  52.252998  52.229755   \n",
       "\n",
       "Price                 Volume  \n",
       "Date       Ticker             \n",
       "2024-01-02 NVDA    411254000  \n",
       "2024-01-03 NVDA    320896000  \n",
       "2024-01-04 NVDA    306535000  \n",
       "2024-01-05 NVDA    415039000  \n",
       "2024-01-08 NVDA    642510000  "
      ]
     },
     "execution_count": 11,
     "metadata": {},
     "output_type": "execute_result"
    }
   ],
   "source": [
    "data : pd.MultiIndex = data_fetcher.fetch_ohlcv([\"NVDA\", \"AAPL\"], \"2024-01-01\", \"2024-12-31\")\n",
    "data.to_excel(\"NVDA_AAPL_ohlcv.xlsx\")\n",
    "data.head()"
   ]
  },
  {
   "cell_type": "code",
   "execution_count": 12,
   "id": "895ab3fe",
   "metadata": {},
   "outputs": [
    {
     "data": {
      "text/plain": [
       "Date        Ticker\n",
       "2024-01-02  NVDA      48.146572\n",
       "2024-01-03  NVDA      47.547836\n",
       "2024-01-04  NVDA      47.976650\n",
       "2024-01-05  NVDA      49.075161\n",
       "2024-01-08  NVDA      52.229755\n",
       "Name: Adj Close, dtype: float64"
      ]
     },
     "execution_count": 12,
     "metadata": {},
     "output_type": "execute_result"
    }
   ],
   "source": [
    "data['Adj Close'].head()"
   ]
  },
  {
   "cell_type": "code",
   "execution_count": 13,
   "id": "aa536b35",
   "metadata": {},
   "outputs": [
    {
     "data": {
      "text/plain": [
       "Date        Ticker\n",
       "2024-01-02  NVDA           NaN\n",
       "2024-01-03  NVDA     -0.012436\n",
       "2024-01-04  NVDA      0.009019\n",
       "2024-01-05  NVDA      0.022897\n",
       "2024-01-08  NVDA      0.064281\n",
       "                        ...   \n",
       "2024-12-23  AAPL      0.003065\n",
       "2024-12-24  AAPL      0.011478\n",
       "2024-12-26  AAPL      0.003176\n",
       "2024-12-27  AAPL     -0.013242\n",
       "2024-12-30  AAPL     -0.013263\n",
       "Name: Adj Close, Length: 502, dtype: float64"
      ]
     },
     "execution_count": 13,
     "metadata": {},
     "output_type": "execute_result"
    }
   ],
   "source": [
    "daily_return_pct = data['Adj Close'].pct_change()\n",
    "daily_return_pct"
   ]
  },
  {
   "cell_type": "code",
   "execution_count": 14,
   "id": "760754f1",
   "metadata": {},
   "outputs": [
    {
     "data": {
      "text/plain": [
       "Date        Ticker\n",
       "2024-01-02  NVDA           NaN\n",
       "2024-01-03  NVDA     -0.012514\n",
       "2024-01-04  NVDA      0.008978\n",
       "2024-01-05  NVDA      0.022639\n",
       "2024-01-08  NVDA      0.062299\n",
       "                        ...   \n",
       "2024-12-23  AAPL      0.003060\n",
       "2024-12-24  AAPL      0.011413\n",
       "2024-12-26  AAPL      0.003171\n",
       "2024-12-27  AAPL     -0.013331\n",
       "2024-12-30  AAPL     -0.013352\n",
       "Name: Adj Close, Length: 502, dtype: float64"
      ]
     },
     "execution_count": 14,
     "metadata": {},
     "output_type": "execute_result"
    }
   ],
   "source": [
    "import numpy as np\n",
    "daily_return_log = np.log(data['Adj Close'] / data['Adj Close'].shift(1))\n",
    "daily_return_log"
   ]
  },
  {
   "cell_type": "code",
   "execution_count": null,
   "id": "0cac1da3",
   "metadata": {},
   "outputs": [],
   "source": []
  }
 ],
 "metadata": {
  "kernelspec": {
   "display_name": "risklens-py3.11",
   "language": "python",
   "name": "python3"
  },
  "language_info": {
   "codemirror_mode": {
    "name": "ipython",
    "version": 3
   },
   "file_extension": ".py",
   "mimetype": "text/x-python",
   "name": "python",
   "nbconvert_exporter": "python",
   "pygments_lexer": "ipython3",
   "version": "3.11.3"
  }
 },
 "nbformat": 4,
 "nbformat_minor": 5
}
